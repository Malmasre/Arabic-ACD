{
  "nbformat": 4,
  "nbformat_minor": 0,
  "metadata": {
    "colab": {
      "provenance": [],
      "include_colab_link": true
    },
    "kernelspec": {
      "name": "python3",
      "display_name": "Python 3"
    },
    "language_info": {
      "name": "python"
    },
    "accelerator": "GPU",
    "widgets": {
      "application/vnd.jupyter.widget-state+json": {
        "c63dffaa5ba246d4910586b90cc3a81d": {
          "model_module": "@jupyter-widgets/controls",
          "model_name": "HBoxModel",
          "model_module_version": "1.5.0",
          "state": {
            "_view_name": "HBoxView",
            "_dom_classes": [],
            "_model_name": "HBoxModel",
            "_view_module": "@jupyter-widgets/controls",
            "_model_module_version": "1.5.0",
            "_view_count": null,
            "_view_module_version": "1.5.0",
            "box_style": "",
            "layout": "IPY_MODEL_9655b597f57a42dcb786d53144c7fe72",
            "_model_module": "@jupyter-widgets/controls",
            "children": [
              "IPY_MODEL_4d362bea1a4342c5b4d7453569ded4a5",
              "IPY_MODEL_c8534bd013c04e37b0bbb9efde9e3d45",
              "IPY_MODEL_f52ac041e3804d96835f453363bb9195"
            ]
          }
        },
        "9655b597f57a42dcb786d53144c7fe72": {
          "model_module": "@jupyter-widgets/base",
          "model_name": "LayoutModel",
          "model_module_version": "1.2.0",
          "state": {
            "_view_name": "LayoutView",
            "grid_template_rows": null,
            "right": null,
            "justify_content": null,
            "_view_module": "@jupyter-widgets/base",
            "overflow": null,
            "_model_module_version": "1.2.0",
            "_view_count": null,
            "flex_flow": null,
            "width": null,
            "min_width": null,
            "border": null,
            "align_items": null,
            "bottom": null,
            "_model_module": "@jupyter-widgets/base",
            "top": null,
            "grid_column": null,
            "overflow_y": null,
            "overflow_x": null,
            "grid_auto_flow": null,
            "grid_area": null,
            "grid_template_columns": null,
            "flex": null,
            "_model_name": "LayoutModel",
            "justify_items": null,
            "grid_row": null,
            "max_height": null,
            "align_content": null,
            "visibility": null,
            "align_self": null,
            "height": null,
            "min_height": null,
            "padding": null,
            "grid_auto_rows": null,
            "grid_gap": null,
            "max_width": null,
            "order": null,
            "_view_module_version": "1.2.0",
            "grid_template_areas": null,
            "object_position": null,
            "object_fit": null,
            "grid_auto_columns": null,
            "margin": null,
            "display": null,
            "left": null
          }
        },
        "4d362bea1a4342c5b4d7453569ded4a5": {
          "model_module": "@jupyter-widgets/controls",
          "model_name": "HTMLModel",
          "model_module_version": "1.5.0",
          "state": {
            "_view_name": "HTMLView",
            "style": "IPY_MODEL_f26aad56175542ea9fa685ab7a2782f2",
            "_dom_classes": [],
            "description": "",
            "_model_name": "HTMLModel",
            "placeholder": "​",
            "_view_module": "@jupyter-widgets/controls",
            "_model_module_version": "1.5.0",
            "value": "Downloading: 100%",
            "_view_count": null,
            "_view_module_version": "1.5.0",
            "description_tooltip": null,
            "_model_module": "@jupyter-widgets/controls",
            "layout": "IPY_MODEL_c3ccdbab302545fa8eadbf1af29d4adc"
          }
        },
        "c8534bd013c04e37b0bbb9efde9e3d45": {
          "model_module": "@jupyter-widgets/controls",
          "model_name": "FloatProgressModel",
          "model_module_version": "1.5.0",
          "state": {
            "_view_name": "ProgressView",
            "style": "IPY_MODEL_e094780e19b945e2a9a4ba22a5925a01",
            "_dom_classes": [],
            "description": "",
            "_model_name": "FloatProgressModel",
            "bar_style": "success",
            "max": 384,
            "_view_module": "@jupyter-widgets/controls",
            "_model_module_version": "1.5.0",
            "value": 384,
            "_view_count": null,
            "_view_module_version": "1.5.0",
            "orientation": "horizontal",
            "min": 0,
            "description_tooltip": null,
            "_model_module": "@jupyter-widgets/controls",
            "layout": "IPY_MODEL_a6259b9643714b1f8f5802ade6e04cb1"
          }
        },
        "f52ac041e3804d96835f453363bb9195": {
          "model_module": "@jupyter-widgets/controls",
          "model_name": "HTMLModel",
          "model_module_version": "1.5.0",
          "state": {
            "_view_name": "HTMLView",
            "style": "IPY_MODEL_67903847b20a46aa965075e25c3f3caf",
            "_dom_classes": [],
            "description": "",
            "_model_name": "HTMLModel",
            "placeholder": "​",
            "_view_module": "@jupyter-widgets/controls",
            "_model_module_version": "1.5.0",
            "value": " 384/384 [00:00&lt;00:00, 10.1kB/s]",
            "_view_count": null,
            "_view_module_version": "1.5.0",
            "description_tooltip": null,
            "_model_module": "@jupyter-widgets/controls",
            "layout": "IPY_MODEL_281bd1f5e3414a5bbbea7fdfaf5a69be"
          }
        },
        "f26aad56175542ea9fa685ab7a2782f2": {
          "model_module": "@jupyter-widgets/controls",
          "model_name": "DescriptionStyleModel",
          "model_module_version": "1.5.0",
          "state": {
            "_view_name": "StyleView",
            "_model_name": "DescriptionStyleModel",
            "description_width": "",
            "_view_module": "@jupyter-widgets/base",
            "_model_module_version": "1.5.0",
            "_view_count": null,
            "_view_module_version": "1.2.0",
            "_model_module": "@jupyter-widgets/controls"
          }
        },
        "c3ccdbab302545fa8eadbf1af29d4adc": {
          "model_module": "@jupyter-widgets/base",
          "model_name": "LayoutModel",
          "model_module_version": "1.2.0",
          "state": {
            "_view_name": "LayoutView",
            "grid_template_rows": null,
            "right": null,
            "justify_content": null,
            "_view_module": "@jupyter-widgets/base",
            "overflow": null,
            "_model_module_version": "1.2.0",
            "_view_count": null,
            "flex_flow": null,
            "width": null,
            "min_width": null,
            "border": null,
            "align_items": null,
            "bottom": null,
            "_model_module": "@jupyter-widgets/base",
            "top": null,
            "grid_column": null,
            "overflow_y": null,
            "overflow_x": null,
            "grid_auto_flow": null,
            "grid_area": null,
            "grid_template_columns": null,
            "flex": null,
            "_model_name": "LayoutModel",
            "justify_items": null,
            "grid_row": null,
            "max_height": null,
            "align_content": null,
            "visibility": null,
            "align_self": null,
            "height": null,
            "min_height": null,
            "padding": null,
            "grid_auto_rows": null,
            "grid_gap": null,
            "max_width": null,
            "order": null,
            "_view_module_version": "1.2.0",
            "grid_template_areas": null,
            "object_position": null,
            "object_fit": null,
            "grid_auto_columns": null,
            "margin": null,
            "display": null,
            "left": null
          }
        },
        "e094780e19b945e2a9a4ba22a5925a01": {
          "model_module": "@jupyter-widgets/controls",
          "model_name": "ProgressStyleModel",
          "model_module_version": "1.5.0",
          "state": {
            "_view_name": "StyleView",
            "_model_name": "ProgressStyleModel",
            "description_width": "",
            "_view_module": "@jupyter-widgets/base",
            "_model_module_version": "1.5.0",
            "_view_count": null,
            "_view_module_version": "1.2.0",
            "bar_color": null,
            "_model_module": "@jupyter-widgets/controls"
          }
        },
        "a6259b9643714b1f8f5802ade6e04cb1": {
          "model_module": "@jupyter-widgets/base",
          "model_name": "LayoutModel",
          "model_module_version": "1.2.0",
          "state": {
            "_view_name": "LayoutView",
            "grid_template_rows": null,
            "right": null,
            "justify_content": null,
            "_view_module": "@jupyter-widgets/base",
            "overflow": null,
            "_model_module_version": "1.2.0",
            "_view_count": null,
            "flex_flow": null,
            "width": null,
            "min_width": null,
            "border": null,
            "align_items": null,
            "bottom": null,
            "_model_module": "@jupyter-widgets/base",
            "top": null,
            "grid_column": null,
            "overflow_y": null,
            "overflow_x": null,
            "grid_auto_flow": null,
            "grid_area": null,
            "grid_template_columns": null,
            "flex": null,
            "_model_name": "LayoutModel",
            "justify_items": null,
            "grid_row": null,
            "max_height": null,
            "align_content": null,
            "visibility": null,
            "align_self": null,
            "height": null,
            "min_height": null,
            "padding": null,
            "grid_auto_rows": null,
            "grid_gap": null,
            "max_width": null,
            "order": null,
            "_view_module_version": "1.2.0",
            "grid_template_areas": null,
            "object_position": null,
            "object_fit": null,
            "grid_auto_columns": null,
            "margin": null,
            "display": null,
            "left": null
          }
        },
        "67903847b20a46aa965075e25c3f3caf": {
          "model_module": "@jupyter-widgets/controls",
          "model_name": "DescriptionStyleModel",
          "model_module_version": "1.5.0",
          "state": {
            "_view_name": "StyleView",
            "_model_name": "DescriptionStyleModel",
            "description_width": "",
            "_view_module": "@jupyter-widgets/base",
            "_model_module_version": "1.5.0",
            "_view_count": null,
            "_view_module_version": "1.2.0",
            "_model_module": "@jupyter-widgets/controls"
          }
        },
        "281bd1f5e3414a5bbbea7fdfaf5a69be": {
          "model_module": "@jupyter-widgets/base",
          "model_name": "LayoutModel",
          "model_module_version": "1.2.0",
          "state": {
            "_view_name": "LayoutView",
            "grid_template_rows": null,
            "right": null,
            "justify_content": null,
            "_view_module": "@jupyter-widgets/base",
            "overflow": null,
            "_model_module_version": "1.2.0",
            "_view_count": null,
            "flex_flow": null,
            "width": null,
            "min_width": null,
            "border": null,
            "align_items": null,
            "bottom": null,
            "_model_module": "@jupyter-widgets/base",
            "top": null,
            "grid_column": null,
            "overflow_y": null,
            "overflow_x": null,
            "grid_auto_flow": null,
            "grid_area": null,
            "grid_template_columns": null,
            "flex": null,
            "_model_name": "LayoutModel",
            "justify_items": null,
            "grid_row": null,
            "max_height": null,
            "align_content": null,
            "visibility": null,
            "align_self": null,
            "height": null,
            "min_height": null,
            "padding": null,
            "grid_auto_rows": null,
            "grid_gap": null,
            "max_width": null,
            "order": null,
            "_view_module_version": "1.2.0",
            "grid_template_areas": null,
            "object_position": null,
            "object_fit": null,
            "grid_auto_columns": null,
            "margin": null,
            "display": null,
            "left": null
          }
        },
        "5d3d4c67fcdf4ba0bd24c11e9c15ee8a": {
          "model_module": "@jupyter-widgets/controls",
          "model_name": "HBoxModel",
          "model_module_version": "1.5.0",
          "state": {
            "_view_name": "HBoxView",
            "_dom_classes": [],
            "_model_name": "HBoxModel",
            "_view_module": "@jupyter-widgets/controls",
            "_model_module_version": "1.5.0",
            "_view_count": null,
            "_view_module_version": "1.5.0",
            "box_style": "",
            "layout": "IPY_MODEL_f3a1ebb2ade74c66bfa4dc2e56baeca8",
            "_model_module": "@jupyter-widgets/controls",
            "children": [
              "IPY_MODEL_0b7630312e8647f39e8098ee9bff61cc",
              "IPY_MODEL_4e311e4488cd45b7ba6f480a5a609e3e",
              "IPY_MODEL_17a2b95c1af645dd91e431a03f56e57b"
            ]
          }
        },
        "f3a1ebb2ade74c66bfa4dc2e56baeca8": {
          "model_module": "@jupyter-widgets/base",
          "model_name": "LayoutModel",
          "model_module_version": "1.2.0",
          "state": {
            "_view_name": "LayoutView",
            "grid_template_rows": null,
            "right": null,
            "justify_content": null,
            "_view_module": "@jupyter-widgets/base",
            "overflow": null,
            "_model_module_version": "1.2.0",
            "_view_count": null,
            "flex_flow": null,
            "width": null,
            "min_width": null,
            "border": null,
            "align_items": null,
            "bottom": null,
            "_model_module": "@jupyter-widgets/base",
            "top": null,
            "grid_column": null,
            "overflow_y": null,
            "overflow_x": null,
            "grid_auto_flow": null,
            "grid_area": null,
            "grid_template_columns": null,
            "flex": null,
            "_model_name": "LayoutModel",
            "justify_items": null,
            "grid_row": null,
            "max_height": null,
            "align_content": null,
            "visibility": null,
            "align_self": null,
            "height": null,
            "min_height": null,
            "padding": null,
            "grid_auto_rows": null,
            "grid_gap": null,
            "max_width": null,
            "order": null,
            "_view_module_version": "1.2.0",
            "grid_template_areas": null,
            "object_position": null,
            "object_fit": null,
            "grid_auto_columns": null,
            "margin": null,
            "display": null,
            "left": null
          }
        },
        "0b7630312e8647f39e8098ee9bff61cc": {
          "model_module": "@jupyter-widgets/controls",
          "model_name": "HTMLModel",
          "model_module_version": "1.5.0",
          "state": {
            "_view_name": "HTMLView",
            "style": "IPY_MODEL_dd91007828ff44f696904666c3ceab79",
            "_dom_classes": [],
            "description": "",
            "_model_name": "HTMLModel",
            "placeholder": "​",
            "_view_module": "@jupyter-widgets/controls",
            "_model_module_version": "1.5.0",
            "value": "Downloading: 100%",
            "_view_count": null,
            "_view_module_version": "1.5.0",
            "description_tooltip": null,
            "_model_module": "@jupyter-widgets/controls",
            "layout": "IPY_MODEL_8a6ec436dbe24de680f6dfe0f9d44586"
          }
        },
        "4e311e4488cd45b7ba6f480a5a609e3e": {
          "model_module": "@jupyter-widgets/controls",
          "model_name": "FloatProgressModel",
          "model_module_version": "1.5.0",
          "state": {
            "_view_name": "ProgressView",
            "style": "IPY_MODEL_a92f58bc2b5449f8b15688e6d38769c2",
            "_dom_classes": [],
            "description": "",
            "_model_name": "FloatProgressModel",
            "bar_style": "success",
            "max": 381,
            "_view_module": "@jupyter-widgets/controls",
            "_model_module_version": "1.5.0",
            "value": 381,
            "_view_count": null,
            "_view_module_version": "1.5.0",
            "orientation": "horizontal",
            "min": 0,
            "description_tooltip": null,
            "_model_module": "@jupyter-widgets/controls",
            "layout": "IPY_MODEL_e914ebbb6426444e869740c2bbe84a4e"
          }
        },
        "17a2b95c1af645dd91e431a03f56e57b": {
          "model_module": "@jupyter-widgets/controls",
          "model_name": "HTMLModel",
          "model_module_version": "1.5.0",
          "state": {
            "_view_name": "HTMLView",
            "style": "IPY_MODEL_782a1ec8b8ec450a93f11d555e011b17",
            "_dom_classes": [],
            "description": "",
            "_model_name": "HTMLModel",
            "placeholder": "​",
            "_view_module": "@jupyter-widgets/controls",
            "_model_module_version": "1.5.0",
            "value": " 381/381 [00:00&lt;00:00, 12.0kB/s]",
            "_view_count": null,
            "_view_module_version": "1.5.0",
            "description_tooltip": null,
            "_model_module": "@jupyter-widgets/controls",
            "layout": "IPY_MODEL_45a97ae4e72048ca8a33e119787df7db"
          }
        },
        "dd91007828ff44f696904666c3ceab79": {
          "model_module": "@jupyter-widgets/controls",
          "model_name": "DescriptionStyleModel",
          "model_module_version": "1.5.0",
          "state": {
            "_view_name": "StyleView",
            "_model_name": "DescriptionStyleModel",
            "description_width": "",
            "_view_module": "@jupyter-widgets/base",
            "_model_module_version": "1.5.0",
            "_view_count": null,
            "_view_module_version": "1.2.0",
            "_model_module": "@jupyter-widgets/controls"
          }
        },
        "8a6ec436dbe24de680f6dfe0f9d44586": {
          "model_module": "@jupyter-widgets/base",
          "model_name": "LayoutModel",
          "model_module_version": "1.2.0",
          "state": {
            "_view_name": "LayoutView",
            "grid_template_rows": null,
            "right": null,
            "justify_content": null,
            "_view_module": "@jupyter-widgets/base",
            "overflow": null,
            "_model_module_version": "1.2.0",
            "_view_count": null,
            "flex_flow": null,
            "width": null,
            "min_width": null,
            "border": null,
            "align_items": null,
            "bottom": null,
            "_model_module": "@jupyter-widgets/base",
            "top": null,
            "grid_column": null,
            "overflow_y": null,
            "overflow_x": null,
            "grid_auto_flow": null,
            "grid_area": null,
            "grid_template_columns": null,
            "flex": null,
            "_model_name": "LayoutModel",
            "justify_items": null,
            "grid_row": null,
            "max_height": null,
            "align_content": null,
            "visibility": null,
            "align_self": null,
            "height": null,
            "min_height": null,
            "padding": null,
            "grid_auto_rows": null,
            "grid_gap": null,
            "max_width": null,
            "order": null,
            "_view_module_version": "1.2.0",
            "grid_template_areas": null,
            "object_position": null,
            "object_fit": null,
            "grid_auto_columns": null,
            "margin": null,
            "display": null,
            "left": null
          }
        },
        "a92f58bc2b5449f8b15688e6d38769c2": {
          "model_module": "@jupyter-widgets/controls",
          "model_name": "ProgressStyleModel",
          "model_module_version": "1.5.0",
          "state": {
            "_view_name": "StyleView",
            "_model_name": "ProgressStyleModel",
            "description_width": "",
            "_view_module": "@jupyter-widgets/base",
            "_model_module_version": "1.5.0",
            "_view_count": null,
            "_view_module_version": "1.2.0",
            "bar_color": null,
            "_model_module": "@jupyter-widgets/controls"
          }
        },
        "e914ebbb6426444e869740c2bbe84a4e": {
          "model_module": "@jupyter-widgets/base",
          "model_name": "LayoutModel",
          "model_module_version": "1.2.0",
          "state": {
            "_view_name": "LayoutView",
            "grid_template_rows": null,
            "right": null,
            "justify_content": null,
            "_view_module": "@jupyter-widgets/base",
            "overflow": null,
            "_model_module_version": "1.2.0",
            "_view_count": null,
            "flex_flow": null,
            "width": null,
            "min_width": null,
            "border": null,
            "align_items": null,
            "bottom": null,
            "_model_module": "@jupyter-widgets/base",
            "top": null,
            "grid_column": null,
            "overflow_y": null,
            "overflow_x": null,
            "grid_auto_flow": null,
            "grid_area": null,
            "grid_template_columns": null,
            "flex": null,
            "_model_name": "LayoutModel",
            "justify_items": null,
            "grid_row": null,
            "max_height": null,
            "align_content": null,
            "visibility": null,
            "align_self": null,
            "height": null,
            "min_height": null,
            "padding": null,
            "grid_auto_rows": null,
            "grid_gap": null,
            "max_width": null,
            "order": null,
            "_view_module_version": "1.2.0",
            "grid_template_areas": null,
            "object_position": null,
            "object_fit": null,
            "grid_auto_columns": null,
            "margin": null,
            "display": null,
            "left": null
          }
        },
        "782a1ec8b8ec450a93f11d555e011b17": {
          "model_module": "@jupyter-widgets/controls",
          "model_name": "DescriptionStyleModel",
          "model_module_version": "1.5.0",
          "state": {
            "_view_name": "StyleView",
            "_model_name": "DescriptionStyleModel",
            "description_width": "",
            "_view_module": "@jupyter-widgets/base",
            "_model_module_version": "1.5.0",
            "_view_count": null,
            "_view_module_version": "1.2.0",
            "_model_module": "@jupyter-widgets/controls"
          }
        },
        "45a97ae4e72048ca8a33e119787df7db": {
          "model_module": "@jupyter-widgets/base",
          "model_name": "LayoutModel",
          "model_module_version": "1.2.0",
          "state": {
            "_view_name": "LayoutView",
            "grid_template_rows": null,
            "right": null,
            "justify_content": null,
            "_view_module": "@jupyter-widgets/base",
            "overflow": null,
            "_model_module_version": "1.2.0",
            "_view_count": null,
            "flex_flow": null,
            "width": null,
            "min_width": null,
            "border": null,
            "align_items": null,
            "bottom": null,
            "_model_module": "@jupyter-widgets/base",
            "top": null,
            "grid_column": null,
            "overflow_y": null,
            "overflow_x": null,
            "grid_auto_flow": null,
            "grid_area": null,
            "grid_template_columns": null,
            "flex": null,
            "_model_name": "LayoutModel",
            "justify_items": null,
            "grid_row": null,
            "max_height": null,
            "align_content": null,
            "visibility": null,
            "align_self": null,
            "height": null,
            "min_height": null,
            "padding": null,
            "grid_auto_rows": null,
            "grid_gap": null,
            "max_width": null,
            "order": null,
            "_view_module_version": "1.2.0",
            "grid_template_areas": null,
            "object_position": null,
            "object_fit": null,
            "grid_auto_columns": null,
            "margin": null,
            "display": null,
            "left": null
          }
        },
        "f4bd52a333314018a49f7de94786b393": {
          "model_module": "@jupyter-widgets/controls",
          "model_name": "HBoxModel",
          "model_module_version": "1.5.0",
          "state": {
            "_view_name": "HBoxView",
            "_dom_classes": [],
            "_model_name": "HBoxModel",
            "_view_module": "@jupyter-widgets/controls",
            "_model_module_version": "1.5.0",
            "_view_count": null,
            "_view_module_version": "1.5.0",
            "box_style": "",
            "layout": "IPY_MODEL_47bc384c85e04c699fc86791c6efa9cb",
            "_model_module": "@jupyter-widgets/controls",
            "children": [
              "IPY_MODEL_5ef5982b28c64fb8b61f9d615e04f121",
              "IPY_MODEL_84c2581e114049dd956eef3d7014cb51",
              "IPY_MODEL_50b05a1f3d054c648a7cc4e7a1ae4c08"
            ]
          }
        },
        "47bc384c85e04c699fc86791c6efa9cb": {
          "model_module": "@jupyter-widgets/base",
          "model_name": "LayoutModel",
          "model_module_version": "1.2.0",
          "state": {
            "_view_name": "LayoutView",
            "grid_template_rows": null,
            "right": null,
            "justify_content": null,
            "_view_module": "@jupyter-widgets/base",
            "overflow": null,
            "_model_module_version": "1.2.0",
            "_view_count": null,
            "flex_flow": null,
            "width": null,
            "min_width": null,
            "border": null,
            "align_items": null,
            "bottom": null,
            "_model_module": "@jupyter-widgets/base",
            "top": null,
            "grid_column": null,
            "overflow_y": null,
            "overflow_x": null,
            "grid_auto_flow": null,
            "grid_area": null,
            "grid_template_columns": null,
            "flex": null,
            "_model_name": "LayoutModel",
            "justify_items": null,
            "grid_row": null,
            "max_height": null,
            "align_content": null,
            "visibility": null,
            "align_self": null,
            "height": null,
            "min_height": null,
            "padding": null,
            "grid_auto_rows": null,
            "grid_gap": null,
            "max_width": null,
            "order": null,
            "_view_module_version": "1.2.0",
            "grid_template_areas": null,
            "object_position": null,
            "object_fit": null,
            "grid_auto_columns": null,
            "margin": null,
            "display": null,
            "left": null
          }
        },
        "5ef5982b28c64fb8b61f9d615e04f121": {
          "model_module": "@jupyter-widgets/controls",
          "model_name": "HTMLModel",
          "model_module_version": "1.5.0",
          "state": {
            "_view_name": "HTMLView",
            "style": "IPY_MODEL_8ecd2f43b94b426f89426a77b811d18a",
            "_dom_classes": [],
            "description": "",
            "_model_name": "HTMLModel",
            "placeholder": "​",
            "_view_module": "@jupyter-widgets/controls",
            "_model_module_version": "1.5.0",
            "value": "Downloading: 100%",
            "_view_count": null,
            "_view_module_version": "1.5.0",
            "description_tooltip": null,
            "_model_module": "@jupyter-widgets/controls",
            "layout": "IPY_MODEL_0239a6664fd946a09448b81cb420feb1"
          }
        },
        "84c2581e114049dd956eef3d7014cb51": {
          "model_module": "@jupyter-widgets/controls",
          "model_name": "FloatProgressModel",
          "model_module_version": "1.5.0",
          "state": {
            "_view_name": "ProgressView",
            "style": "IPY_MODEL_8cf81094860c425f9ed00cd2a1a5d852",
            "_dom_classes": [],
            "description": "",
            "_model_name": "FloatProgressModel",
            "bar_style": "success",
            "max": 824793,
            "_view_module": "@jupyter-widgets/controls",
            "_model_module_version": "1.5.0",
            "value": 824793,
            "_view_count": null,
            "_view_module_version": "1.5.0",
            "orientation": "horizontal",
            "min": 0,
            "description_tooltip": null,
            "_model_module": "@jupyter-widgets/controls",
            "layout": "IPY_MODEL_abd2929e3bf94aea80e17c22b874242a"
          }
        },
        "50b05a1f3d054c648a7cc4e7a1ae4c08": {
          "model_module": "@jupyter-widgets/controls",
          "model_name": "HTMLModel",
          "model_module_version": "1.5.0",
          "state": {
            "_view_name": "HTMLView",
            "style": "IPY_MODEL_13663e791e05444abf453fa4b48101d9",
            "_dom_classes": [],
            "description": "",
            "_model_name": "HTMLModel",
            "placeholder": "​",
            "_view_module": "@jupyter-widgets/controls",
            "_model_module_version": "1.5.0",
            "value": " 825k/825k [00:00&lt;00:00, 1.95MB/s]",
            "_view_count": null,
            "_view_module_version": "1.5.0",
            "description_tooltip": null,
            "_model_module": "@jupyter-widgets/controls",
            "layout": "IPY_MODEL_80fd2417bf5d45dd9c4bbc75da1ea7ce"
          }
        },
        "8ecd2f43b94b426f89426a77b811d18a": {
          "model_module": "@jupyter-widgets/controls",
          "model_name": "DescriptionStyleModel",
          "model_module_version": "1.5.0",
          "state": {
            "_view_name": "StyleView",
            "_model_name": "DescriptionStyleModel",
            "description_width": "",
            "_view_module": "@jupyter-widgets/base",
            "_model_module_version": "1.5.0",
            "_view_count": null,
            "_view_module_version": "1.2.0",
            "_model_module": "@jupyter-widgets/controls"
          }
        },
        "0239a6664fd946a09448b81cb420feb1": {
          "model_module": "@jupyter-widgets/base",
          "model_name": "LayoutModel",
          "model_module_version": "1.2.0",
          "state": {
            "_view_name": "LayoutView",
            "grid_template_rows": null,
            "right": null,
            "justify_content": null,
            "_view_module": "@jupyter-widgets/base",
            "overflow": null,
            "_model_module_version": "1.2.0",
            "_view_count": null,
            "flex_flow": null,
            "width": null,
            "min_width": null,
            "border": null,
            "align_items": null,
            "bottom": null,
            "_model_module": "@jupyter-widgets/base",
            "top": null,
            "grid_column": null,
            "overflow_y": null,
            "overflow_x": null,
            "grid_auto_flow": null,
            "grid_area": null,
            "grid_template_columns": null,
            "flex": null,
            "_model_name": "LayoutModel",
            "justify_items": null,
            "grid_row": null,
            "max_height": null,
            "align_content": null,
            "visibility": null,
            "align_self": null,
            "height": null,
            "min_height": null,
            "padding": null,
            "grid_auto_rows": null,
            "grid_gap": null,
            "max_width": null,
            "order": null,
            "_view_module_version": "1.2.0",
            "grid_template_areas": null,
            "object_position": null,
            "object_fit": null,
            "grid_auto_columns": null,
            "margin": null,
            "display": null,
            "left": null
          }
        },
        "8cf81094860c425f9ed00cd2a1a5d852": {
          "model_module": "@jupyter-widgets/controls",
          "model_name": "ProgressStyleModel",
          "model_module_version": "1.5.0",
          "state": {
            "_view_name": "StyleView",
            "_model_name": "ProgressStyleModel",
            "description_width": "",
            "_view_module": "@jupyter-widgets/base",
            "_model_module_version": "1.5.0",
            "_view_count": null,
            "_view_module_version": "1.2.0",
            "bar_color": null,
            "_model_module": "@jupyter-widgets/controls"
          }
        },
        "abd2929e3bf94aea80e17c22b874242a": {
          "model_module": "@jupyter-widgets/base",
          "model_name": "LayoutModel",
          "model_module_version": "1.2.0",
          "state": {
            "_view_name": "LayoutView",
            "grid_template_rows": null,
            "right": null,
            "justify_content": null,
            "_view_module": "@jupyter-widgets/base",
            "overflow": null,
            "_model_module_version": "1.2.0",
            "_view_count": null,
            "flex_flow": null,
            "width": null,
            "min_width": null,
            "border": null,
            "align_items": null,
            "bottom": null,
            "_model_module": "@jupyter-widgets/base",
            "top": null,
            "grid_column": null,
            "overflow_y": null,
            "overflow_x": null,
            "grid_auto_flow": null,
            "grid_area": null,
            "grid_template_columns": null,
            "flex": null,
            "_model_name": "LayoutModel",
            "justify_items": null,
            "grid_row": null,
            "max_height": null,
            "align_content": null,
            "visibility": null,
            "align_self": null,
            "height": null,
            "min_height": null,
            "padding": null,
            "grid_auto_rows": null,
            "grid_gap": null,
            "max_width": null,
            "order": null,
            "_view_module_version": "1.2.0",
            "grid_template_areas": null,
            "object_position": null,
            "object_fit": null,
            "grid_auto_columns": null,
            "margin": null,
            "display": null,
            "left": null
          }
        },
        "13663e791e05444abf453fa4b48101d9": {
          "model_module": "@jupyter-widgets/controls",
          "model_name": "DescriptionStyleModel",
          "model_module_version": "1.5.0",
          "state": {
            "_view_name": "StyleView",
            "_model_name": "DescriptionStyleModel",
            "description_width": "",
            "_view_module": "@jupyter-widgets/base",
            "_model_module_version": "1.5.0",
            "_view_count": null,
            "_view_module_version": "1.2.0",
            "_model_module": "@jupyter-widgets/controls"
          }
        },
        "80fd2417bf5d45dd9c4bbc75da1ea7ce": {
          "model_module": "@jupyter-widgets/base",
          "model_name": "LayoutModel",
          "model_module_version": "1.2.0",
          "state": {
            "_view_name": "LayoutView",
            "grid_template_rows": null,
            "right": null,
            "justify_content": null,
            "_view_module": "@jupyter-widgets/base",
            "overflow": null,
            "_model_module_version": "1.2.0",
            "_view_count": null,
            "flex_flow": null,
            "width": null,
            "min_width": null,
            "border": null,
            "align_items": null,
            "bottom": null,
            "_model_module": "@jupyter-widgets/base",
            "top": null,
            "grid_column": null,
            "overflow_y": null,
            "overflow_x": null,
            "grid_auto_flow": null,
            "grid_area": null,
            "grid_template_columns": null,
            "flex": null,
            "_model_name": "LayoutModel",
            "justify_items": null,
            "grid_row": null,
            "max_height": null,
            "align_content": null,
            "visibility": null,
            "align_self": null,
            "height": null,
            "min_height": null,
            "padding": null,
            "grid_auto_rows": null,
            "grid_gap": null,
            "max_width": null,
            "order": null,
            "_view_module_version": "1.2.0",
            "grid_template_areas": null,
            "object_position": null,
            "object_fit": null,
            "grid_auto_columns": null,
            "margin": null,
            "display": null,
            "left": null
          }
        },
        "a71714a46b41491e8f08e44361a2ae8e": {
          "model_module": "@jupyter-widgets/controls",
          "model_name": "HBoxModel",
          "model_module_version": "1.5.0",
          "state": {
            "_view_name": "HBoxView",
            "_dom_classes": [],
            "_model_name": "HBoxModel",
            "_view_module": "@jupyter-widgets/controls",
            "_model_module_version": "1.5.0",
            "_view_count": null,
            "_view_module_version": "1.5.0",
            "box_style": "",
            "layout": "IPY_MODEL_ca99f79d7be34f638fa41faa5a352ff0",
            "_model_module": "@jupyter-widgets/controls",
            "children": [
              "IPY_MODEL_a6f385f7ef9d4e229f9b57f006d677dc",
              "IPY_MODEL_baeab0eb448d4df4b489fa9e9e8a70dc",
              "IPY_MODEL_4f0ba3edff8c4ea6b9345eacfbbfb3aa"
            ]
          }
        },
        "ca99f79d7be34f638fa41faa5a352ff0": {
          "model_module": "@jupyter-widgets/base",
          "model_name": "LayoutModel",
          "model_module_version": "1.2.0",
          "state": {
            "_view_name": "LayoutView",
            "grid_template_rows": null,
            "right": null,
            "justify_content": null,
            "_view_module": "@jupyter-widgets/base",
            "overflow": null,
            "_model_module_version": "1.2.0",
            "_view_count": null,
            "flex_flow": null,
            "width": null,
            "min_width": null,
            "border": null,
            "align_items": null,
            "bottom": null,
            "_model_module": "@jupyter-widgets/base",
            "top": null,
            "grid_column": null,
            "overflow_y": null,
            "overflow_x": null,
            "grid_auto_flow": null,
            "grid_area": null,
            "grid_template_columns": null,
            "flex": null,
            "_model_name": "LayoutModel",
            "justify_items": null,
            "grid_row": null,
            "max_height": null,
            "align_content": null,
            "visibility": null,
            "align_self": null,
            "height": null,
            "min_height": null,
            "padding": null,
            "grid_auto_rows": null,
            "grid_gap": null,
            "max_width": null,
            "order": null,
            "_view_module_version": "1.2.0",
            "grid_template_areas": null,
            "object_position": null,
            "object_fit": null,
            "grid_auto_columns": null,
            "margin": null,
            "display": null,
            "left": null
          }
        },
        "a6f385f7ef9d4e229f9b57f006d677dc": {
          "model_module": "@jupyter-widgets/controls",
          "model_name": "HTMLModel",
          "model_module_version": "1.5.0",
          "state": {
            "_view_name": "HTMLView",
            "style": "IPY_MODEL_85898221ef4e4d5e8a5a292600b2a1d7",
            "_dom_classes": [],
            "description": "",
            "_model_name": "HTMLModel",
            "placeholder": "​",
            "_view_module": "@jupyter-widgets/controls",
            "_model_module_version": "1.5.0",
            "value": "Downloading: 100%",
            "_view_count": null,
            "_view_module_version": "1.5.0",
            "description_tooltip": null,
            "_model_module": "@jupyter-widgets/controls",
            "layout": "IPY_MODEL_023a4c238235447daf1b2d93238881b5"
          }
        },
        "baeab0eb448d4df4b489fa9e9e8a70dc": {
          "model_module": "@jupyter-widgets/controls",
          "model_name": "FloatProgressModel",
          "model_module_version": "1.5.0",
          "state": {
            "_view_name": "ProgressView",
            "style": "IPY_MODEL_1e664cf074f648688b9bec0a841d5d83",
            "_dom_classes": [],
            "description": "",
            "_model_name": "FloatProgressModel",
            "bar_style": "success",
            "max": 2642362,
            "_view_module": "@jupyter-widgets/controls",
            "_model_module_version": "1.5.0",
            "value": 2642362,
            "_view_count": null,
            "_view_module_version": "1.5.0",
            "orientation": "horizontal",
            "min": 0,
            "description_tooltip": null,
            "_model_module": "@jupyter-widgets/controls",
            "layout": "IPY_MODEL_c275880e53c94becae663e5c77c9cd03"
          }
        },
        "4f0ba3edff8c4ea6b9345eacfbbfb3aa": {
          "model_module": "@jupyter-widgets/controls",
          "model_name": "HTMLModel",
          "model_module_version": "1.5.0",
          "state": {
            "_view_name": "HTMLView",
            "style": "IPY_MODEL_8f19169457e14ab39f011a89a07f8abb",
            "_dom_classes": [],
            "description": "",
            "_model_name": "HTMLModel",
            "placeholder": "​",
            "_view_module": "@jupyter-widgets/controls",
            "_model_module_version": "1.5.0",
            "value": " 2.64M/2.64M [00:00&lt;00:00, 2.04MB/s]",
            "_view_count": null,
            "_view_module_version": "1.5.0",
            "description_tooltip": null,
            "_model_module": "@jupyter-widgets/controls",
            "layout": "IPY_MODEL_e2da475f4daa40f795372fe7e3d63db8"
          }
        },
        "85898221ef4e4d5e8a5a292600b2a1d7": {
          "model_module": "@jupyter-widgets/controls",
          "model_name": "DescriptionStyleModel",
          "model_module_version": "1.5.0",
          "state": {
            "_view_name": "StyleView",
            "_model_name": "DescriptionStyleModel",
            "description_width": "",
            "_view_module": "@jupyter-widgets/base",
            "_model_module_version": "1.5.0",
            "_view_count": null,
            "_view_module_version": "1.2.0",
            "_model_module": "@jupyter-widgets/controls"
          }
        },
        "023a4c238235447daf1b2d93238881b5": {
          "model_module": "@jupyter-widgets/base",
          "model_name": "LayoutModel",
          "model_module_version": "1.2.0",
          "state": {
            "_view_name": "LayoutView",
            "grid_template_rows": null,
            "right": null,
            "justify_content": null,
            "_view_module": "@jupyter-widgets/base",
            "overflow": null,
            "_model_module_version": "1.2.0",
            "_view_count": null,
            "flex_flow": null,
            "width": null,
            "min_width": null,
            "border": null,
            "align_items": null,
            "bottom": null,
            "_model_module": "@jupyter-widgets/base",
            "top": null,
            "grid_column": null,
            "overflow_y": null,
            "overflow_x": null,
            "grid_auto_flow": null,
            "grid_area": null,
            "grid_template_columns": null,
            "flex": null,
            "_model_name": "LayoutModel",
            "justify_items": null,
            "grid_row": null,
            "max_height": null,
            "align_content": null,
            "visibility": null,
            "align_self": null,
            "height": null,
            "min_height": null,
            "padding": null,
            "grid_auto_rows": null,
            "grid_gap": null,
            "max_width": null,
            "order": null,
            "_view_module_version": "1.2.0",
            "grid_template_areas": null,
            "object_position": null,
            "object_fit": null,
            "grid_auto_columns": null,
            "margin": null,
            "display": null,
            "left": null
          }
        },
        "1e664cf074f648688b9bec0a841d5d83": {
          "model_module": "@jupyter-widgets/controls",
          "model_name": "ProgressStyleModel",
          "model_module_version": "1.5.0",
          "state": {
            "_view_name": "StyleView",
            "_model_name": "ProgressStyleModel",
            "description_width": "",
            "_view_module": "@jupyter-widgets/base",
            "_model_module_version": "1.5.0",
            "_view_count": null,
            "_view_module_version": "1.2.0",
            "bar_color": null,
            "_model_module": "@jupyter-widgets/controls"
          }
        },
        "c275880e53c94becae663e5c77c9cd03": {
          "model_module": "@jupyter-widgets/base",
          "model_name": "LayoutModel",
          "model_module_version": "1.2.0",
          "state": {
            "_view_name": "LayoutView",
            "grid_template_rows": null,
            "right": null,
            "justify_content": null,
            "_view_module": "@jupyter-widgets/base",
            "overflow": null,
            "_model_module_version": "1.2.0",
            "_view_count": null,
            "flex_flow": null,
            "width": null,
            "min_width": null,
            "border": null,
            "align_items": null,
            "bottom": null,
            "_model_module": "@jupyter-widgets/base",
            "top": null,
            "grid_column": null,
            "overflow_y": null,
            "overflow_x": null,
            "grid_auto_flow": null,
            "grid_area": null,
            "grid_template_columns": null,
            "flex": null,
            "_model_name": "LayoutModel",
            "justify_items": null,
            "grid_row": null,
            "max_height": null,
            "align_content": null,
            "visibility": null,
            "align_self": null,
            "height": null,
            "min_height": null,
            "padding": null,
            "grid_auto_rows": null,
            "grid_gap": null,
            "max_width": null,
            "order": null,
            "_view_module_version": "1.2.0",
            "grid_template_areas": null,
            "object_position": null,
            "object_fit": null,
            "grid_auto_columns": null,
            "margin": null,
            "display": null,
            "left": null
          }
        },
        "8f19169457e14ab39f011a89a07f8abb": {
          "model_module": "@jupyter-widgets/controls",
          "model_name": "DescriptionStyleModel",
          "model_module_version": "1.5.0",
          "state": {
            "_view_name": "StyleView",
            "_model_name": "DescriptionStyleModel",
            "description_width": "",
            "_view_module": "@jupyter-widgets/base",
            "_model_module_version": "1.5.0",
            "_view_count": null,
            "_view_module_version": "1.2.0",
            "_model_module": "@jupyter-widgets/controls"
          }
        },
        "e2da475f4daa40f795372fe7e3d63db8": {
          "model_module": "@jupyter-widgets/base",
          "model_name": "LayoutModel",
          "model_module_version": "1.2.0",
          "state": {
            "_view_name": "LayoutView",
            "grid_template_rows": null,
            "right": null,
            "justify_content": null,
            "_view_module": "@jupyter-widgets/base",
            "overflow": null,
            "_model_module_version": "1.2.0",
            "_view_count": null,
            "flex_flow": null,
            "width": null,
            "min_width": null,
            "border": null,
            "align_items": null,
            "bottom": null,
            "_model_module": "@jupyter-widgets/base",
            "top": null,
            "grid_column": null,
            "overflow_y": null,
            "overflow_x": null,
            "grid_auto_flow": null,
            "grid_area": null,
            "grid_template_columns": null,
            "flex": null,
            "_model_name": "LayoutModel",
            "justify_items": null,
            "grid_row": null,
            "max_height": null,
            "align_content": null,
            "visibility": null,
            "align_self": null,
            "height": null,
            "min_height": null,
            "padding": null,
            "grid_auto_rows": null,
            "grid_gap": null,
            "max_width": null,
            "order": null,
            "_view_module_version": "1.2.0",
            "grid_template_areas": null,
            "object_position": null,
            "object_fit": null,
            "grid_auto_columns": null,
            "margin": null,
            "display": null,
            "left": null
          }
        },
        "f13d9ad1a5364c6abd7749b04e52a835": {
          "model_module": "@jupyter-widgets/controls",
          "model_name": "HBoxModel",
          "model_module_version": "1.5.0",
          "state": {
            "_view_name": "HBoxView",
            "_dom_classes": [],
            "_model_name": "HBoxModel",
            "_view_module": "@jupyter-widgets/controls",
            "_model_module_version": "1.5.0",
            "_view_count": null,
            "_view_module_version": "1.5.0",
            "box_style": "",
            "layout": "IPY_MODEL_b3c35bf79d0841e9b27bbf4365247b45",
            "_model_module": "@jupyter-widgets/controls",
            "children": [
              "IPY_MODEL_244d232529a846af9d63fb1bdac30cf4",
              "IPY_MODEL_c15b03c1a36a44df9d65adf20474c5a8",
              "IPY_MODEL_b72710e066194982ae4f7bad3515f3fd"
            ]
          }
        },
        "b3c35bf79d0841e9b27bbf4365247b45": {
          "model_module": "@jupyter-widgets/base",
          "model_name": "LayoutModel",
          "model_module_version": "1.2.0",
          "state": {
            "_view_name": "LayoutView",
            "grid_template_rows": null,
            "right": null,
            "justify_content": null,
            "_view_module": "@jupyter-widgets/base",
            "overflow": null,
            "_model_module_version": "1.2.0",
            "_view_count": null,
            "flex_flow": null,
            "width": null,
            "min_width": null,
            "border": null,
            "align_items": null,
            "bottom": null,
            "_model_module": "@jupyter-widgets/base",
            "top": null,
            "grid_column": null,
            "overflow_y": null,
            "overflow_x": null,
            "grid_auto_flow": null,
            "grid_area": null,
            "grid_template_columns": null,
            "flex": null,
            "_model_name": "LayoutModel",
            "justify_items": null,
            "grid_row": null,
            "max_height": null,
            "align_content": null,
            "visibility": null,
            "align_self": null,
            "height": null,
            "min_height": null,
            "padding": null,
            "grid_auto_rows": null,
            "grid_gap": null,
            "max_width": null,
            "order": null,
            "_view_module_version": "1.2.0",
            "grid_template_areas": null,
            "object_position": null,
            "object_fit": null,
            "grid_auto_columns": null,
            "margin": null,
            "display": null,
            "left": null
          }
        },
        "244d232529a846af9d63fb1bdac30cf4": {
          "model_module": "@jupyter-widgets/controls",
          "model_name": "HTMLModel",
          "model_module_version": "1.5.0",
          "state": {
            "_view_name": "HTMLView",
            "style": "IPY_MODEL_f5f9e834e0e84b7fbe84a5022fbc7556",
            "_dom_classes": [],
            "description": "",
            "_model_name": "HTMLModel",
            "placeholder": "​",
            "_view_module": "@jupyter-widgets/controls",
            "_model_module_version": "1.5.0",
            "value": "Downloading: 100%",
            "_view_count": null,
            "_view_module_version": "1.5.0",
            "description_tooltip": null,
            "_model_module": "@jupyter-widgets/controls",
            "layout": "IPY_MODEL_47d98d44835b448aa03f09ada75b20e4"
          }
        },
        "c15b03c1a36a44df9d65adf20474c5a8": {
          "model_module": "@jupyter-widgets/controls",
          "model_name": "FloatProgressModel",
          "model_module_version": "1.5.0",
          "state": {
            "_view_name": "ProgressView",
            "style": "IPY_MODEL_509a79d09bb74411bb63da507a22454d",
            "_dom_classes": [],
            "description": "",
            "_model_name": "FloatProgressModel",
            "bar_style": "success",
            "max": 112,
            "_view_module": "@jupyter-widgets/controls",
            "_model_module_version": "1.5.0",
            "value": 112,
            "_view_count": null,
            "_view_module_version": "1.5.0",
            "orientation": "horizontal",
            "min": 0,
            "description_tooltip": null,
            "_model_module": "@jupyter-widgets/controls",
            "layout": "IPY_MODEL_da7d9a8aa9654e1182946f6dd91711f1"
          }
        },
        "b72710e066194982ae4f7bad3515f3fd": {
          "model_module": "@jupyter-widgets/controls",
          "model_name": "HTMLModel",
          "model_module_version": "1.5.0",
          "state": {
            "_view_name": "HTMLView",
            "style": "IPY_MODEL_f451ab764f9e40088dbcd9e443f8aac4",
            "_dom_classes": [],
            "description": "",
            "_model_name": "HTMLModel",
            "placeholder": "​",
            "_view_module": "@jupyter-widgets/controls",
            "_model_module_version": "1.5.0",
            "value": " 112/112 [00:00&lt;00:00, 3.02kB/s]",
            "_view_count": null,
            "_view_module_version": "1.5.0",
            "description_tooltip": null,
            "_model_module": "@jupyter-widgets/controls",
            "layout": "IPY_MODEL_5d1763b6487d4d4c899cc90f327cd40f"
          }
        },
        "f5f9e834e0e84b7fbe84a5022fbc7556": {
          "model_module": "@jupyter-widgets/controls",
          "model_name": "DescriptionStyleModel",
          "model_module_version": "1.5.0",
          "state": {
            "_view_name": "StyleView",
            "_model_name": "DescriptionStyleModel",
            "description_width": "",
            "_view_module": "@jupyter-widgets/base",
            "_model_module_version": "1.5.0",
            "_view_count": null,
            "_view_module_version": "1.2.0",
            "_model_module": "@jupyter-widgets/controls"
          }
        },
        "47d98d44835b448aa03f09ada75b20e4": {
          "model_module": "@jupyter-widgets/base",
          "model_name": "LayoutModel",
          "model_module_version": "1.2.0",
          "state": {
            "_view_name": "LayoutView",
            "grid_template_rows": null,
            "right": null,
            "justify_content": null,
            "_view_module": "@jupyter-widgets/base",
            "overflow": null,
            "_model_module_version": "1.2.0",
            "_view_count": null,
            "flex_flow": null,
            "width": null,
            "min_width": null,
            "border": null,
            "align_items": null,
            "bottom": null,
            "_model_module": "@jupyter-widgets/base",
            "top": null,
            "grid_column": null,
            "overflow_y": null,
            "overflow_x": null,
            "grid_auto_flow": null,
            "grid_area": null,
            "grid_template_columns": null,
            "flex": null,
            "_model_name": "LayoutModel",
            "justify_items": null,
            "grid_row": null,
            "max_height": null,
            "align_content": null,
            "visibility": null,
            "align_self": null,
            "height": null,
            "min_height": null,
            "padding": null,
            "grid_auto_rows": null,
            "grid_gap": null,
            "max_width": null,
            "order": null,
            "_view_module_version": "1.2.0",
            "grid_template_areas": null,
            "object_position": null,
            "object_fit": null,
            "grid_auto_columns": null,
            "margin": null,
            "display": null,
            "left": null
          }
        },
        "509a79d09bb74411bb63da507a22454d": {
          "model_module": "@jupyter-widgets/controls",
          "model_name": "ProgressStyleModel",
          "model_module_version": "1.5.0",
          "state": {
            "_view_name": "StyleView",
            "_model_name": "ProgressStyleModel",
            "description_width": "",
            "_view_module": "@jupyter-widgets/base",
            "_model_module_version": "1.5.0",
            "_view_count": null,
            "_view_module_version": "1.2.0",
            "bar_color": null,
            "_model_module": "@jupyter-widgets/controls"
          }
        },
        "da7d9a8aa9654e1182946f6dd91711f1": {
          "model_module": "@jupyter-widgets/base",
          "model_name": "LayoutModel",
          "model_module_version": "1.2.0",
          "state": {
            "_view_name": "LayoutView",
            "grid_template_rows": null,
            "right": null,
            "justify_content": null,
            "_view_module": "@jupyter-widgets/base",
            "overflow": null,
            "_model_module_version": "1.2.0",
            "_view_count": null,
            "flex_flow": null,
            "width": null,
            "min_width": null,
            "border": null,
            "align_items": null,
            "bottom": null,
            "_model_module": "@jupyter-widgets/base",
            "top": null,
            "grid_column": null,
            "overflow_y": null,
            "overflow_x": null,
            "grid_auto_flow": null,
            "grid_area": null,
            "grid_template_columns": null,
            "flex": null,
            "_model_name": "LayoutModel",
            "justify_items": null,
            "grid_row": null,
            "max_height": null,
            "align_content": null,
            "visibility": null,
            "align_self": null,
            "height": null,
            "min_height": null,
            "padding": null,
            "grid_auto_rows": null,
            "grid_gap": null,
            "max_width": null,
            "order": null,
            "_view_module_version": "1.2.0",
            "grid_template_areas": null,
            "object_position": null,
            "object_fit": null,
            "grid_auto_columns": null,
            "margin": null,
            "display": null,
            "left": null
          }
        },
        "f451ab764f9e40088dbcd9e443f8aac4": {
          "model_module": "@jupyter-widgets/controls",
          "model_name": "DescriptionStyleModel",
          "model_module_version": "1.5.0",
          "state": {
            "_view_name": "StyleView",
            "_model_name": "DescriptionStyleModel",
            "description_width": "",
            "_view_module": "@jupyter-widgets/base",
            "_model_module_version": "1.5.0",
            "_view_count": null,
            "_view_module_version": "1.2.0",
            "_model_module": "@jupyter-widgets/controls"
          }
        },
        "5d1763b6487d4d4c899cc90f327cd40f": {
          "model_module": "@jupyter-widgets/base",
          "model_name": "LayoutModel",
          "model_module_version": "1.2.0",
          "state": {
            "_view_name": "LayoutView",
            "grid_template_rows": null,
            "right": null,
            "justify_content": null,
            "_view_module": "@jupyter-widgets/base",
            "overflow": null,
            "_model_module_version": "1.2.0",
            "_view_count": null,
            "flex_flow": null,
            "width": null,
            "min_width": null,
            "border": null,
            "align_items": null,
            "bottom": null,
            "_model_module": "@jupyter-widgets/base",
            "top": null,
            "grid_column": null,
            "overflow_y": null,
            "overflow_x": null,
            "grid_auto_flow": null,
            "grid_area": null,
            "grid_template_columns": null,
            "flex": null,
            "_model_name": "LayoutModel",
            "justify_items": null,
            "grid_row": null,
            "max_height": null,
            "align_content": null,
            "visibility": null,
            "align_self": null,
            "height": null,
            "min_height": null,
            "padding": null,
            "grid_auto_rows": null,
            "grid_gap": null,
            "max_width": null,
            "order": null,
            "_view_module_version": "1.2.0",
            "grid_template_areas": null,
            "object_position": null,
            "object_fit": null,
            "grid_auto_columns": null,
            "margin": null,
            "display": null,
            "left": null
          }
        },
        "62e9f8e2bcf14865a7200f3deefab0d6": {
          "model_module": "@jupyter-widgets/controls",
          "model_name": "HBoxModel",
          "model_module_version": "1.5.0",
          "state": {
            "_view_name": "HBoxView",
            "_dom_classes": [],
            "_model_name": "HBoxModel",
            "_view_module": "@jupyter-widgets/controls",
            "_model_module_version": "1.5.0",
            "_view_count": null,
            "_view_module_version": "1.5.0",
            "box_style": "",
            "layout": "IPY_MODEL_2eb2c878c93047dab3ab89764f5d0cf4",
            "_model_module": "@jupyter-widgets/controls",
            "children": [
              "IPY_MODEL_33accbacc3ed406da7ddf227e8ba70fb",
              "IPY_MODEL_5eb6be600ae744ea9351e2b1c5158080",
              "IPY_MODEL_a6d8648ac021403a97ecfa3fe4a6e9d6"
            ]
          }
        },
        "2eb2c878c93047dab3ab89764f5d0cf4": {
          "model_module": "@jupyter-widgets/base",
          "model_name": "LayoutModel",
          "model_module_version": "1.2.0",
          "state": {
            "_view_name": "LayoutView",
            "grid_template_rows": null,
            "right": null,
            "justify_content": null,
            "_view_module": "@jupyter-widgets/base",
            "overflow": null,
            "_model_module_version": "1.2.0",
            "_view_count": null,
            "flex_flow": null,
            "width": null,
            "min_width": null,
            "border": null,
            "align_items": null,
            "bottom": null,
            "_model_module": "@jupyter-widgets/base",
            "top": null,
            "grid_column": null,
            "overflow_y": null,
            "overflow_x": null,
            "grid_auto_flow": null,
            "grid_area": null,
            "grid_template_columns": null,
            "flex": null,
            "_model_name": "LayoutModel",
            "justify_items": null,
            "grid_row": null,
            "max_height": null,
            "align_content": null,
            "visibility": null,
            "align_self": null,
            "height": null,
            "min_height": null,
            "padding": null,
            "grid_auto_rows": null,
            "grid_gap": null,
            "max_width": null,
            "order": null,
            "_view_module_version": "1.2.0",
            "grid_template_areas": null,
            "object_position": null,
            "object_fit": null,
            "grid_auto_columns": null,
            "margin": null,
            "display": null,
            "left": null
          }
        },
        "33accbacc3ed406da7ddf227e8ba70fb": {
          "model_module": "@jupyter-widgets/controls",
          "model_name": "HTMLModel",
          "model_module_version": "1.5.0",
          "state": {
            "_view_name": "HTMLView",
            "style": "IPY_MODEL_a2ecd3184f054b53821e86c6b12cbf44",
            "_dom_classes": [],
            "description": "",
            "_model_name": "HTMLModel",
            "placeholder": "​",
            "_view_module": "@jupyter-widgets/controls",
            "_model_module_version": "1.5.0",
            "value": "Downloading: 100%",
            "_view_count": null,
            "_view_module_version": "1.5.0",
            "description_tooltip": null,
            "_model_module": "@jupyter-widgets/controls",
            "layout": "IPY_MODEL_e0adc65f5cda48b58b94506aed5f2748"
          }
        },
        "5eb6be600ae744ea9351e2b1c5158080": {
          "model_module": "@jupyter-widgets/controls",
          "model_name": "FloatProgressModel",
          "model_module_version": "1.5.0",
          "state": {
            "_view_name": "ProgressView",
            "style": "IPY_MODEL_0fd47d5e8c804b138c1d65fcc62002e5",
            "_dom_classes": [],
            "description": "",
            "_model_name": "FloatProgressModel",
            "bar_style": "success",
            "max": 741883760,
            "_view_module": "@jupyter-widgets/controls",
            "_model_module_version": "1.5.0",
            "value": 741883760,
            "_view_count": null,
            "_view_module_version": "1.5.0",
            "orientation": "horizontal",
            "min": 0,
            "description_tooltip": null,
            "_model_module": "@jupyter-widgets/controls",
            "layout": "IPY_MODEL_2261165edc2c42eeb920896fdb5c1a38"
          }
        },
        "a6d8648ac021403a97ecfa3fe4a6e9d6": {
          "model_module": "@jupyter-widgets/controls",
          "model_name": "HTMLModel",
          "model_module_version": "1.5.0",
          "state": {
            "_view_name": "HTMLView",
            "style": "IPY_MODEL_9de18102d2a549a382f9c126bf0aae1f",
            "_dom_classes": [],
            "description": "",
            "_model_name": "HTMLModel",
            "placeholder": "​",
            "_view_module": "@jupyter-widgets/controls",
            "_model_module_version": "1.5.0",
            "value": " 742M/742M [00:23&lt;00:00, 29.2MB/s]",
            "_view_count": null,
            "_view_module_version": "1.5.0",
            "description_tooltip": null,
            "_model_module": "@jupyter-widgets/controls",
            "layout": "IPY_MODEL_067a573285c44053baa127c553348e42"
          }
        },
        "a2ecd3184f054b53821e86c6b12cbf44": {
          "model_module": "@jupyter-widgets/controls",
          "model_name": "DescriptionStyleModel",
          "model_module_version": "1.5.0",
          "state": {
            "_view_name": "StyleView",
            "_model_name": "DescriptionStyleModel",
            "description_width": "",
            "_view_module": "@jupyter-widgets/base",
            "_model_module_version": "1.5.0",
            "_view_count": null,
            "_view_module_version": "1.2.0",
            "_model_module": "@jupyter-widgets/controls"
          }
        },
        "e0adc65f5cda48b58b94506aed5f2748": {
          "model_module": "@jupyter-widgets/base",
          "model_name": "LayoutModel",
          "model_module_version": "1.2.0",
          "state": {
            "_view_name": "LayoutView",
            "grid_template_rows": null,
            "right": null,
            "justify_content": null,
            "_view_module": "@jupyter-widgets/base",
            "overflow": null,
            "_model_module_version": "1.2.0",
            "_view_count": null,
            "flex_flow": null,
            "width": null,
            "min_width": null,
            "border": null,
            "align_items": null,
            "bottom": null,
            "_model_module": "@jupyter-widgets/base",
            "top": null,
            "grid_column": null,
            "overflow_y": null,
            "overflow_x": null,
            "grid_auto_flow": null,
            "grid_area": null,
            "grid_template_columns": null,
            "flex": null,
            "_model_name": "LayoutModel",
            "justify_items": null,
            "grid_row": null,
            "max_height": null,
            "align_content": null,
            "visibility": null,
            "align_self": null,
            "height": null,
            "min_height": null,
            "padding": null,
            "grid_auto_rows": null,
            "grid_gap": null,
            "max_width": null,
            "order": null,
            "_view_module_version": "1.2.0",
            "grid_template_areas": null,
            "object_position": null,
            "object_fit": null,
            "grid_auto_columns": null,
            "margin": null,
            "display": null,
            "left": null
          }
        },
        "0fd47d5e8c804b138c1d65fcc62002e5": {
          "model_module": "@jupyter-widgets/controls",
          "model_name": "ProgressStyleModel",
          "model_module_version": "1.5.0",
          "state": {
            "_view_name": "StyleView",
            "_model_name": "ProgressStyleModel",
            "description_width": "",
            "_view_module": "@jupyter-widgets/base",
            "_model_module_version": "1.5.0",
            "_view_count": null,
            "_view_module_version": "1.2.0",
            "bar_color": null,
            "_model_module": "@jupyter-widgets/controls"
          }
        },
        "2261165edc2c42eeb920896fdb5c1a38": {
          "model_module": "@jupyter-widgets/base",
          "model_name": "LayoutModel",
          "model_module_version": "1.2.0",
          "state": {
            "_view_name": "LayoutView",
            "grid_template_rows": null,
            "right": null,
            "justify_content": null,
            "_view_module": "@jupyter-widgets/base",
            "overflow": null,
            "_model_module_version": "1.2.0",
            "_view_count": null,
            "flex_flow": null,
            "width": null,
            "min_width": null,
            "border": null,
            "align_items": null,
            "bottom": null,
            "_model_module": "@jupyter-widgets/base",
            "top": null,
            "grid_column": null,
            "overflow_y": null,
            "overflow_x": null,
            "grid_auto_flow": null,
            "grid_area": null,
            "grid_template_columns": null,
            "flex": null,
            "_model_name": "LayoutModel",
            "justify_items": null,
            "grid_row": null,
            "max_height": null,
            "align_content": null,
            "visibility": null,
            "align_self": null,
            "height": null,
            "min_height": null,
            "padding": null,
            "grid_auto_rows": null,
            "grid_gap": null,
            "max_width": null,
            "order": null,
            "_view_module_version": "1.2.0",
            "grid_template_areas": null,
            "object_position": null,
            "object_fit": null,
            "grid_auto_columns": null,
            "margin": null,
            "display": null,
            "left": null
          }
        },
        "9de18102d2a549a382f9c126bf0aae1f": {
          "model_module": "@jupyter-widgets/controls",
          "model_name": "DescriptionStyleModel",
          "model_module_version": "1.5.0",
          "state": {
            "_view_name": "StyleView",
            "_model_name": "DescriptionStyleModel",
            "description_width": "",
            "_view_module": "@jupyter-widgets/base",
            "_model_module_version": "1.5.0",
            "_view_count": null,
            "_view_module_version": "1.2.0",
            "_model_module": "@jupyter-widgets/controls"
          }
        },
        "067a573285c44053baa127c553348e42": {
          "model_module": "@jupyter-widgets/base",
          "model_name": "LayoutModel",
          "model_module_version": "1.2.0",
          "state": {
            "_view_name": "LayoutView",
            "grid_template_rows": null,
            "right": null,
            "justify_content": null,
            "_view_module": "@jupyter-widgets/base",
            "overflow": null,
            "_model_module_version": "1.2.0",
            "_view_count": null,
            "flex_flow": null,
            "width": null,
            "min_width": null,
            "border": null,
            "align_items": null,
            "bottom": null,
            "_model_module": "@jupyter-widgets/base",
            "top": null,
            "grid_column": null,
            "overflow_y": null,
            "overflow_x": null,
            "grid_auto_flow": null,
            "grid_area": null,
            "grid_template_columns": null,
            "flex": null,
            "_model_name": "LayoutModel",
            "justify_items": null,
            "grid_row": null,
            "max_height": null,
            "align_content": null,
            "visibility": null,
            "align_self": null,
            "height": null,
            "min_height": null,
            "padding": null,
            "grid_auto_rows": null,
            "grid_gap": null,
            "max_width": null,
            "order": null,
            "_view_module_version": "1.2.0",
            "grid_template_areas": null,
            "object_position": null,
            "object_fit": null,
            "grid_auto_columns": null,
            "margin": null,
            "display": null,
            "left": null
          }
        }
      }
    }
  },
  "cells": [
    {
      "cell_type": "markdown",
      "metadata": {
        "id": "view-in-github",
        "colab_type": "text"
      },
      "source": [
        "<a href=\"https://colab.research.google.com/github/Malmasre/Arabic-ACD/blob/main/3_ARABERT_Teacher.ipynb\" target=\"_parent\"><img src=\"https://colab.research.google.com/assets/colab-badge.svg\" alt=\"Open In Colab\"/></a>"
      ]
    },
    {
      "cell_type": "markdown",
      "source": [
        "Step1: Teacher Model"
      ],
      "metadata": {
        "id": "Kw1lOsszcVXu"
      }
    },
    {
      "cell_type": "code",
      "metadata": {
        "id": "wlO_j4CJxnuw"
      },
      "source": [
        "# !pip install -U plotly\n",
        "# !pip install pyyaml==5.4.1\n",
        "# !pip install ktrain\n",
        "# !pip install git+https://github.com/amaiya/eli5@tfkeras_0_10_1\n",
        "# !pip install git+https://github.com/amaiya/stellargraph@no_tf_dep_082"
      ],
      "execution_count": null,
      "outputs": []
    },
    {
      "cell_type": "markdown",
      "source": [
        "**Restart immediately after running the above cell**"
      ],
      "metadata": {
        "id": "wafa9EGpjRiB"
      }
    },
    {
      "cell_type": "markdown",
      "metadata": {
        "id": "27vkeCUqxnuh"
      },
      "source": [
        "# Imports and Preparation"
      ]
    },
    {
      "cell_type": "code",
      "metadata": {
        "id": "yFBXyLelimLd"
      },
      "source": [
        "#allows us to create the Data and Figure objects\n",
        "from plotly.graph_objs import *\n",
        "#plotly.plotly pushes your charts to the cloud  \n",
        "# import chart_studio.plotly as py\n",
        "# import plotly.figure_factory as ff\n",
        "import plotly.express as px\n",
        "# import chart_studio.plotly as py\n",
        "\n",
        "import matplotlib.pyplot as plt\n",
        "%matplotlib inline\n",
        "\n",
        "# work with cufflinks offline and set its theme\n",
        "import plotly.io as pio\n",
        "pio.templates.default = \"plotly_white\"\n",
        "from plotly.subplots import make_subplots\n",
        "\n",
        "\n",
        "\n",
        "import pandas as pd\n",
        "import numpy as np\n",
        "\n",
        "# from utils import *\n",
        "\n",
        "import os\n",
        "import json\n",
        "import re\n",
        "import sys"
      ],
      "execution_count": null,
      "outputs": []
    },
    {
      "cell_type": "code",
      "metadata": {
        "id": "6FlX7ItfMAXF"
      },
      "source": [
        "import ktrain\n",
        "from ktrain import text"
      ],
      "execution_count": null,
      "outputs": []
    },
    {
      "cell_type": "code",
      "metadata": {
        "id": "UOGzVqCwimLg"
      },
      "source": [
        "def plot_conf_matrix(conf_matrix_array, class_names, title='', normalized = False, colorscale='GnBu'):\n",
        "    \"\"\"\n",
        "    This function prints and plots the confusion matrix.\n",
        "    Normalization can be applied by setting `normalize=True`\n",
        "    \"\"\"\n",
        "\n",
        "    z_vals = conf_matrix_array[::-1]\n",
        "    \n",
        "    title = 'Confusion Matrix<br>{0}'.format(title)\n",
        "    \n",
        "    if normalized:\n",
        "        z_vals =  np.round(z_vals.astype('float')/z_vals.sum(axis=1)[:, np.newaxis], 3)\n",
        "        title = 'Normalized ' + title\n",
        "        \n",
        "    fig = ff.create_annotated_heatmap(x = class_names,\n",
        "                                      y = class_names[::-1],\n",
        "                                      z = z_vals, colorscale=colorscale, showscale=True)\n",
        "    \n",
        "    \n",
        "    \n",
        "    fig.layout.update(title = title,\n",
        "                      width=700, height=500,\n",
        "                      yaxis = dict(title = 'True', side = 'left'),\n",
        "                      xaxis = dict(title = 'Predicted', side = 'bottom'))\n",
        "    return fig"
      ],
      "execution_count": null,
      "outputs": []
    },
    {
      "cell_type": "code",
      "metadata": {
        "id": "E6PfLzn6imLi"
      },
      "source": [
        "from sklearn.model_selection import train_test_split"
      ],
      "execution_count": null,
      "outputs": []
    },
    {
      "cell_type": "code",
      "metadata": {
        "id": "D-ml3XHZimLl"
      },
      "source": [
        "# import metrics\n",
        "from sklearn.metrics import accuracy_score, precision_score, recall_score, f1_score, log_loss\n",
        "from sklearn.metrics import confusion_matrix as cm, classification_report as cr\n",
        "\n",
        "metrics_map = {\n",
        "    'Accuracy': accuracy_score,\n",
        "    'Precision': precision_score,\n",
        "    'Recall': recall_score,\n",
        "    'F1-score': f1_score,\n",
        "    'Logloss': log_loss\n",
        "}"
      ],
      "execution_count": null,
      "outputs": []
    },
    {
      "cell_type": "code",
      "metadata": {
        "id": "t-Q44O-KimLn"
      },
      "source": [
        "def train_val_test_split(X, y, test_size, val_size, random_state, stratify):\n",
        "    '''split a multi-labeled data into train, validation, and test sets using'''\n",
        "    \n",
        "    X_train, X_val_test, y_train, y_val_test = train_test_split(X, y,\n",
        "                                                                test_size=val_size+test_size,\n",
        "                                                                random_state=random_state,\n",
        "                                                                stratify=stratify)\n",
        "    \n",
        "    \n",
        "    \n",
        "    X_val, X_test, y_val, y_test = train_test_split(X_val_test, y_val_test,\n",
        "                                                    test_size=0.5,\n",
        "                                                    random_state=random_state,\n",
        "                                                    stratify=y_val_test)\n",
        "    \n",
        "    \n",
        "    \n",
        "    return X_train, X_val, X_test, y_train, y_val, y_test\n",
        "    "
      ],
      "execution_count": null,
      "outputs": []
    },
    {
      "cell_type": "code",
      "metadata": {
        "id": "_ML5MmHIzotp",
        "colab": {
          "base_uri": "https://localhost:8080/"
        },
        "outputId": "05323767-02b4-436d-f451-5942ce2fb800"
      },
      "source": [
        "import tensorflow as tf\n",
        "print(tf.__version__)\n",
        "# # print(tf.test.gpu_device_name())\n",
        "# # print(\"Num GPUs Available: \", len(tf.config.experimental.list_physical_devices('GPU')))"
      ],
      "execution_count": null,
      "outputs": [
        {
          "output_type": "stream",
          "name": "stdout",
          "text": [
            "2.8.0\n"
          ]
        }
      ]
    },
    {
      "cell_type": "code",
      "metadata": {
        "id": "yTeihnPRxnut"
      },
      "source": [
        "import tensorflow_datasets as tfds\n",
        "from tensorflow.keras import layers\n",
        "from tensorflow.keras.callbacks import ModelCheckpoint, EarlyStopping, ReduceLROnPlateau, CSVLogger\n",
        "from tensorflow.keras.optimizers import Adam"
      ],
      "execution_count": null,
      "outputs": []
    },
    {
      "cell_type": "code",
      "metadata": {
        "id": "wDH2VdQixnu0"
      },
      "source": [
        "def print_full(x):\n",
        "    pd.set_option('display.max_colwidth', None)\n",
        "    return x\n",
        "\n",
        "def reset():\n",
        "    pd.reset_option('display.max_colwidth')"
      ],
      "execution_count": null,
      "outputs": []
    },
    {
      "cell_type": "markdown",
      "metadata": {
        "id": "5IbxM_O1zGP1"
      },
      "source": [
        "## Reading The Data"
      ]
    },
    {
      "cell_type": "code",
      "metadata": {
        "id": "gya7wW_hzKm6",
        "colab": {
          "base_uri": "https://localhost:8080/"
        },
        "outputId": "6a922075-79a5-4063-dcf0-5edf84b2c668"
      },
      "source": [
        "from google.colab import drive\n",
        "drive.mount('/content/drive')"
      ],
      "execution_count": null,
      "outputs": [
        {
          "output_type": "stream",
          "name": "stdout",
          "text": [
            "Mounted at /content/drive\n"
          ]
        }
      ]
    },
    {
      "cell_type": "code",
      "metadata": {
        "id": "J4qgageOy6sm"
      },
      "source": [
        "PROJECT_PATH = '/content/drive/My Drive/colab/zeroshot-ar/'\n",
        "DATA_PATH= '/content/drive/My Drive/colab/zeroshot-ar/data/semEval'\n",
        "FILE_PATH = os.path.join(DATA_PATH, 'semeval_clean.json')\n",
        "RES_PATH = os.path.join(PROJECT_PATH, 'result')\n",
        "# FILE_PATH_AUG = os.path.join(DATA_PATH, 'semeval_clean_aug_aspect_terms.json')\n",
        "MODEL_PATH='/content/drive/My Drive/colab/zeroshot-ar/models/bert-multilabel-semEval'\n",
        "\n",
        "if not os.path.isdir(MODEL_PATH):\n",
        "  os.makedirs(MODEL_PATH)\n",
        "\n",
        "if not os.path.isdir(PROJECT_PATH):\n",
        "  os.makedirs(PROJECT_PATH)\n",
        "\n",
        "if not os.path.isdir(RES_PATH):\n",
        "  os.makedirs(RES_PATH)"
      ],
      "execution_count": null,
      "outputs": []
    },
    {
      "cell_type": "code",
      "metadata": {
        "colab": {
          "base_uri": "https://localhost:8080/",
          "height": 35
        },
        "id": "sl-2TGvz9d6V",
        "outputId": "4e02f174-d1f6-4114-e0e1-3ec7e3dbf782"
      },
      "source": [
        "RES_PATH"
      ],
      "execution_count": null,
      "outputs": [
        {
          "output_type": "execute_result",
          "data": {
            "application/vnd.google.colaboratory.intrinsic+json": {
              "type": "string"
            },
            "text/plain": [
              "'/content/drive/My Drive/colab/zeroshot-ar/result'"
            ]
          },
          "metadata": {},
          "execution_count": 69
        }
      ]
    },
    {
      "cell_type": "code",
      "metadata": {
        "id": "PV7bmlAGxnu2"
      },
      "source": [
        "df = pd.read_json(FILE_PATH)"
      ],
      "execution_count": null,
      "outputs": []
    },
    {
      "cell_type": "code",
      "metadata": {
        "id": "VF-3wA6uxnu4",
        "colab": {
          "base_uri": "https://localhost:8080/",
          "height": 81
        },
        "outputId": "f51e3ea9-0457-4716-9642-cad376670a2a"
      },
      "source": [
        "df.head(1)"
      ],
      "execution_count": null,
      "outputs": [
        {
          "output_type": "execute_result",
          "data": {
            "text/html": [
              "\n",
              "  <div id=\"df-aed3c443-1d5b-4b8a-a508-12fbc3379bd0\">\n",
              "    <div class=\"colab-df-container\">\n",
              "      <div>\n",
              "<style scoped>\n",
              "    .dataframe tbody tr th:only-of-type {\n",
              "        vertical-align: middle;\n",
              "    }\n",
              "\n",
              "    .dataframe tbody tr th {\n",
              "        vertical-align: top;\n",
              "    }\n",
              "\n",
              "    .dataframe thead th {\n",
              "        text-align: right;\n",
              "    }\n",
              "</style>\n",
              "<table border=\"1\" class=\"dataframe\">\n",
              "  <thead>\n",
              "    <tr style=\"text-align: right;\">\n",
              "      <th></th>\n",
              "      <th>text</th>\n",
              "      <th>terms</th>\n",
              "      <th>fine_aspects</th>\n",
              "      <th>polarity</th>\n",
              "      <th>split</th>\n",
              "      <th>coarse_aspects</th>\n",
              "      <th>text_lemma</th>\n",
              "    </tr>\n",
              "  </thead>\n",
              "  <tbody>\n",
              "    <tr>\n",
              "      <th>0</th>\n",
              "      <td>أنصح بالنوم وليس تناول الطعام  موقع مثالي للإق...</td>\n",
              "      <td>[موقع]</td>\n",
              "      <td>[LOCATION#GENERAL]</td>\n",
              "      <td>[positive]</td>\n",
              "      <td>Train</td>\n",
              "      <td>[LOCATION]</td>\n",
              "      <td>انصح بالنوم ليس تناول الطعام موقع مثالي للاقام...</td>\n",
              "    </tr>\n",
              "  </tbody>\n",
              "</table>\n",
              "</div>\n",
              "      <button class=\"colab-df-convert\" onclick=\"convertToInteractive('df-aed3c443-1d5b-4b8a-a508-12fbc3379bd0')\"\n",
              "              title=\"Convert this dataframe to an interactive table.\"\n",
              "              style=\"display:none;\">\n",
              "        \n",
              "  <svg xmlns=\"http://www.w3.org/2000/svg\" height=\"24px\"viewBox=\"0 0 24 24\"\n",
              "       width=\"24px\">\n",
              "    <path d=\"M0 0h24v24H0V0z\" fill=\"none\"/>\n",
              "    <path d=\"M18.56 5.44l.94 2.06.94-2.06 2.06-.94-2.06-.94-.94-2.06-.94 2.06-2.06.94zm-11 1L8.5 8.5l.94-2.06 2.06-.94-2.06-.94L8.5 2.5l-.94 2.06-2.06.94zm10 10l.94 2.06.94-2.06 2.06-.94-2.06-.94-.94-2.06-.94 2.06-2.06.94z\"/><path d=\"M17.41 7.96l-1.37-1.37c-.4-.4-.92-.59-1.43-.59-.52 0-1.04.2-1.43.59L10.3 9.45l-7.72 7.72c-.78.78-.78 2.05 0 2.83L4 21.41c.39.39.9.59 1.41.59.51 0 1.02-.2 1.41-.59l7.78-7.78 2.81-2.81c.8-.78.8-2.07 0-2.86zM5.41 20L4 18.59l7.72-7.72 1.47 1.35L5.41 20z\"/>\n",
              "  </svg>\n",
              "      </button>\n",
              "      \n",
              "  <style>\n",
              "    .colab-df-container {\n",
              "      display:flex;\n",
              "      flex-wrap:wrap;\n",
              "      gap: 12px;\n",
              "    }\n",
              "\n",
              "    .colab-df-convert {\n",
              "      background-color: #E8F0FE;\n",
              "      border: none;\n",
              "      border-radius: 50%;\n",
              "      cursor: pointer;\n",
              "      display: none;\n",
              "      fill: #1967D2;\n",
              "      height: 32px;\n",
              "      padding: 0 0 0 0;\n",
              "      width: 32px;\n",
              "    }\n",
              "\n",
              "    .colab-df-convert:hover {\n",
              "      background-color: #E2EBFA;\n",
              "      box-shadow: 0px 1px 2px rgba(60, 64, 67, 0.3), 0px 1px 3px 1px rgba(60, 64, 67, 0.15);\n",
              "      fill: #174EA6;\n",
              "    }\n",
              "\n",
              "    [theme=dark] .colab-df-convert {\n",
              "      background-color: #3B4455;\n",
              "      fill: #D2E3FC;\n",
              "    }\n",
              "\n",
              "    [theme=dark] .colab-df-convert:hover {\n",
              "      background-color: #434B5C;\n",
              "      box-shadow: 0px 1px 3px 1px rgba(0, 0, 0, 0.15);\n",
              "      filter: drop-shadow(0px 1px 2px rgba(0, 0, 0, 0.3));\n",
              "      fill: #FFFFFF;\n",
              "    }\n",
              "  </style>\n",
              "\n",
              "      <script>\n",
              "        const buttonEl =\n",
              "          document.querySelector('#df-aed3c443-1d5b-4b8a-a508-12fbc3379bd0 button.colab-df-convert');\n",
              "        buttonEl.style.display =\n",
              "          google.colab.kernel.accessAllowed ? 'block' : 'none';\n",
              "\n",
              "        async function convertToInteractive(key) {\n",
              "          const element = document.querySelector('#df-aed3c443-1d5b-4b8a-a508-12fbc3379bd0');\n",
              "          const dataTable =\n",
              "            await google.colab.kernel.invokeFunction('convertToInteractive',\n",
              "                                                     [key], {});\n",
              "          if (!dataTable) return;\n",
              "\n",
              "          const docLinkHtml = 'Like what you see? Visit the ' +\n",
              "            '<a target=\"_blank\" href=https://colab.research.google.com/notebooks/data_table.ipynb>data table notebook</a>'\n",
              "            + ' to learn more about interactive tables.';\n",
              "          element.innerHTML = '';\n",
              "          dataTable['output_type'] = 'display_data';\n",
              "          await google.colab.output.renderOutput(dataTable, element);\n",
              "          const docLink = document.createElement('div');\n",
              "          docLink.innerHTML = docLinkHtml;\n",
              "          element.appendChild(docLink);\n",
              "        }\n",
              "      </script>\n",
              "    </div>\n",
              "  </div>\n",
              "  "
            ],
            "text/plain": [
              "                                                text   terms  \\\n",
              "0  أنصح بالنوم وليس تناول الطعام  موقع مثالي للإق...  [موقع]   \n",
              "\n",
              "         fine_aspects    polarity  split coarse_aspects  \\\n",
              "0  [LOCATION#GENERAL]  [positive]  Train     [LOCATION]   \n",
              "\n",
              "                                          text_lemma  \n",
              "0  انصح بالنوم ليس تناول الطعام موقع مثالي للاقام...  "
            ]
          },
          "metadata": {},
          "execution_count": 24
        }
      ]
    },
    {
      "cell_type": "code",
      "metadata": {
        "id": "MrYjesmj-rYx"
      },
      "source": [
        "import json\n",
        "UNIQUE_ASPECTS_PATH = f'{DATA_PATH}/fine_aspects.txt'\n",
        "with open(UNIQUE_ASPECTS_PATH, 'r') as f:\n",
        "    unique_aspects = json.loads(f.read())"
      ],
      "execution_count": null,
      "outputs": []
    },
    {
      "cell_type": "code",
      "metadata": {
        "id": "QRgcsbY3jdl9"
      },
      "source": [
        "features = 'text'\n",
        "features_lemma = 'text_lemma'\n",
        "# features_lemma = 'combined_features'\n",
        "target = 'fine_aspects'\n",
        "classes = unique_aspects"
      ],
      "execution_count": null,
      "outputs": []
    },
    {
      "cell_type": "code",
      "metadata": {
        "id": "ZppTwg16xnvJ"
      },
      "source": [
        "# import metrics\n",
        "from sklearn.metrics import accuracy_score, precision_score, recall_score, f1_score, log_loss, roc_auc_score\n",
        "from sklearn.metrics import confusion_matrix as cm, classification_report as cr\n",
        "\n",
        "metrics_dict =  {'Accuracy': accuracy_score,\n",
        "                 'Precision': precision_score,\n",
        "                 'Recall': recall_score,\n",
        "                 'F1-score': f1_score,\n",
        "                 'Logloss': log_loss,\n",
        "                 'AUC': roc_auc_score}"
      ],
      "execution_count": null,
      "outputs": []
    },
    {
      "cell_type": "code",
      "metadata": {
        "id": "lzLZmWJTxnvL"
      },
      "source": [
        "# classes = sorted(df[target].unique())\n",
        "# def pretty_cm(y_true, y_pred, classes=classes, normalized=True):\n",
        "#     # if y_true is one-hot-encoded --> collapse it \n",
        "#     y_true = y_true.argmax(axis=1) if len(y_true.shape) > 1 else y_true\n",
        "    \n",
        "#     confusion_mtx = cm(y_true, y_pred)\n",
        "#     cm_df = pd.DataFrame(confusion_mtx, index=classes, columns=classes)\n",
        "    \n",
        "#     if normalized:\n",
        "#         cm_df = cm_df.apply(lambda row: row/row.sum(), axis=1).round(4)\n",
        "#     return cm_df"
      ],
      "execution_count": null,
      "outputs": []
    },
    {
      "cell_type": "code",
      "metadata": {
        "id": "s5MoQX8sxnvP"
      },
      "source": [
        "def pretty_cr(y_true, y_pred, classes=classes):\n",
        "    # if y_true is one-hot-encoded --> collapse it \n",
        "    y_true = y_true.argmax(axis=1) if len(y_true.shape) > 1 else y_true\n",
        "    report = cr(y_true, y_pred, output_dict=True, target_names=classes)\n",
        "    cr_df = pd.DataFrame(report).transpose()\n",
        "    \n",
        "    # support is just the number of samples in each class\n",
        "    cr_df['support'] = cr_df['support'].astype('int')\n",
        "    \n",
        "    # accuracy has no micro or macro averaging!\n",
        "    cr_df.loc['accuracy', ['precision', 'recall']] = \"\"\n",
        "    cr_df.loc['accuracy', ['support']] = len(y_true)\n",
        "    \n",
        "    # remove the accuracy row to the end\n",
        "    acc_row = cr_df.loc['accuracy']\n",
        "    cr_df.drop('accuracy', axis=0, inplace=True)\n",
        "    cr_df = cr_df.append(acc_row)\n",
        "    \n",
        "    return cr_df"
      ],
      "execution_count": null,
      "outputs": []
    },
    {
      "cell_type": "code",
      "metadata": {
        "id": "HHp9BiOj2j6a"
      },
      "source": [
        "def multilabel_sample(y, size=1000, min_count=5, seed=None):\n",
        "    \"\"\" Takes a matrix of binary labels `y` and returns\n",
        "        the indices for a sample of size `size` if\n",
        "        `size` > 1 or `size` * len(y) if size =< 1.\n",
        "\n",
        "        The sample is guaranteed to have > `min_count` of\n",
        "        each label.\n",
        "    \"\"\"\n",
        "    try:\n",
        "        if (np.unique(y).astype(int) != np.array([0, 1])).all():\n",
        "            raise ValueError()\n",
        "    except (TypeError, ValueError):\n",
        "        raise ValueError('multilabel_sample only works with binary indicator matrices')\n",
        "\n",
        "    if (y.sum(axis=0) < min_count).any():\n",
        "        raise ValueError('Some classes do not have enough examples. Change min_count if necessary.')\n",
        "\n",
        "    if size <= 1:\n",
        "        size = np.floor(y.shape[0] * size)\n",
        "\n",
        "    if y.shape[1] * min_count > size:\n",
        "        msg = \"Size less than number of columns * min_count, returning {} items instead of {}.\"\n",
        "        warnings.warn(msg.format(y.shape[1] * min_count, size))\n",
        "        size = y.shape[1] * min_count\n",
        "\n",
        "    rng = np.random.RandomState(seed if seed is not None else np.random.randint(1))\n",
        "\n",
        "    if isinstance(y, pd.DataFrame):\n",
        "        choices = y.index\n",
        "        y = y.values\n",
        "    else:\n",
        "        choices = np.arange(y.shape[0])\n",
        "\n",
        "    sample_idxs = np.array([], dtype=choices.dtype)\n",
        "\n",
        "    # first, guarantee > min_count of each label\n",
        "    for j in range(y.shape[1]):\n",
        "        label_choices = choices[y[:, j] == 1]\n",
        "        label_idxs_sampled = rng.choice(label_choices, size=min_count, replace=False)\n",
        "        sample_idxs = np.concatenate([label_idxs_sampled, sample_idxs])\n",
        "\n",
        "    sample_idxs = np.unique(sample_idxs)\n",
        "\n",
        "    # now that we have at least min_count of each, we can just random sample\n",
        "    sample_count = int(size - sample_idxs.shape[0])\n",
        "\n",
        "    # get sample_count indices from remaining choices\n",
        "    remaining_choices = np.setdiff1d(choices, sample_idxs)\n",
        "    remaining_sampled = rng.choice(remaining_choices,\n",
        "                                   size=sample_count,\n",
        "                                   replace=False)\n",
        "\n",
        "    return np.concatenate([sample_idxs, remaining_sampled])\n",
        "\n",
        "\n",
        "def multilabel_sample_dataframe(df, labels, size, min_count=5, seed=None):\n",
        "    \"\"\" Takes a dataframe `df` and returns a sample of size `size` where all\n",
        "        classes in the binary matrix `labels` are represented at\n",
        "        least `min_count` times.\n",
        "    \"\"\"\n",
        "    idxs = multilabel_sample(labels, size=size, min_count=min_count, seed=seed)\n",
        "    return df.loc[idxs]\n",
        "\n",
        "\n",
        "def multilabel_train_test_split(X, Y, size, min_count=5, seed=None):\n",
        "    \"\"\" Takes a features matrix `X` and a label matrix `Y` and\n",
        "        returns (X_train, X_test, Y_train, Y_test) where all\n",
        "        classes in Y are represented at least `min_count` times.\n",
        "    \"\"\"\n",
        "    index = Y.index if isinstance(Y, pd.DataFrame) else np.arange(Y.shape[0])\n",
        "\n",
        "    test_set_idxs = multilabel_sample(Y, size=size, min_count=min_count, seed=seed)\n",
        "    train_set_idxs = np.setdiff1d(index, test_set_idxs)\n",
        "\n",
        "    test_set_mask = index.isin(test_set_idxs)\n",
        "    train_set_mask = ~test_set_mask\n",
        "\n",
        "    return (X[train_set_mask], X[test_set_mask], Y[train_set_mask], Y[test_set_mask])"
      ],
      "execution_count": null,
      "outputs": []
    },
    {
      "cell_type": "code",
      "source": [
        "# X, y = df.loc[df['split'] == 'Train', features_lemma].values, df.loc[df['split'] == 'Train', target].values"
      ],
      "metadata": {
        "id": "NQdRQC8awFQP"
      },
      "execution_count": null,
      "outputs": []
    },
    {
      "cell_type": "code",
      "source": [
        "# df = df.loc[df['split'] == 'Train']"
      ],
      "metadata": {
        "id": "YxyWTrEpwi4Y"
      },
      "execution_count": null,
      "outputs": []
    },
    {
      "cell_type": "code",
      "metadata": {
        "id": "pusZQt8mDvH3"
      },
      "source": [
        "from sklearn.preprocessing import MultiLabelBinarizer\n",
        "\n",
        "# Convert the multi-labels into arrays\n",
        "mlb = MultiLabelBinarizer()\n"
      ],
      "execution_count": null,
      "outputs": []
    },
    {
      "cell_type": "code",
      "source": [
        "X_train, y_train = df.loc[df['split'] == 'Train', features_lemma].values, df.loc[df['split'] == 'Train', target].values"
      ],
      "metadata": {
        "id": "FiHb8YDIkIfQ"
      },
      "execution_count": null,
      "outputs": []
    },
    {
      "cell_type": "code",
      "source": [
        "X_test, y_test = df.loc[df['split'] == 'Test', features_lemma].values, df.loc[df['split'] == 'Test', target].values"
      ],
      "metadata": {
        "id": "zs6nWFGXkLqC"
      },
      "execution_count": null,
      "outputs": []
    },
    {
      "cell_type": "code",
      "source": [
        "y_train, y_test = mlb.fit_transform(y_train), mlb.fit_transform(y_test)"
      ],
      "metadata": {
        "id": "V-wj9Pi2k3xd"
      },
      "execution_count": null,
      "outputs": []
    },
    {
      "cell_type": "code",
      "metadata": {
        "colab": {
          "base_uri": "https://localhost:8080/"
        },
        "id": "gVdaUseoEp1g",
        "outputId": "e2eb80d9-9fd4-4027-c648-cc9a7c7692c3"
      },
      "source": [
        "y_train.shape, y_test.shape"
      ],
      "execution_count": null,
      "outputs": [
        {
          "output_type": "execute_result",
          "data": {
            "text/plain": [
              "((4802, 34), (1227, 34))"
            ]
          },
          "metadata": {},
          "execution_count": 38
        }
      ]
    },
    {
      "cell_type": "code",
      "metadata": {
        "colab": {
          "base_uri": "https://localhost:8080/"
        },
        "id": "iHrsqLO-ETwJ",
        "outputId": "f85f0695-027d-46bf-ae83-ed070d7732d4"
      },
      "source": [
        "mlb.classes_"
      ],
      "execution_count": null,
      "outputs": [
        {
          "output_type": "execute_result",
          "data": {
            "text/plain": [
              "array(['FACILITIES#CLEANLINESS', 'FACILITIES#COMFORT',\n",
              "       'FACILITIES#DESIGN_FEATURES', 'FACILITIES#GENERAL',\n",
              "       'FACILITIES#MISCELLANEOUS', 'FACILITIES#PRICES',\n",
              "       'FACILITIES#QUALITY', 'FOOD_DRINKS#MISCELLANEOUS',\n",
              "       'FOOD_DRINKS#PRICES', 'FOOD_DRINKS#QUALITY',\n",
              "       'FOOD_DRINKS#STYLE_OPTIONS', 'HOTEL#CLEANLINESS', 'HOTEL#COMFORT',\n",
              "       'HOTEL#DESIGN_FEATURES', 'HOTEL#GENERAL', 'HOTEL#MISCELLANEOUS',\n",
              "       'HOTEL#PRICES', 'HOTEL#QUALITY', 'LOCATION#GENERAL',\n",
              "       'ROOMS#CLEANLINESS', 'ROOMS#COMFORT', 'ROOMS#DESIGN_FEATURES',\n",
              "       'ROOMS#GENERAL', 'ROOMS#MISCELLANEOUS', 'ROOMS#PRICES',\n",
              "       'ROOMS#QUALITY', 'ROOMS_AMENITIES#CLEANLINESS',\n",
              "       'ROOMS_AMENITIES#COMFORT', 'ROOMS_AMENITIES#DESIGN_FEATURES',\n",
              "       'ROOMS_AMENITIES#GENERAL', 'ROOMS_AMENITIES#MISCELLANEOUS',\n",
              "       'ROOMS_AMENITIES#PRICES', 'ROOMS_AMENITIES#QUALITY',\n",
              "       'SERVICE#GENERAL'], dtype=object)"
            ]
          },
          "metadata": {},
          "execution_count": 70
        }
      ]
    },
    {
      "cell_type": "markdown",
      "metadata": {
        "id": "TNWff1spxnvX"
      },
      "source": [
        "## How to Tkenize, Preprocess and prepare Text Using BERT Tokenizer"
      ]
    },
    {
      "cell_type": "markdown",
      "metadata": {
        "id": "U0HzD9CFi1pM"
      },
      "source": [
        "[Huggingface Models](https://huggingface.co/models)"
      ]
    },
    {
      "cell_type": "code",
      "metadata": {
        "colab": {
          "base_uri": "https://localhost:8080/"
        },
        "id": "sr8ryZ3aLkjp",
        "outputId": "88f1ed7f-4d31-4967-d418-000c65e3d525"
      },
      "source": [
        "# choose the max_len of the sequence\n",
        "(df[features_lemma].apply(lambda review: len(review.split())).quantile(1.0))  "
      ],
      "execution_count": null,
      "outputs": [
        {
          "output_type": "execute_result",
          "data": {
            "text/plain": [
              "86.0"
            ]
          },
          "metadata": {},
          "execution_count": 39
        }
      ]
    },
    {
      "cell_type": "code",
      "metadata": {
        "id": "0DV7nmIo4pVx"
      },
      "source": [
        "# choose the pretrained model we'll work with\n",
        "MODEL_NAME = 'aubmindlab/bert-base-arabertv02'\n",
        "# MODEL_NAME = 'bashar-talafha/multi-dialect-bert-base-arabic'\n",
        "MAX_LEN = 86\n",
        "BS = 32"
      ],
      "execution_count": null,
      "outputs": []
    },
    {
      "cell_type": "code",
      "metadata": {
        "id": "dyKYy92FzMeh",
        "colab": {
          "base_uri": "https://localhost:8080/",
          "height": 49,
          "referenced_widgets": [
            "c63dffaa5ba246d4910586b90cc3a81d",
            "9655b597f57a42dcb786d53144c7fe72",
            "4d362bea1a4342c5b4d7453569ded4a5",
            "c8534bd013c04e37b0bbb9efde9e3d45",
            "f52ac041e3804d96835f453363bb9195",
            "f26aad56175542ea9fa685ab7a2782f2",
            "c3ccdbab302545fa8eadbf1af29d4adc",
            "e094780e19b945e2a9a4ba22a5925a01",
            "a6259b9643714b1f8f5802ade6e04cb1",
            "67903847b20a46aa965075e25c3f3caf",
            "281bd1f5e3414a5bbbea7fdfaf5a69be"
          ]
        },
        "outputId": "d1840e2b-031b-447e-9778-f9f388500640"
      },
      "source": [
        "preproc = text.Transformer(MODEL_NAME, maxlen=MAX_LEN, batch_size=BS,\n",
        "                           class_names=mlb.classes_)"
      ],
      "execution_count": null,
      "outputs": [
        {
          "output_type": "display_data",
          "data": {
            "application/vnd.jupyter.widget-view+json": {
              "model_id": "c63dffaa5ba246d4910586b90cc3a81d",
              "version_minor": 0,
              "version_major": 2
            },
            "text/plain": [
              "Downloading:   0%|          | 0.00/384 [00:00<?, ?B/s]"
            ]
          },
          "metadata": {}
        }
      ]
    },
    {
      "cell_type": "code",
      "metadata": {
        "colab": {
          "base_uri": "https://localhost:8080/",
          "height": 162,
          "referenced_widgets": [
            "5d3d4c67fcdf4ba0bd24c11e9c15ee8a",
            "f3a1ebb2ade74c66bfa4dc2e56baeca8",
            "0b7630312e8647f39e8098ee9bff61cc",
            "4e311e4488cd45b7ba6f480a5a609e3e",
            "17a2b95c1af645dd91e431a03f56e57b",
            "dd91007828ff44f696904666c3ceab79",
            "8a6ec436dbe24de680f6dfe0f9d44586",
            "a92f58bc2b5449f8b15688e6d38769c2",
            "e914ebbb6426444e869740c2bbe84a4e",
            "782a1ec8b8ec450a93f11d555e011b17",
            "45a97ae4e72048ca8a33e119787df7db",
            "f4bd52a333314018a49f7de94786b393",
            "47bc384c85e04c699fc86791c6efa9cb",
            "5ef5982b28c64fb8b61f9d615e04f121",
            "84c2581e114049dd956eef3d7014cb51",
            "50b05a1f3d054c648a7cc4e7a1ae4c08",
            "8ecd2f43b94b426f89426a77b811d18a",
            "0239a6664fd946a09448b81cb420feb1",
            "8cf81094860c425f9ed00cd2a1a5d852",
            "abd2929e3bf94aea80e17c22b874242a",
            "13663e791e05444abf453fa4b48101d9",
            "80fd2417bf5d45dd9c4bbc75da1ea7ce",
            "a71714a46b41491e8f08e44361a2ae8e",
            "ca99f79d7be34f638fa41faa5a352ff0",
            "a6f385f7ef9d4e229f9b57f006d677dc",
            "baeab0eb448d4df4b489fa9e9e8a70dc",
            "4f0ba3edff8c4ea6b9345eacfbbfb3aa",
            "85898221ef4e4d5e8a5a292600b2a1d7",
            "023a4c238235447daf1b2d93238881b5",
            "1e664cf074f648688b9bec0a841d5d83",
            "c275880e53c94becae663e5c77c9cd03",
            "8f19169457e14ab39f011a89a07f8abb",
            "e2da475f4daa40f795372fe7e3d63db8",
            "f13d9ad1a5364c6abd7749b04e52a835",
            "b3c35bf79d0841e9b27bbf4365247b45",
            "244d232529a846af9d63fb1bdac30cf4",
            "c15b03c1a36a44df9d65adf20474c5a8",
            "b72710e066194982ae4f7bad3515f3fd",
            "f5f9e834e0e84b7fbe84a5022fbc7556",
            "47d98d44835b448aa03f09ada75b20e4",
            "509a79d09bb74411bb63da507a22454d",
            "da7d9a8aa9654e1182946f6dd91711f1",
            "f451ab764f9e40088dbcd9e443f8aac4",
            "5d1763b6487d4d4c899cc90f327cd40f"
          ]
        },
        "id": "6kfwdbH3zTHG",
        "outputId": "6b1943e5-2756-4ca3-f055-3ab3cac2134b"
      },
      "source": [
        "MAX_FEATURES = preproc.get_tokenizer().vocab_size\n",
        "MAX_FEATURES"
      ],
      "execution_count": null,
      "outputs": [
        {
          "output_type": "display_data",
          "data": {
            "application/vnd.jupyter.widget-view+json": {
              "model_id": "5d3d4c67fcdf4ba0bd24c11e9c15ee8a",
              "version_minor": 0,
              "version_major": 2
            },
            "text/plain": [
              "Downloading:   0%|          | 0.00/381 [00:00<?, ?B/s]"
            ]
          },
          "metadata": {}
        },
        {
          "output_type": "display_data",
          "data": {
            "application/vnd.jupyter.widget-view+json": {
              "model_id": "f4bd52a333314018a49f7de94786b393",
              "version_minor": 0,
              "version_major": 2
            },
            "text/plain": [
              "Downloading:   0%|          | 0.00/825k [00:00<?, ?B/s]"
            ]
          },
          "metadata": {}
        },
        {
          "output_type": "display_data",
          "data": {
            "application/vnd.jupyter.widget-view+json": {
              "model_id": "a71714a46b41491e8f08e44361a2ae8e",
              "version_minor": 0,
              "version_major": 2
            },
            "text/plain": [
              "Downloading:   0%|          | 0.00/2.64M [00:00<?, ?B/s]"
            ]
          },
          "metadata": {}
        },
        {
          "output_type": "display_data",
          "data": {
            "application/vnd.jupyter.widget-view+json": {
              "model_id": "f13d9ad1a5364c6abd7749b04e52a835",
              "version_minor": 0,
              "version_major": 2
            },
            "text/plain": [
              "Downloading:   0%|          | 0.00/112 [00:00<?, ?B/s]"
            ]
          },
          "metadata": {}
        },
        {
          "output_type": "execute_result",
          "data": {
            "text/plain": [
              "64000"
            ]
          },
          "metadata": {},
          "execution_count": 42
        }
      ]
    },
    {
      "cell_type": "code",
      "metadata": {
        "id": "LTQGMafkGWtD",
        "colab": {
          "base_uri": "https://localhost:8080/"
        },
        "outputId": "bb0b56b8-8b85-44ec-b54a-2acc6f8074a1"
      },
      "source": [
        "sample_text = df[features_lemma].iloc[0]\n",
        "sample_tokenized = preproc.get_tokenizer().tokenize(sample_text)\n",
        "sample_tokenized  # word-piece embedding"
      ],
      "execution_count": null,
      "outputs": [
        {
          "output_type": "execute_result",
          "data": {
            "text/plain": [
              "['انص',\n",
              " '##ح',\n",
              " 'بالن',\n",
              " '##وم',\n",
              " 'ليس',\n",
              " 'تناول',\n",
              " 'الطعام',\n",
              " 'موقع',\n",
              " 'مثالي',\n",
              " 'للاق',\n",
              " '##امه',\n",
              " 'قبل',\n",
              " 'رحل',\n",
              " '##ه',\n",
              " 'طيران',\n",
              " 'مبكر',\n",
              " '##ه']"
            ]
          },
          "metadata": {},
          "execution_count": 43
        }
      ]
    },
    {
      "cell_type": "code",
      "metadata": {
        "colab": {
          "base_uri": "https://localhost:8080/",
          "height": 173
        },
        "id": "dQvduHqNiQgp",
        "outputId": "bbaae317-41f0-4206-f608-2a3a3c8aa6f8"
      },
      "source": [
        "%%time\n",
        "# preprocess train data\n",
        "trn = preproc.preprocess_train(X_train, y_train)"
      ],
      "execution_count": null,
      "outputs": [
        {
          "output_type": "stream",
          "name": "stdout",
          "text": [
            "preprocessing train...\n",
            "language: ar\n",
            "train sequence lengths:\n",
            "\tmean : 21\n",
            "\t95percentile : 50\n",
            "\t99percentile : 65\n"
          ]
        },
        {
          "output_type": "display_data",
          "data": {
            "text/html": [
              "\n",
              "<style>\n",
              "    /* Turns off some styling */\n",
              "    progress {\n",
              "        /* gets rid of default border in Firefox and Opera. */\n",
              "        border: none;\n",
              "        /* Needs to be in here for Safari polyfill so background images work as expected. */\n",
              "        background-size: auto;\n",
              "    }\n",
              "    .progress-bar-interrupted, .progress-bar-interrupted::-webkit-progress-bar {\n",
              "        background: #F44336;\n",
              "    }\n",
              "</style>\n"
            ],
            "text/plain": [
              "<IPython.core.display.HTML object>"
            ]
          },
          "metadata": {}
        },
        {
          "output_type": "display_data",
          "data": {
            "text/html": [
              ""
            ],
            "text/plain": [
              "<IPython.core.display.HTML object>"
            ]
          },
          "metadata": {}
        },
        {
          "output_type": "stream",
          "name": "stdout",
          "text": [
            "Is Multi-Label? True\n",
            "CPU times: user 1.34 s, sys: 56.5 ms, total: 1.39 s\n",
            "Wall time: 1.4 s\n"
          ]
        }
      ]
    },
    {
      "cell_type": "markdown",
      "source": [
        "Example of how BERT tokenization works:"
      ],
      "metadata": {
        "id": "AulUKSgPvacg"
      }
    },
    {
      "cell_type": "code",
      "metadata": {
        "colab": {
          "base_uri": "https://localhost:8080/",
          "height": 35
        },
        "id": "AkmPH0ny_dE5",
        "outputId": "1e44cffb-3201-47c9-cf79-a6bd5815b7a9"
      },
      "source": [
        "X_train[4]"
      ],
      "execution_count": null,
      "outputs": [
        {
          "output_type": "execute_result",
          "data": {
            "application/vnd.google.colaboratory.intrinsic+json": {
              "type": "string"
            },
            "text/plain": [
              "'ساوصي بالتاكيد بموقع المدينه القديمه الا انه عليك الحذر من الاسعار السياحيه الاكثر ارتفاعا'"
            ]
          },
          "metadata": {},
          "execution_count": 45
        }
      ]
    },
    {
      "cell_type": "code",
      "metadata": {
        "id": "Qgdxp4duHRU3",
        "colab": {
          "base_uri": "https://localhost:8080/",
          "height": 70
        },
        "outputId": "c50224ff-4308-4cf3-ec0b-102dc9461928"
      },
      "source": [
        "\" \".join(preproc.undo(trn.x[0][0]))"
      ],
      "execution_count": null,
      "outputs": [
        {
          "output_type": "execute_result",
          "data": {
            "application/vnd.google.colaboratory.intrinsic+json": {
              "type": "string"
            },
            "text/plain": [
              "'[CLS] انص ##ح بالن ##وم ليس تناول الطعام موقع مثالي للاق ##امه قبل رحل ##ه طيران مبكر ##ه [SEP] [PAD] [PAD] [PAD] [PAD] [PAD] [PAD] [PAD] [PAD] [PAD] [PAD] [PAD] [PAD] [PAD] [PAD] [PAD] [PAD] [PAD] [PAD] [PAD] [PAD] [PAD] [PAD] [PAD] [PAD] [PAD] [PAD] [PAD] [PAD] [PAD] [PAD] [PAD] [PAD] [PAD] [PAD] [PAD] [PAD] [PAD] [PAD] [PAD] [PAD] [PAD] [PAD] [PAD] [PAD] [PAD] [PAD] [PAD] [PAD] [PAD] [PAD] [PAD] [PAD] [PAD] [PAD] [PAD] [PAD] [PAD] [PAD] [PAD] [PAD] [PAD] [PAD] [PAD] [PAD] [PAD] [PAD] [PAD]'"
            ]
          },
          "metadata": {},
          "execution_count": 46
        }
      ]
    },
    {
      "cell_type": "code",
      "metadata": {
        "colab": {
          "base_uri": "https://localhost:8080/",
          "height": 121
        },
        "id": "L9dCU3hFiQgq",
        "outputId": "7bd10048-b311-4c8c-d01f-3f70920b46b9"
      },
      "source": [
        "test = preproc.preprocess_test(X_test, y_test)"
      ],
      "execution_count": null,
      "outputs": [
        {
          "output_type": "stream",
          "name": "stdout",
          "text": [
            "preprocessing test...\n",
            "language: ar\n",
            "test sequence lengths:\n",
            "\tmean : 20\n",
            "\t95percentile : 50\n",
            "\t99percentile : 64\n"
          ]
        },
        {
          "output_type": "display_data",
          "data": {
            "text/html": [
              "\n",
              "<style>\n",
              "    /* Turns off some styling */\n",
              "    progress {\n",
              "        /* gets rid of default border in Firefox and Opera. */\n",
              "        border: none;\n",
              "        /* Needs to be in here for Safari polyfill so background images work as expected. */\n",
              "        background-size: auto;\n",
              "    }\n",
              "    .progress-bar-interrupted, .progress-bar-interrupted::-webkit-progress-bar {\n",
              "        background: #F44336;\n",
              "    }\n",
              "</style>\n"
            ],
            "text/plain": [
              "<IPython.core.display.HTML object>"
            ]
          },
          "metadata": {}
        },
        {
          "output_type": "display_data",
          "data": {
            "text/html": [
              ""
            ],
            "text/plain": [
              "<IPython.core.display.HTML object>"
            ]
          },
          "metadata": {}
        }
      ]
    },
    {
      "cell_type": "markdown",
      "metadata": {
        "id": "wfMyjKuEzMey"
      },
      "source": [
        "#### Extracting the Classifyer\n",
        "\n",
        "Transformer models are multitask learners. We just need the classifier part of it, so we extract it and store it in a variable `model`\n",
        "\n",
        "Then To use ktrain, one simply wraps the `model` and the data in a `Learner` object using the `get_learner` function. This Learner object will be used to help tune and train our network."
      ]
    },
    {
      "cell_type": "code",
      "metadata": {
        "id": "LQXktVBKzMez",
        "colab": {
          "base_uri": "https://localhost:8080/",
          "height": 49,
          "referenced_widgets": [
            "62e9f8e2bcf14865a7200f3deefab0d6",
            "2eb2c878c93047dab3ab89764f5d0cf4",
            "33accbacc3ed406da7ddf227e8ba70fb",
            "5eb6be600ae744ea9351e2b1c5158080",
            "a6d8648ac021403a97ecfa3fe4a6e9d6",
            "a2ecd3184f054b53821e86c6b12cbf44",
            "e0adc65f5cda48b58b94506aed5f2748",
            "0fd47d5e8c804b138c1d65fcc62002e5",
            "2261165edc2c42eeb920896fdb5c1a38",
            "9de18102d2a549a382f9c126bf0aae1f",
            "067a573285c44053baa127c553348e42"
          ]
        },
        "outputId": "2ebe2fba-68fd-4b0e-9500-bffe1b7fd8b2"
      },
      "source": [
        "model = preproc.get_classifier()"
      ],
      "execution_count": null,
      "outputs": [
        {
          "output_type": "display_data",
          "data": {
            "application/vnd.jupyter.widget-view+json": {
              "model_id": "62e9f8e2bcf14865a7200f3deefab0d6",
              "version_minor": 0,
              "version_major": 2
            },
            "text/plain": [
              "Downloading:   0%|          | 0.00/742M [00:00<?, ?B/s]"
            ]
          },
          "metadata": {}
        }
      ]
    },
    {
      "cell_type": "code",
      "metadata": {
        "id": "KkwyyrB4zMe1",
        "colab": {
          "base_uri": "https://localhost:8080/"
        },
        "outputId": "eac40732-a0cc-42fd-a62a-a7d173c71e4d"
      },
      "source": [
        "model.summary()"
      ],
      "execution_count": null,
      "outputs": [
        {
          "output_type": "stream",
          "name": "stdout",
          "text": [
            "Model: \"tf_bert_for_sequence_classification\"\n",
            "_________________________________________________________________\n",
            " Layer (type)                Output Shape              Param #   \n",
            "=================================================================\n",
            " bert (TFBertMainLayer)      multiple                  135193344 \n",
            "                                                                 \n",
            " dropout_37 (Dropout)        multiple                  0         \n",
            "                                                                 \n",
            " classifier (Dense)          multiple                  26146     \n",
            "                                                                 \n",
            "=================================================================\n",
            "Total params: 135,219,490\n",
            "Trainable params: 135,219,490\n",
            "Non-trainable params: 0\n",
            "_________________________________________________________________\n"
          ]
        }
      ]
    },
    {
      "cell_type": "code",
      "metadata": {
        "id": "TyJ69uK1JIG7"
      },
      "source": [
        "learner = ktrain.get_learner(model, train_data=trn, val_data=test, batch_size=BS)"
      ],
      "execution_count": null,
      "outputs": []
    },
    {
      "cell_type": "markdown",
      "metadata": {
        "id": "f8tRmqahxnwR"
      },
      "source": [
        "### A Learning Rate Finder\n",
        "\n",
        "The Learner object can be used to find the best learning rate for your model.  First, we use ```lr_find``` to track the loss as the learning rate is increased and then use ```lr_plot``` to identify the maximal learning rate associated with a falling loss."
      ]
    },
    {
      "cell_type": "code",
      "metadata": {
        "id": "qrUVKXKb4qZM",
        "colab": {
          "base_uri": "https://localhost:8080/"
        },
        "outputId": "50b55e5e-85c2-49ca-9c3a-01dd8bf36a00"
      },
      "source": [
        "learner.lr_find(stop_factor=2, max_epochs=10)"
      ],
      "execution_count": null,
      "outputs": [
        {
          "output_type": "stream",
          "name": "stdout",
          "text": [
            "simulating training for different learning rates... this may take a few moments...\n",
            "Epoch 1/10\n",
            "120/120 [==============================] - 65s 363ms/step - loss: 0.6913 - accuracy: 0.0201\n",
            "Epoch 2/10\n",
            "120/120 [==============================] - 44s 368ms/step - loss: 0.5606 - accuracy: 0.0357\n",
            "Epoch 3/10\n",
            "120/120 [==============================] - 44s 365ms/step - loss: 0.3239 - accuracy: 0.1255\n",
            "Epoch 4/10\n",
            "120/120 [==============================] - 44s 366ms/step - loss: 0.1972 - accuracy: 0.1514\n",
            "Epoch 5/10\n",
            "120/120 [==============================] - 44s 371ms/step - loss: 0.1451 - accuracy: 0.3268\n",
            "Epoch 6/10\n",
            "120/120 [==============================] - 44s 365ms/step - loss: 0.1763 - accuracy: 0.1661\n",
            "Epoch 7/10\n",
            "120/120 [==============================] - 44s 365ms/step - loss: 0.2546 - accuracy: 0.1115\n",
            "Epoch 8/10\n",
            "120/120 [==============================] - 5s 37ms/step - loss: 0.7585 - accuracy: 0.1271\n",
            "\n",
            "\n",
            "done.\n",
            "Please invoke the Learner.lr_plot() method to visually inspect the loss plot to help identify the maximal learning rate associated with falling loss.\n"
          ]
        }
      ]
    },
    {
      "cell_type": "code",
      "metadata": {
        "id": "azDrBdJK4vDI",
        "colab": {
          "base_uri": "https://localhost:8080/",
          "height": 283
        },
        "outputId": "6ef2fa22-2f85-42de-f145-04c9adde3b72"
      },
      "source": [
        "learner.lr_plot(5, 40)"
      ],
      "execution_count": null,
      "outputs": [
        {
          "output_type": "display_data",
          "data": {
            "image/png": "[encoded data removed]",
            "text/plain": [
              "<Figure size 432x288 with 1 Axes>"
            ]
          },
          "metadata": {
            "needs_background": "light"
          }
        }
      ]
    },
    {
      "cell_type": "markdown",
      "metadata": {
        "id": "BGlu4s2Nxnwb"
      },
      "source": [
        "## Training with Learning Rate Schedules\n",
        "\n",
        "This is from Ktrain Docs:\n",
        "\n",
        "Varying the learning rate cyclically during training has been shown to be [effective](https://arxiv.org/abs/1506.01186) and a good general practice.  *ktrain* allows you to easily employ a variety of demonstrably effective learning rate policies during training. These include:\n",
        "\n",
        "* a [triangular learning rate policy](https://arxiv.org/abs/1506.01186) available via the ```autofit``` method\n",
        "* a [1cycle policy](https://arxiv.org/abs/1803.09820) available via the ```fit_onecycle``` method\n",
        "* an [SGDR](https://arxiv.org/abs/1608.03983) (Stochastic Gradient Descent with Restart) schedule available using the ```fit``` method by supplying a *cycle_len* argument.\n",
        "\n",
        "The ```autofit``` and ```fit_onecycle``` methods tend to be good choices that produce pleasing results.  For more information on learning rate schedules, see the [*ktrain* tutorial notebook on tuning learning rates](https://github.com/amaiya/ktrain/blob/master/tutorials/tutorial-02-tuning-learning-rates.ipynb).\n",
        "\n",
        "The ```autofit``` method in *ktrain* employs a triangular learning rate schedule and uses the supplied learning rate as the maximum learning rate.  The ```autofit``` method accepts two primary arguments. The first (required) is the learning rate (**lr**) to be used, which can be found using the learning rate finder above. The second is optional and indicates the number of epochs (**epochs**) to train.  If **epochs** is not supplied as a second argument, then ```autofit``` will train until the validation loss no longer improves after a certain period. This period can be configured using the **early_stopping** argument.  The ```autofit``` method will also reduce the learning rate when validation loss no longer improves, which can be configured using the reduce_on_plateau argument to ```autofit```.  At the end of training, the weights producing the lowest validation loss are automatically loaded into the model.\n",
        "\n",
        "\n",
        "The ```autofit``` method also accepts a **checkpoint_folder** argument representing the path to a directory. If supplied, the weights of the model after each epoch will be saved to this folder.  Thus, the model state of any epoch can be easily restored using the ```learner.model.load_weights``` method, if the final validation accuracy is not desired. In this case, the final accuracy is quite satisfactory for this model.  "
      ]
    },
    {
      "cell_type": "markdown",
      "metadata": {
        "id": "e3zh9ZQLxnwc"
      },
      "source": [
        "see explanation here: https://course.fast.ai/videos/?lesson=3, at 1:19:35\n",
        "\n",
        "And this paper as well:\n",
        "https://papers.nips.cc/paper/7875-visualizing-the-loss-landscape-of-neural-nets.pdf"
      ]
    },
    {
      "cell_type": "markdown",
      "metadata": {
        "id": "xTiKdRsMxnwc"
      },
      "source": [
        "#### Using Autofit"
      ]
    },
    {
      "cell_type": "markdown",
      "metadata": {
        "id": "bRT4h9j6xnwc"
      },
      "source": [
        "Finally, we invoke autofit without supplying the number of epochs. As mentioned, the training will automatically stop when the validation loss fails to improve. Moreover, the maximum learning rate will automatically decrease periodically. We supply the checkpoint_folder argument to ensure we can restore the weights from any epoch after training completes.\n",
        "\n",
        "The ```autofit``` method in *ktrain* employs a default cyclical learning rate schedule that tends to work well in practice.  The default learning rate schedule in ```autofit``` is currently the [triangular learning rate policy](https://arxiv.org/abs/1506.01186), which some slight modifications."
      ]
    },
    {
      "cell_type": "markdown",
      "metadata": {
        "id": "SPPKPOWtxnwc"
      },
      "source": [
        "#### Setting Global Weight Decay in Keras\n",
        "\n",
        "[Weight decay](https://machinelearningmastery.com/how-to-reduce-overfitting-in-deep-learning-with-weight-regularization/) is a form of regularization to reduce overfitting.  In Keras, this is typically done by [setting the weight decay for individual layers within the network](https://github.com/keras-team/keras/issues/2717).  The global weight decay for a neural model can easily be set by the ```learner.set_weight_decay``` method.    \n"
      ]
    },
    {
      "cell_type": "code",
      "metadata": {
        "id": "U7LTlKNzxnwd",
        "colab": {
          "base_uri": "https://localhost:8080/"
        },
        "outputId": "c35217c8-738a-4b1b-8455-7fcb6efb9067"
      },
      "source": [
        "# # rebuild the model to train from scratch \n",
        "# rebuild the model to train from scratch \n",
        "learner.set_model(preproc.get_classifier())\n",
        "learner.set_weight_decay(0.005)"
      ],
      "execution_count": null,
      "outputs": [
        {
          "output_type": "stream",
          "name": "stderr",
          "text": [
            "/usr/local/lib/python3.7/dist-packages/ktrain/core.py:377: UserWarning: recompiling model to use AdamWeightDecay as opimizer with weight decay of 0.005\n",
            "  warnings.warn('recompiling model to use AdamWeightDecay as opimizer with weight decay of %s' % (wd) )\n"
          ]
        }
      ]
    },
    {
      "cell_type": "code",
      "metadata": {
        "colab": {
          "base_uri": "https://localhost:8080/"
        },
        "outputId": "1ec50156-7d02-41c3-b3e0-4f2b43533dad",
        "id": "GFmsdthbmPS0"
      },
      "source": [
        "%%time\n",
        "# trainin on the full training data\n",
        "learner.autofit(1e-4, epochs=10, checkpoint_folder=MODEL_PATH)"
      ],
      "execution_count": null,
      "outputs": [
        {
          "output_type": "stream",
          "name": "stdout",
          "text": [
            "\n",
            "\n",
            "begin training using triangular learning rate policy with max lr of 0.0001...\n",
            "Epoch 1/10\n",
            "151/151 [==============================] - 92s 457ms/step - loss: 0.2536 - accuracy: 0.1097 - val_loss: 0.1691 - val_accuracy: 0.1304\n",
            "Epoch 2/10\n",
            "151/151 [==============================] - 68s 438ms/step - loss: 0.1592 - accuracy: 0.2520 - val_loss: 0.1367 - val_accuracy: 0.3651\n",
            "Epoch 3/10\n",
            "151/151 [==============================] - 77s 501ms/step - loss: 0.1316 - accuracy: 0.3651 - val_loss: 0.1188 - val_accuracy: 0.4075\n",
            "Epoch 4/10\n",
            "151/151 [==============================] - 72s 466ms/step - loss: 0.1138 - accuracy: 0.4088 - val_loss: 0.1100 - val_accuracy: 0.4042\n",
            "Epoch 5/10\n",
            "151/151 [==============================] - 73s 474ms/step - loss: 0.1007 - accuracy: 0.4419 - val_loss: 0.1034 - val_accuracy: 0.4165\n",
            "Epoch 6/10\n",
            "151/151 [==============================] - 75s 488ms/step - loss: 0.0890 - accuracy: 0.4875 - val_loss: 0.0993 - val_accuracy: 0.4319\n",
            "Epoch 7/10\n",
            "151/151 [==============================] - 74s 484ms/step - loss: 0.0787 - accuracy: 0.5196 - val_loss: 0.0984 - val_accuracy: 0.4368\n",
            "Epoch 8/10\n",
            "151/151 [==============================] - 67s 434ms/step - loss: 0.0694 - accuracy: 0.5456 - val_loss: 0.0987 - val_accuracy: 0.4474\n",
            "Epoch 9/10\n",
            "151/151 [==============================] - 71s 460ms/step - loss: 0.0612 - accuracy: 0.5654 - val_loss: 0.0971 - val_accuracy: 0.4613\n",
            "Epoch 10/10\n",
            "151/151 [==============================] - 73s 474ms/step - loss: 0.0542 - accuracy: 0.5841 - val_loss: 0.0971 - val_accuracy: 0.4515\n",
            "CPU times: user 8min 21s, sys: 1min 5s, total: 9min 27s\n",
            "Wall time: 12min 43s\n"
          ]
        },
        {
          "output_type": "execute_result",
          "data": {
            "text/plain": [
              "<keras.callbacks.History at 0x7f60fe271690>"
            ]
          },
          "metadata": {},
          "execution_count": 117
        }
      ]
    },
    {
      "cell_type": "code",
      "metadata": {
        "colab": {
          "base_uri": "https://localhost:8080/"
        },
        "outputId": "0415a96f-f13e-4cbd-99aa-92283a923602",
        "id": "mMb56sVvmpT3"
      },
      "source": [
        "hist = learner.history.history\n",
        "get_best_epoch = lambda metric: np.argmax(hist[metric]) + 1 if metric=='val_accuracy' else np.argmin(hist[metric])+1\n",
        "\n",
        "best = get_best_epoch('val_loss'); best"
      ],
      "execution_count": null,
      "outputs": [
        {
          "output_type": "execute_result",
          "data": {
            "text/plain": [
              "9"
            ]
          },
          "metadata": {},
          "execution_count": 118
        }
      ]
    },
    {
      "cell_type": "code",
      "metadata": {
        "id": "I8qpzXo-mpT4"
      },
      "source": [
        "learner.model.load_weights(f'{MODEL_PATH}/weights-{9:02d}.hdf5')"
      ],
      "execution_count": null,
      "outputs": []
    },
    {
      "cell_type": "code",
      "metadata": {
        "id": "ruIOWVESmpT4"
      },
      "source": [
        "predictor = ktrain.get_predictor(learner.model, preproc=preproc)"
      ],
      "execution_count": null,
      "outputs": []
    },
    {
      "cell_type": "code",
      "metadata": {
        "id": "K5gFkbk_mpT5"
      },
      "source": [
        "predictor.save(f'{MODEL_PATH}/predictor.hd5')"
      ],
      "execution_count": null,
      "outputs": []
    },
    {
      "cell_type": "code",
      "metadata": {
        "id": "B6SIbm7YmpT5"
      },
      "source": [
        "predictor = ktrain.load_predictor(f'{MODEL_PATH}/predictor.hd5')"
      ],
      "execution_count": null,
      "outputs": []
    },
    {
      "cell_type": "markdown",
      "source": [
        "## Testing on the Gold Standard Data Set"
      ],
      "metadata": {
        "id": "Dzrfp5rwmpT5"
      }
    },
    {
      "cell_type": "code",
      "metadata": {
        "id": "5ouAsdfJGetQ"
      },
      "source": [
        "def class_predict(learner, test_data, raw_test_data, thresh=0.5, drop_thresh=0.0):\n",
        "    preds_proba = pd.DataFrame(learner.predict(test_data), columns=mlb.classes_)\n",
        "    # replace rows under the drop_threshh with nans\n",
        "    preds_proba = preds_proba.apply(lambda row: row if row.max() >= drop_thresh else row.apply(lambda x: np.nan), axis=1)\n",
        "    # get the indices of those rows\n",
        "    # r = np.asarray(preds_proba).nonzero()[0]\n",
        "    r, _ = np.where(preds_proba.isna())\n",
        "    drop_indices = list(set(r))\n",
        "    # print(drop_indices)\n",
        "    preds_proba = preds_proba.drop(drop_indices).reset_index(drop=True)\n",
        "    # return the filtered raw test data\n",
        "    raw_test_data = pd.DataFrame(raw_test_data).drop(drop_indices).reset_index(drop=True).values\n",
        "\n",
        "    preds_classes = preds_proba.apply(lambda row: row.apply(lambda x: 1 if x > thresh else 0), axis=1).values\n",
        "    # return preds_proba, drop_indices\n",
        "    return preds_classes, raw_test_data\n"
      ],
      "execution_count": null,
      "outputs": []
    },
    {
      "cell_type": "code",
      "metadata": {
        "colab": {
          "base_uri": "https://localhost:8080/"
        },
        "outputId": "57ce038b-45fc-41b9-b3db-3e0bb1886bf0",
        "id": "HOvIixPPmpT5"
      },
      "source": [
        "%%time\n",
        "preds_test, y_test_filtered = class_predict(learner, test, y_test, thresh=0.5, drop_thresh=0.0)"
      ],
      "execution_count": null,
      "outputs": [
        {
          "output_type": "stream",
          "name": "stdout",
          "text": [
            "CPU times: user 8.36 s, sys: 351 ms, total: 8.71 s\n",
            "Wall time: 11.7 s\n"
          ]
        }
      ]
    },
    {
      "cell_type": "code",
      "metadata": {
        "colab": {
          "base_uri": "https://localhost:8080/"
        },
        "outputId": "9fe540bf-c51f-485f-b1a1-cacc085be2ab",
        "id": "dXGzTwwGmpT5"
      },
      "source": [
        "len(preds_test), len(y_test_filtered), len(y_test)"
      ],
      "execution_count": null,
      "outputs": [
        {
          "output_type": "execute_result",
          "data": {
            "text/plain": [
              "(1227, 1227, 1227)"
            ]
          },
          "metadata": {},
          "execution_count": 56
        }
      ]
    },
    {
      "cell_type": "code",
      "metadata": {
        "colab": {
          "base_uri": "https://localhost:8080/"
        },
        "outputId": "99c80d6a-dddc-4179-b2e5-59a818019684",
        "id": "pLY9gZ7xmpT5"
      },
      "source": [
        "f1_score(y_test_filtered, preds_test, average='micro', zero_division=1)"
      ],
      "execution_count": null,
      "outputs": [
        {
          "output_type": "execute_result",
          "data": {
            "text/plain": [
              "0.6723591119785314"
            ]
          },
          "metadata": {},
          "execution_count": 57
        }
      ]
    },
    {
      "cell_type": "code",
      "source": [
        "def by_class_res(y_true, preds, plot=True, cor=False, model_name=None):\n",
        "    res = (\n",
        "        df.loc[df['split'] == 'Train', 'fine_aspects']\n",
        "        .explode()\n",
        "        .value_counts()\n",
        "        .reset_index()\n",
        "        # .pipe(lambda df: df.assign(index = df['index'].str.lower()))\n",
        "        .sort_values('index')\n",
        "    )\n",
        "\n",
        "    res['f1-score'] = f1_score(y_true, preds, average=None)\n",
        "\n",
        "    res = res.sort_values('fine_aspects', ascending=True)\n",
        "\n",
        "    if cor:\n",
        "        res = res[['fine_aspects', 'f1-score']].corr().loc['fine_aspects', ['f1-score']].values\n",
        "\n",
        "    if plot and not cor:\n",
        "        subfig = make_subplots(specs=[[{\"secondary_y\": True}]])\n",
        "        fig1 = (\n",
        "            res\n",
        "             .set_index('index')\n",
        "             .pipe(\n",
        "                 lambda df: px.bar(\n",
        "                     df, x=df.index, y='fine_aspects',\n",
        "                 )\n",
        "             )\n",
        "        )\n",
        "\n",
        "        fig2 = (\n",
        "            px.scatter(\n",
        "                res, x='index', y='f1-score',\n",
        "            ).update_traces(\n",
        "                mode='markers+lines',yaxis='y2',\n",
        "                marker=dict(color='grey')\n",
        "            )\n",
        "        )\n",
        "        subfig.add_traces(fig1.data + fig2.data)\n",
        "        subfig.layout.yaxis.title=\"Aspect Category Count\"\n",
        "        subfig.layout.yaxis2.title=\"F1 Score\"\n",
        "        subfig.data[1].name = 'F1 Score'\n",
        "        subfig.data[1].showlegend = True\n",
        "        subfig.data[0].name = 'Aspect Category'\n",
        "        subfig.data[0].showlegend = True\n",
        "        subfig.update_layout(legend=dict(orientation='h', y=1.05, x=0.35))\n",
        "        subfig.for_each_trace(lambda t: t.update(marker=dict(color=t.marker.color)))\n",
        "        plot_title = \"Correlation Between Class Count and its F1 Score\"\n",
        "        if model_name:\n",
        "            plot_title = f\"{plot_title} ({model_name})\"\n",
        "        subfig.update_layout(title=plot_title, height=600)\n",
        "\n",
        "\n",
        "        res = subfig\n",
        "\n",
        "    return res"
      ],
      "metadata": {
        "id": "y8jb6GXQmpT5"
      },
      "execution_count": null,
      "outputs": []
    },
    {
      "cell_type": "code",
      "source": [],
      "metadata": {
        "id": "vE4DBkosmpT5"
      },
      "execution_count": null,
      "outputs": []
    },
    {
      "cell_type": "markdown",
      "source": [
        "### Correlation Between Class-based F1 Score and its Support (Count) in the Training Data"
      ],
      "metadata": {
        "id": "hyGf9898mpT6"
      }
    },
    {
      "cell_type": "markdown",
      "source": [
        "pearson correlation:"
      ],
      "metadata": {
        "id": "dyqN4z5rmpT6"
      }
    },
    {
      "cell_type": "code",
      "source": [
        "by_class_res(y_test_filtered, preds_test, cor=True).round(2)"
      ],
      "metadata": {
        "colab": {
          "base_uri": "https://localhost:8080/"
        },
        "outputId": "a64db0ec-7f86-487d-bc9b-247fa80f8ac2",
        "id": "XS3pA78MmpT6"
      },
      "execution_count": null,
      "outputs": [
        {
          "output_type": "execute_result",
          "data": {
            "text/plain": [
              "array([0.7])"
            ]
          },
          "metadata": {},
          "execution_count": 59
        }
      ]
    },
    {
      "cell_type": "markdown",
      "source": [
        "Detailed result per class:"
      ],
      "metadata": {
        "id": "RPOxsdz_mpT6"
      }
    },
    {
      "cell_type": "code",
      "source": [
        "byclass_f1_arabert_teacher_df = by_class_res(y_test, preds_test, cor=False, plot=False).round(4)\n",
        "byclass_f1_arabert_teacher_df"
      ],
      "metadata": {
        "colab": {
          "base_uri": "https://localhost:8080/",
          "height": 1000
        },
        "outputId": "0e34d429-43b5-44e8-ab19-65d343b0c668",
        "id": "b6Lt23UVmpT6"
      },
      "execution_count": null,
      "outputs": [
        {
          "output_type": "execute_result",
          "data": {
            "text/html": [
              "\n",
              "  <div id=\"df-08d5a93a-d678-4923-9277-0aaf414a0cdd\">\n",
              "    <div class=\"colab-df-container\">\n",
              "      <div>\n",
              "<style scoped>\n",
              "    .dataframe tbody tr th:only-of-type {\n",
              "        vertical-align: middle;\n",
              "    }\n",
              "\n",
              "    .dataframe tbody tr th {\n",
              "        vertical-align: top;\n",
              "    }\n",
              "\n",
              "    .dataframe thead th {\n",
              "        text-align: right;\n",
              "    }\n",
              "</style>\n",
              "<table border=\"1\" class=\"dataframe\">\n",
              "  <thead>\n",
              "    <tr style=\"text-align: right;\">\n",
              "      <th></th>\n",
              "      <th>index</th>\n",
              "      <th>fine_aspects</th>\n",
              "      <th>f1-score</th>\n",
              "    </tr>\n",
              "  </thead>\n",
              "  <tbody>\n",
              "    <tr>\n",
              "      <th>33</th>\n",
              "      <td>ROOMS_AMENITIES#PRICES</td>\n",
              "      <td>13</td>\n",
              "      <td>0.0000</td>\n",
              "    </tr>\n",
              "    <tr>\n",
              "      <th>32</th>\n",
              "      <td>ROOMS#MISCELLANEOUS</td>\n",
              "      <td>30</td>\n",
              "      <td>0.0000</td>\n",
              "    </tr>\n",
              "    <tr>\n",
              "      <th>31</th>\n",
              "      <td>ROOMS_AMENITIES#COMFORT</td>\n",
              "      <td>33</td>\n",
              "      <td>0.0000</td>\n",
              "    </tr>\n",
              "    <tr>\n",
              "      <th>30</th>\n",
              "      <td>FOOD_DRINKS#PRICES</td>\n",
              "      <td>41</td>\n",
              "      <td>0.0000</td>\n",
              "    </tr>\n",
              "    <tr>\n",
              "      <th>29</th>\n",
              "      <td>ROOMS#PRICES</td>\n",
              "      <td>46</td>\n",
              "      <td>0.2500</td>\n",
              "    </tr>\n",
              "    <tr>\n",
              "      <th>28</th>\n",
              "      <td>FACILITIES#COMFORT</td>\n",
              "      <td>47</td>\n",
              "      <td>0.0000</td>\n",
              "    </tr>\n",
              "    <tr>\n",
              "      <th>27</th>\n",
              "      <td>FOOD_DRINKS#MISCELLANEOUS</td>\n",
              "      <td>51</td>\n",
              "      <td>0.0000</td>\n",
              "    </tr>\n",
              "    <tr>\n",
              "      <th>26</th>\n",
              "      <td>ROOMS_AMENITIES#DESIGN_FEATURES</td>\n",
              "      <td>54</td>\n",
              "      <td>0.0000</td>\n",
              "    </tr>\n",
              "    <tr>\n",
              "      <th>25</th>\n",
              "      <td>ROOMS_AMENITIES#MISCELLANEOUS</td>\n",
              "      <td>55</td>\n",
              "      <td>0.0000</td>\n",
              "    </tr>\n",
              "    <tr>\n",
              "      <th>24</th>\n",
              "      <td>FACILITIES#MISCELLANEOUS</td>\n",
              "      <td>70</td>\n",
              "      <td>0.0000</td>\n",
              "    </tr>\n",
              "    <tr>\n",
              "      <th>23</th>\n",
              "      <td>FACILITIES#PRICES</td>\n",
              "      <td>84</td>\n",
              "      <td>0.1000</td>\n",
              "    </tr>\n",
              "    <tr>\n",
              "      <th>22</th>\n",
              "      <td>FACILITIES#CLEANLINESS</td>\n",
              "      <td>115</td>\n",
              "      <td>0.3077</td>\n",
              "    </tr>\n",
              "    <tr>\n",
              "      <th>21</th>\n",
              "      <td>FACILITIES#DESIGN_FEATURES</td>\n",
              "      <td>117</td>\n",
              "      <td>0.0625</td>\n",
              "    </tr>\n",
              "    <tr>\n",
              "      <th>20</th>\n",
              "      <td>ROOMS_AMENITIES#CLEANLINESS</td>\n",
              "      <td>123</td>\n",
              "      <td>0.4138</td>\n",
              "    </tr>\n",
              "    <tr>\n",
              "      <th>19</th>\n",
              "      <td>HOTEL#DESIGN_FEATURES</td>\n",
              "      <td>127</td>\n",
              "      <td>0.3590</td>\n",
              "    </tr>\n",
              "    <tr>\n",
              "      <th>18</th>\n",
              "      <td>ROOMS#COMFORT</td>\n",
              "      <td>135</td>\n",
              "      <td>0.4865</td>\n",
              "    </tr>\n",
              "    <tr>\n",
              "      <th>17</th>\n",
              "      <td>FACILITIES#QUALITY</td>\n",
              "      <td>136</td>\n",
              "      <td>0.0000</td>\n",
              "    </tr>\n",
              "    <tr>\n",
              "      <th>16</th>\n",
              "      <td>HOTEL#MISCELLANEOUS</td>\n",
              "      <td>140</td>\n",
              "      <td>0.0000</td>\n",
              "    </tr>\n",
              "    <tr>\n",
              "      <th>15</th>\n",
              "      <td>ROOMS#QUALITY</td>\n",
              "      <td>142</td>\n",
              "      <td>0.0606</td>\n",
              "    </tr>\n",
              "    <tr>\n",
              "      <th>14</th>\n",
              "      <td>ROOMS_AMENITIES#QUALITY</td>\n",
              "      <td>176</td>\n",
              "      <td>0.3404</td>\n",
              "    </tr>\n",
              "    <tr>\n",
              "      <th>13</th>\n",
              "      <td>FOOD_DRINKS#STYLE_OPTIONS</td>\n",
              "      <td>182</td>\n",
              "      <td>0.6250</td>\n",
              "    </tr>\n",
              "    <tr>\n",
              "      <th>12</th>\n",
              "      <td>HOTEL#COMFORT</td>\n",
              "      <td>199</td>\n",
              "      <td>0.5000</td>\n",
              "    </tr>\n",
              "    <tr>\n",
              "      <th>11</th>\n",
              "      <td>ROOMS_AMENITIES#GENERAL</td>\n",
              "      <td>251</td>\n",
              "      <td>0.3117</td>\n",
              "    </tr>\n",
              "    <tr>\n",
              "      <th>10</th>\n",
              "      <td>HOTEL#CLEANLINESS</td>\n",
              "      <td>252</td>\n",
              "      <td>0.5812</td>\n",
              "    </tr>\n",
              "    <tr>\n",
              "      <th>9</th>\n",
              "      <td>HOTEL#QUALITY</td>\n",
              "      <td>253</td>\n",
              "      <td>0.2791</td>\n",
              "    </tr>\n",
              "    <tr>\n",
              "      <th>8</th>\n",
              "      <td>ROOMS#GENERAL</td>\n",
              "      <td>319</td>\n",
              "      <td>0.4821</td>\n",
              "    </tr>\n",
              "    <tr>\n",
              "      <th>7</th>\n",
              "      <td>ROOMS#DESIGN_FEATURES</td>\n",
              "      <td>342</td>\n",
              "      <td>0.7059</td>\n",
              "    </tr>\n",
              "    <tr>\n",
              "      <th>6</th>\n",
              "      <td>ROOMS#CLEANLINESS</td>\n",
              "      <td>357</td>\n",
              "      <td>0.7226</td>\n",
              "    </tr>\n",
              "    <tr>\n",
              "      <th>5</th>\n",
              "      <td>HOTEL#PRICES</td>\n",
              "      <td>372</td>\n",
              "      <td>0.6364</td>\n",
              "    </tr>\n",
              "    <tr>\n",
              "      <th>4</th>\n",
              "      <td>FOOD_DRINKS#QUALITY</td>\n",
              "      <td>686</td>\n",
              "      <td>0.8395</td>\n",
              "    </tr>\n",
              "    <tr>\n",
              "      <th>3</th>\n",
              "      <td>FACILITIES#GENERAL</td>\n",
              "      <td>785</td>\n",
              "      <td>0.4937</td>\n",
              "    </tr>\n",
              "    <tr>\n",
              "      <th>2</th>\n",
              "      <td>LOCATION#GENERAL</td>\n",
              "      <td>1087</td>\n",
              "      <td>0.8397</td>\n",
              "    </tr>\n",
              "    <tr>\n",
              "      <th>1</th>\n",
              "      <td>HOTEL#GENERAL</td>\n",
              "      <td>1468</td>\n",
              "      <td>0.7210</td>\n",
              "    </tr>\n",
              "    <tr>\n",
              "      <th>0</th>\n",
              "      <td>SERVICE#GENERAL</td>\n",
              "      <td>2221</td>\n",
              "      <td>0.9179</td>\n",
              "    </tr>\n",
              "  </tbody>\n",
              "</table>\n",
              "</div>\n",
              "      <button class=\"colab-df-convert\" onclick=\"convertToInteractive('df-08d5a93a-d678-4923-9277-0aaf414a0cdd')\"\n",
              "              title=\"Convert this dataframe to an interactive table.\"\n",
              "              style=\"display:none;\">\n",
              "        \n",
              "  <svg xmlns=\"http://www.w3.org/2000/svg\" height=\"24px\"viewBox=\"0 0 24 24\"\n",
              "       width=\"24px\">\n",
              "    <path d=\"M0 0h24v24H0V0z\" fill=\"none\"/>\n",
              "    <path d=\"M18.56 5.44l.94 2.06.94-2.06 2.06-.94-2.06-.94-.94-2.06-.94 2.06-2.06.94zm-11 1L8.5 8.5l.94-2.06 2.06-.94-2.06-.94L8.5 2.5l-.94 2.06-2.06.94zm10 10l.94 2.06.94-2.06 2.06-.94-2.06-.94-.94-2.06-.94 2.06-2.06.94z\"/><path d=\"M17.41 7.96l-1.37-1.37c-.4-.4-.92-.59-1.43-.59-.52 0-1.04.2-1.43.59L10.3 9.45l-7.72 7.72c-.78.78-.78 2.05 0 2.83L4 21.41c.39.39.9.59 1.41.59.51 0 1.02-.2 1.41-.59l7.78-7.78 2.81-2.81c.8-.78.8-2.07 0-2.86zM5.41 20L4 18.59l7.72-7.72 1.47 1.35L5.41 20z\"/>\n",
              "  </svg>\n",
              "      </button>\n",
              "      \n",
              "  <style>\n",
              "    .colab-df-container {\n",
              "      display:flex;\n",
              "      flex-wrap:wrap;\n",
              "      gap: 12px;\n",
              "    }\n",
              "\n",
              "    .colab-df-convert {\n",
              "      background-color: #E8F0FE;\n",
              "      border: none;\n",
              "      border-radius: 50%;\n",
              "      cursor: pointer;\n",
              "      display: none;\n",
              "      fill: #1967D2;\n",
              "      height: 32px;\n",
              "      padding: 0 0 0 0;\n",
              "      width: 32px;\n",
              "    }\n",
              "\n",
              "    .colab-df-convert:hover {\n",
              "      background-color: #E2EBFA;\n",
              "      box-shadow: 0px 1px 2px rgba(60, 64, 67, 0.3), 0px 1px 3px 1px rgba(60, 64, 67, 0.15);\n",
              "      fill: #174EA6;\n",
              "    }\n",
              "\n",
              "    [theme=dark] .colab-df-convert {\n",
              "      background-color: #3B4455;\n",
              "      fill: #D2E3FC;\n",
              "    }\n",
              "\n",
              "    [theme=dark] .colab-df-convert:hover {\n",
              "      background-color: #434B5C;\n",
              "      box-shadow: 0px 1px 3px 1px rgba(0, 0, 0, 0.15);\n",
              "      filter: drop-shadow(0px 1px 2px rgba(0, 0, 0, 0.3));\n",
              "      fill: #FFFFFF;\n",
              "    }\n",
              "  </style>\n",
              "\n",
              "      <script>\n",
              "        const buttonEl =\n",
              "          document.querySelector('#df-08d5a93a-d678-4923-9277-0aaf414a0cdd button.colab-df-convert');\n",
              "        buttonEl.style.display =\n",
              "          google.colab.kernel.accessAllowed ? 'block' : 'none';\n",
              "\n",
              "        async function convertToInteractive(key) {\n",
              "          const element = document.querySelector('#df-08d5a93a-d678-4923-9277-0aaf414a0cdd');\n",
              "          const dataTable =\n",
              "            await google.colab.kernel.invokeFunction('convertToInteractive',\n",
              "                                                     [key], {});\n",
              "          if (!dataTable) return;\n",
              "\n",
              "          const docLinkHtml = 'Like what you see? Visit the ' +\n",
              "            '<a target=\"_blank\" href=https://colab.research.google.com/notebooks/data_table.ipynb>data table notebook</a>'\n",
              "            + ' to learn more about interactive tables.';\n",
              "          element.innerHTML = '';\n",
              "          dataTable['output_type'] = 'display_data';\n",
              "          await google.colab.output.renderOutput(dataTable, element);\n",
              "          const docLink = document.createElement('div');\n",
              "          docLink.innerHTML = docLinkHtml;\n",
              "          element.appendChild(docLink);\n",
              "        }\n",
              "      </script>\n",
              "    </div>\n",
              "  </div>\n",
              "  "
            ],
            "text/plain": [
              "                              index  fine_aspects  f1-score\n",
              "33           ROOMS_AMENITIES#PRICES            13    0.0000\n",
              "32              ROOMS#MISCELLANEOUS            30    0.0000\n",
              "31          ROOMS_AMENITIES#COMFORT            33    0.0000\n",
              "30               FOOD_DRINKS#PRICES            41    0.0000\n",
              "29                     ROOMS#PRICES            46    0.2500\n",
              "28               FACILITIES#COMFORT            47    0.0000\n",
              "27        FOOD_DRINKS#MISCELLANEOUS            51    0.0000\n",
              "26  ROOMS_AMENITIES#DESIGN_FEATURES            54    0.0000\n",
              "25    ROOMS_AMENITIES#MISCELLANEOUS            55    0.0000\n",
              "24         FACILITIES#MISCELLANEOUS            70    0.0000\n",
              "23                FACILITIES#PRICES            84    0.1000\n",
              "22           FACILITIES#CLEANLINESS           115    0.3077\n",
              "21       FACILITIES#DESIGN_FEATURES           117    0.0625\n",
              "20      ROOMS_AMENITIES#CLEANLINESS           123    0.4138\n",
              "19            HOTEL#DESIGN_FEATURES           127    0.3590\n",
              "18                    ROOMS#COMFORT           135    0.4865\n",
              "17               FACILITIES#QUALITY           136    0.0000\n",
              "16              HOTEL#MISCELLANEOUS           140    0.0000\n",
              "15                    ROOMS#QUALITY           142    0.0606\n",
              "14          ROOMS_AMENITIES#QUALITY           176    0.3404\n",
              "13        FOOD_DRINKS#STYLE_OPTIONS           182    0.6250\n",
              "12                    HOTEL#COMFORT           199    0.5000\n",
              "11          ROOMS_AMENITIES#GENERAL           251    0.3117\n",
              "10                HOTEL#CLEANLINESS           252    0.5812\n",
              "9                     HOTEL#QUALITY           253    0.2791\n",
              "8                     ROOMS#GENERAL           319    0.4821\n",
              "7             ROOMS#DESIGN_FEATURES           342    0.7059\n",
              "6                 ROOMS#CLEANLINESS           357    0.7226\n",
              "5                      HOTEL#PRICES           372    0.6364\n",
              "4               FOOD_DRINKS#QUALITY           686    0.8395\n",
              "3                FACILITIES#GENERAL           785    0.4937\n",
              "2                  LOCATION#GENERAL          1087    0.8397\n",
              "1                     HOTEL#GENERAL          1468    0.7210\n",
              "0                   SERVICE#GENERAL          2221    0.9179"
            ]
          },
          "metadata": {},
          "execution_count": 72
        }
      ]
    },
    {
      "cell_type": "code",
      "source": [
        "byclass_f1_arabert_teacher_df.to_csv(f'{RES_PATH}/byclass_f1_arabert_teacher.csv', index=False)"
      ],
      "metadata": {
        "id": "2dAi41QQrX9i"
      },
      "execution_count": null,
      "outputs": []
    },
    {
      "cell_type": "markdown",
      "source": [
        "Plot the result:"
      ],
      "metadata": {
        "id": "xyleI9mRmpT6"
      }
    },
    {
      "cell_type": "code",
      "source": [
        "by_class_res(y_test_filtered, preds_test, cor=False, plot=True, model_name='ARABERT')"
      ],
      "metadata": {
        "colab": {
          "base_uri": "https://localhost:8080/",
          "height": 617
        },
        "outputId": "44776d1d-9985-478a-8d71-d896b6edc0b1",
        "id": "G99CIQXtmpT6"
      },
      "execution_count": null,
      "outputs": [
        {
          "output_type": "display_data",
          "data": {
            "text/html": [
              "<html>\n",
              "<head><meta charset=\"utf-8\" /></head>\n",
              "<body>\n",
              "    <div>            <script src=\"https://cdnjs.cloudflare.com/ajax/libs/mathjax/2.7.5/MathJax.js?config=TeX-AMS-MML_SVG\"></script><script type=\"text/javascript\">if (window.MathJax) {MathJax.Hub.Config({SVG: {font: \"STIX-Web\"}});}</script>                <script type=\"text/javascript\">window.PlotlyConfig = {MathJaxConfig: 'local'};</script>\n",
              "        <script src=\"https://cdn.plot.ly/plotly-2.9.0.min.js\"></script>                <div id=\"d995b990-d4b6-4110-8cda-460aee08fbcb\" class=\"plotly-graph-div\" style=\"height:600px; width:100%;\"></div>            <script type=\"text/javascript\">                                    window.PLOTLYENV=window.PLOTLYENV || {};                                    if (document.getElementById(\"d995b990-d4b6-4110-8cda-460aee08fbcb\")) {                    Plotly.newPlot(                        \"d995b990-d4b6-4110-8cda-460aee08fbcb\",                        [{\"alignmentgroup\":\"True\",\"hovertemplate\":\"index=%{x}<br>fine_aspects=%{y}<extra></extra>\",\"legendgroup\":\"\",\"marker\":{\"color\":\"#636efa\",\"pattern\":{\"shape\":\"\"}},\"name\":\"Aspect Category\",\"offsetgroup\":\"\",\"orientation\":\"v\",\"showlegend\":true,\"textposition\":\"auto\",\"x\":[\"ROOMS_AMENITIES#PRICES\",\"ROOMS#MISCELLANEOUS\",\"ROOMS_AMENITIES#COMFORT\",\"FOOD_DRINKS#PRICES\",\"ROOMS#PRICES\",\"FACILITIES#COMFORT\",\"FOOD_DRINKS#MISCELLANEOUS\",\"ROOMS_AMENITIES#DESIGN_FEATURES\",\"ROOMS_AMENITIES#MISCELLANEOUS\",\"FACILITIES#MISCELLANEOUS\",\"FACILITIES#PRICES\",\"FACILITIES#CLEANLINESS\",\"FACILITIES#DESIGN_FEATURES\",\"ROOMS_AMENITIES#CLEANLINESS\",\"HOTEL#DESIGN_FEATURES\",\"ROOMS#COMFORT\",\"FACILITIES#QUALITY\",\"HOTEL#MISCELLANEOUS\",\"ROOMS#QUALITY\",\"ROOMS_AMENITIES#QUALITY\",\"FOOD_DRINKS#STYLE_OPTIONS\",\"HOTEL#COMFORT\",\"ROOMS_AMENITIES#GENERAL\",\"HOTEL#CLEANLINESS\",\"HOTEL#QUALITY\",\"ROOMS#GENERAL\",\"ROOMS#DESIGN_FEATURES\",\"ROOMS#CLEANLINESS\",\"HOTEL#PRICES\",\"FOOD_DRINKS#QUALITY\",\"FACILITIES#GENERAL\",\"LOCATION#GENERAL\",\"HOTEL#GENERAL\",\"SERVICE#GENERAL\"],\"xaxis\":\"x\",\"y\":[13,30,33,41,46,47,51,54,55,70,84,115,117,123,127,135,136,140,142,176,182,199,251,252,253,319,342,357,372,686,785,1087,1468,2221],\"yaxis\":\"y\",\"type\":\"bar\"},{\"hovertemplate\":\"index=%{x}<br>f1-score=%{y}<extra></extra>\",\"legendgroup\":\"\",\"marker\":{\"color\":\"grey\",\"symbol\":\"circle\"},\"mode\":\"markers+lines\",\"name\":\"F1 Score\",\"orientation\":\"v\",\"showlegend\":true,\"x\":[\"ROOMS_AMENITIES#PRICES\",\"ROOMS#MISCELLANEOUS\",\"ROOMS_AMENITIES#COMFORT\",\"FOOD_DRINKS#PRICES\",\"ROOMS#PRICES\",\"FACILITIES#COMFORT\",\"FOOD_DRINKS#MISCELLANEOUS\",\"ROOMS_AMENITIES#DESIGN_FEATURES\",\"ROOMS_AMENITIES#MISCELLANEOUS\",\"FACILITIES#MISCELLANEOUS\",\"FACILITIES#PRICES\",\"FACILITIES#CLEANLINESS\",\"FACILITIES#DESIGN_FEATURES\",\"ROOMS_AMENITIES#CLEANLINESS\",\"HOTEL#DESIGN_FEATURES\",\"ROOMS#COMFORT\",\"FACILITIES#QUALITY\",\"HOTEL#MISCELLANEOUS\",\"ROOMS#QUALITY\",\"ROOMS_AMENITIES#QUALITY\",\"FOOD_DRINKS#STYLE_OPTIONS\",\"HOTEL#COMFORT\",\"ROOMS_AMENITIES#GENERAL\",\"HOTEL#CLEANLINESS\",\"HOTEL#QUALITY\",\"ROOMS#GENERAL\",\"ROOMS#DESIGN_FEATURES\",\"ROOMS#CLEANLINESS\",\"HOTEL#PRICES\",\"FOOD_DRINKS#QUALITY\",\"FACILITIES#GENERAL\",\"LOCATION#GENERAL\",\"HOTEL#GENERAL\",\"SERVICE#GENERAL\"],\"xaxis\":\"x\",\"y\":[0.0,0.0,0.0,0.0,0.25,0.0,0.0,0.0,0.0,0.0,0.09999999999999999,0.30769230769230776,0.0625,0.41379310344827586,0.358974358974359,0.4864864864864864,0.0,0.0,0.0606060606060606,0.3404255319148936,0.625,0.5,0.3116883116883117,0.5811965811965812,0.27906976744186046,0.4821428571428572,0.7058823529411765,0.7225806451612903,0.6363636363636364,0.8395061728395062,0.4936708860759494,0.8396946564885495,0.7210440456769984,0.9178852643419573],\"yaxis\":\"y2\",\"type\":\"scatter\"}],                        {\"template\":{\"data\":{\"bar\":[{\"error_x\":{\"color\":\"#2a3f5f\"},\"error_y\":{\"color\":\"#2a3f5f\"},\"marker\":{\"line\":{\"color\":\"white\",\"width\":0.5},\"pattern\":{\"fillmode\":\"overlay\",\"size\":10,\"solidity\":0.2}},\"type\":\"bar\"}],\"barpolar\":[{\"marker\":{\"line\":{\"color\":\"white\",\"width\":0.5},\"pattern\":{\"fillmode\":\"overlay\",\"size\":10,\"solidity\":0.2}},\"type\":\"barpolar\"}],\"carpet\":[{\"aaxis\":{\"endlinecolor\":\"#2a3f5f\",\"gridcolor\":\"#C8D4E3\",\"linecolor\":\"#C8D4E3\",\"minorgridcolor\":\"#C8D4E3\",\"startlinecolor\":\"#2a3f5f\"},\"baxis\":{\"endlinecolor\":\"#2a3f5f\",\"gridcolor\":\"#C8D4E3\",\"linecolor\":\"#C8D4E3\",\"minorgridcolor\":\"#C8D4E3\",\"startlinecolor\":\"#2a3f5f\"},\"type\":\"carpet\"}],\"choropleth\":[{\"colorbar\":{\"outlinewidth\":0,\"ticks\":\"\"},\"type\":\"choropleth\"}],\"contour\":[{\"colorbar\":{\"outlinewidth\":0,\"ticks\":\"\"},\"colorscale\":[[0.0,\"#0d0887\"],[0.1111111111111111,\"#46039f\"],[0.2222222222222222,\"#7201a8\"],[0.3333333333333333,\"#9c179e\"],[0.4444444444444444,\"#bd3786\"],[0.5555555555555556,\"#d8576b\"],[0.6666666666666666,\"#ed7953\"],[0.7777777777777778,\"#fb9f3a\"],[0.8888888888888888,\"#fdca26\"],[1.0,\"#f0f921\"]],\"type\":\"contour\"}],\"contourcarpet\":[{\"colorbar\":{\"outlinewidth\":0,\"ticks\":\"\"},\"type\":\"contourcarpet\"}],\"heatmap\":[{\"colorbar\":{\"outlinewidth\":0,\"ticks\":\"\"},\"colorscale\":[[0.0,\"#0d0887\"],[0.1111111111111111,\"#46039f\"],[0.2222222222222222,\"#7201a8\"],[0.3333333333333333,\"#9c179e\"],[0.4444444444444444,\"#bd3786\"],[0.5555555555555556,\"#d8576b\"],[0.6666666666666666,\"#ed7953\"],[0.7777777777777778,\"#fb9f3a\"],[0.8888888888888888,\"#fdca26\"],[1.0,\"#f0f921\"]],\"type\":\"heatmap\"}],\"heatmapgl\":[{\"colorbar\":{\"outlinewidth\":0,\"ticks\":\"\"},\"colorscale\":[[0.0,\"#0d0887\"],[0.1111111111111111,\"#46039f\"],[0.2222222222222222,\"#7201a8\"],[0.3333333333333333,\"#9c179e\"],[0.4444444444444444,\"#bd3786\"],[0.5555555555555556,\"#d8576b\"],[0.6666666666666666,\"#ed7953\"],[0.7777777777777778,\"#fb9f3a\"],[0.8888888888888888,\"#fdca26\"],[1.0,\"#f0f921\"]],\"type\":\"heatmapgl\"}],\"histogram\":[{\"marker\":{\"pattern\":{\"fillmode\":\"overlay\",\"size\":10,\"solidity\":0.2}},\"type\":\"histogram\"}],\"histogram2d\":[{\"colorbar\":{\"outlinewidth\":0,\"ticks\":\"\"},\"colorscale\":[[0.0,\"#0d0887\"],[0.1111111111111111,\"#46039f\"],[0.2222222222222222,\"#7201a8\"],[0.3333333333333333,\"#9c179e\"],[0.4444444444444444,\"#bd3786\"],[0.5555555555555556,\"#d8576b\"],[0.6666666666666666,\"#ed7953\"],[0.7777777777777778,\"#fb9f3a\"],[0.8888888888888888,\"#fdca26\"],[1.0,\"#f0f921\"]],\"type\":\"histogram2d\"}],\"histogram2dcontour\":[{\"colorbar\":{\"outlinewidth\":0,\"ticks\":\"\"},\"colorscale\":[[0.0,\"#0d0887\"],[0.1111111111111111,\"#46039f\"],[0.2222222222222222,\"#7201a8\"],[0.3333333333333333,\"#9c179e\"],[0.4444444444444444,\"#bd3786\"],[0.5555555555555556,\"#d8576b\"],[0.6666666666666666,\"#ed7953\"],[0.7777777777777778,\"#fb9f3a\"],[0.8888888888888888,\"#fdca26\"],[1.0,\"#f0f921\"]],\"type\":\"histogram2dcontour\"}],\"mesh3d\":[{\"colorbar\":{\"outlinewidth\":0,\"ticks\":\"\"},\"type\":\"mesh3d\"}],\"parcoords\":[{\"line\":{\"colorbar\":{\"outlinewidth\":0,\"ticks\":\"\"}},\"type\":\"parcoords\"}],\"pie\":[{\"automargin\":true,\"type\":\"pie\"}],\"scatter\":[{\"marker\":{\"colorbar\":{\"outlinewidth\":0,\"ticks\":\"\"}},\"type\":\"scatter\"}],\"scatter3d\":[{\"line\":{\"colorbar\":{\"outlinewidth\":0,\"ticks\":\"\"}},\"marker\":{\"colorbar\":{\"outlinewidth\":0,\"ticks\":\"\"}},\"type\":\"scatter3d\"}],\"scattercarpet\":[{\"marker\":{\"colorbar\":{\"outlinewidth\":0,\"ticks\":\"\"}},\"type\":\"scattercarpet\"}],\"scattergeo\":[{\"marker\":{\"colorbar\":{\"outlinewidth\":0,\"ticks\":\"\"}},\"type\":\"scattergeo\"}],\"scattergl\":[{\"marker\":{\"colorbar\":{\"outlinewidth\":0,\"ticks\":\"\"}},\"type\":\"scattergl\"}],\"scattermapbox\":[{\"marker\":{\"colorbar\":{\"outlinewidth\":0,\"ticks\":\"\"}},\"type\":\"scattermapbox\"}],\"scatterpolar\":[{\"marker\":{\"colorbar\":{\"outlinewidth\":0,\"ticks\":\"\"}},\"type\":\"scatterpolar\"}],\"scatterpolargl\":[{\"marker\":{\"colorbar\":{\"outlinewidth\":0,\"ticks\":\"\"}},\"type\":\"scatterpolargl\"}],\"scatterternary\":[{\"marker\":{\"colorbar\":{\"outlinewidth\":0,\"ticks\":\"\"}},\"type\":\"scatterternary\"}],\"surface\":[{\"colorbar\":{\"outlinewidth\":0,\"ticks\":\"\"},\"colorscale\":[[0.0,\"#0d0887\"],[0.1111111111111111,\"#46039f\"],[0.2222222222222222,\"#7201a8\"],[0.3333333333333333,\"#9c179e\"],[0.4444444444444444,\"#bd3786\"],[0.5555555555555556,\"#d8576b\"],[0.6666666666666666,\"#ed7953\"],[0.7777777777777778,\"#fb9f3a\"],[0.8888888888888888,\"#fdca26\"],[1.0,\"#f0f921\"]],\"type\":\"surface\"}],\"table\":[{\"cells\":{\"fill\":{\"color\":\"#EBF0F8\"},\"line\":{\"color\":\"white\"}},\"header\":{\"fill\":{\"color\":\"#C8D4E3\"},\"line\":{\"color\":\"white\"}},\"type\":\"table\"}]},\"layout\":{\"annotationdefaults\":{\"arrowcolor\":\"#2a3f5f\",\"arrowhead\":0,\"arrowwidth\":1},\"autotypenumbers\":\"strict\",\"coloraxis\":{\"colorbar\":{\"outlinewidth\":0,\"ticks\":\"\"}},\"colorscale\":{\"diverging\":[[0,\"#8e0152\"],[0.1,\"#c51b7d\"],[0.2,\"#de77ae\"],[0.3,\"#f1b6da\"],[0.4,\"#fde0ef\"],[0.5,\"#f7f7f7\"],[0.6,\"#e6f5d0\"],[0.7,\"#b8e186\"],[0.8,\"#7fbc41\"],[0.9,\"#4d9221\"],[1,\"#276419\"]],\"sequential\":[[0.0,\"#0d0887\"],[0.1111111111111111,\"#46039f\"],[0.2222222222222222,\"#7201a8\"],[0.3333333333333333,\"#9c179e\"],[0.4444444444444444,\"#bd3786\"],[0.5555555555555556,\"#d8576b\"],[0.6666666666666666,\"#ed7953\"],[0.7777777777777778,\"#fb9f3a\"],[0.8888888888888888,\"#fdca26\"],[1.0,\"#f0f921\"]],\"sequentialminus\":[[0.0,\"#0d0887\"],[0.1111111111111111,\"#46039f\"],[0.2222222222222222,\"#7201a8\"],[0.3333333333333333,\"#9c179e\"],[0.4444444444444444,\"#bd3786\"],[0.5555555555555556,\"#d8576b\"],[0.6666666666666666,\"#ed7953\"],[0.7777777777777778,\"#fb9f3a\"],[0.8888888888888888,\"#fdca26\"],[1.0,\"#f0f921\"]]},\"colorway\":[\"#636efa\",\"#EF553B\",\"#00cc96\",\"#ab63fa\",\"#FFA15A\",\"#19d3f3\",\"#FF6692\",\"#B6E880\",\"#FF97FF\",\"#FECB52\"],\"font\":{\"color\":\"#2a3f5f\"},\"geo\":{\"bgcolor\":\"white\",\"lakecolor\":\"white\",\"landcolor\":\"white\",\"showlakes\":true,\"showland\":true,\"subunitcolor\":\"#C8D4E3\"},\"hoverlabel\":{\"align\":\"left\"},\"hovermode\":\"closest\",\"mapbox\":{\"style\":\"light\"},\"paper_bgcolor\":\"white\",\"plot_bgcolor\":\"white\",\"polar\":{\"angularaxis\":{\"gridcolor\":\"#EBF0F8\",\"linecolor\":\"#EBF0F8\",\"ticks\":\"\"},\"bgcolor\":\"white\",\"radialaxis\":{\"gridcolor\":\"#EBF0F8\",\"linecolor\":\"#EBF0F8\",\"ticks\":\"\"}},\"scene\":{\"xaxis\":{\"backgroundcolor\":\"white\",\"gridcolor\":\"#DFE8F3\",\"gridwidth\":2,\"linecolor\":\"#EBF0F8\",\"showbackground\":true,\"ticks\":\"\",\"zerolinecolor\":\"#EBF0F8\"},\"yaxis\":{\"backgroundcolor\":\"white\",\"gridcolor\":\"#DFE8F3\",\"gridwidth\":2,\"linecolor\":\"#EBF0F8\",\"showbackground\":true,\"ticks\":\"\",\"zerolinecolor\":\"#EBF0F8\"},\"zaxis\":{\"backgroundcolor\":\"white\",\"gridcolor\":\"#DFE8F3\",\"gridwidth\":2,\"linecolor\":\"#EBF0F8\",\"showbackground\":true,\"ticks\":\"\",\"zerolinecolor\":\"#EBF0F8\"}},\"shapedefaults\":{\"line\":{\"color\":\"#2a3f5f\"}},\"ternary\":{\"aaxis\":{\"gridcolor\":\"#DFE8F3\",\"linecolor\":\"#A2B1C6\",\"ticks\":\"\"},\"baxis\":{\"gridcolor\":\"#DFE8F3\",\"linecolor\":\"#A2B1C6\",\"ticks\":\"\"},\"bgcolor\":\"white\",\"caxis\":{\"gridcolor\":\"#DFE8F3\",\"linecolor\":\"#A2B1C6\",\"ticks\":\"\"}},\"title\":{\"x\":0.05},\"xaxis\":{\"automargin\":true,\"gridcolor\":\"#EBF0F8\",\"linecolor\":\"#EBF0F8\",\"ticks\":\"\",\"title\":{\"standoff\":15},\"zerolinecolor\":\"#EBF0F8\",\"zerolinewidth\":2},\"yaxis\":{\"automargin\":true,\"gridcolor\":\"#EBF0F8\",\"linecolor\":\"#EBF0F8\",\"ticks\":\"\",\"title\":{\"standoff\":15},\"zerolinecolor\":\"#EBF0F8\",\"zerolinewidth\":2}}},\"xaxis\":{\"anchor\":\"y\",\"domain\":[0.0,0.94]},\"yaxis\":{\"anchor\":\"x\",\"domain\":[0.0,1.0],\"title\":{\"text\":\"Aspect Category Count\"}},\"yaxis2\":{\"anchor\":\"x\",\"overlaying\":\"y\",\"side\":\"right\",\"title\":{\"text\":\"F1 Score\"}},\"legend\":{\"orientation\":\"h\",\"y\":1.05,\"x\":0.35},\"title\":{\"text\":\"Correlation Between Class Count and its F1 Score (ARABERT)\"},\"height\":600},                        {\"responsive\": true}                    ).then(function(){\n",
              "                            \n",
              "var gd = document.getElementById('d995b990-d4b6-4110-8cda-460aee08fbcb');\n",
              "var x = new MutationObserver(function (mutations, observer) {{\n",
              "        var display = window.getComputedStyle(gd).display;\n",
              "        if (!display || display === 'none') {{\n",
              "            console.log([gd, 'removed!']);\n",
              "            Plotly.purge(gd);\n",
              "            observer.disconnect();\n",
              "        }}\n",
              "}});\n",
              "\n",
              "// Listen for the removal of the full notebook cells\n",
              "var notebookContainer = gd.closest('#notebook-container');\n",
              "if (notebookContainer) {{\n",
              "    x.observe(notebookContainer, {childList: true});\n",
              "}}\n",
              "\n",
              "// Listen for the clearing of the current output cell\n",
              "var outputEl = gd.closest('.output');\n",
              "if (outputEl) {{\n",
              "    x.observe(outputEl, {childList: true});\n",
              "}}\n",
              "\n",
              "                        })                };                            </script>        </div>\n",
              "</body>\n",
              "</html>"
            ]
          },
          "metadata": {}
        }
      ]
    },
    {
      "cell_type": "markdown",
      "metadata": {
        "id": "ux97b4ZIk17T"
      },
      "source": [
        "## Visualizing the Learning Process"
      ]
    },
    {
      "cell_type": "code",
      "metadata": {
        "id": "O68uHKozQFBI",
        "colab": {
          "base_uri": "https://localhost:8080/",
          "height": 357
        },
        "outputId": "6f1d15d2-560c-43a5-9a99-478218cfa1bc"
      },
      "source": [
        "hist_df = pd.DataFrame(\n",
        "    {\n",
        "        'Accuracy': hist['accuracy'],\n",
        "        'Loss': hist['loss'],\n",
        "        'Validation Accuracy': hist['val_accuracy'],\n",
        "        'Validation Loss': hist['val_loss']\n",
        "        \n",
        "     \n",
        "    },\n",
        "    index = np.arange(1, len(hist['accuracy'])+1)\n",
        ")\n",
        "\n",
        "hist_df"
      ],
      "execution_count": null,
      "outputs": [
        {
          "output_type": "execute_result",
          "data": {
            "text/html": [
              "<div>\n",
              "<style scoped>\n",
              "    .dataframe tbody tr th:only-of-type {\n",
              "        vertical-align: middle;\n",
              "    }\n",
              "\n",
              "    .dataframe tbody tr th {\n",
              "        vertical-align: top;\n",
              "    }\n",
              "\n",
              "    .dataframe thead th {\n",
              "        text-align: right;\n",
              "    }\n",
              "</style>\n",
              "<table border=\"1\" class=\"dataframe\">\n",
              "  <thead>\n",
              "    <tr style=\"text-align: right;\">\n",
              "      <th></th>\n",
              "      <th>Accuracy</th>\n",
              "      <th>Loss</th>\n",
              "      <th>Validation Accuracy</th>\n",
              "      <th>Validation Loss</th>\n",
              "    </tr>\n",
              "  </thead>\n",
              "  <tbody>\n",
              "    <tr>\n",
              "      <th>1</th>\n",
              "      <td>0.110099</td>\n",
              "      <td>0.265527</td>\n",
              "      <td>0.092708</td>\n",
              "      <td>0.188603</td>\n",
              "    </tr>\n",
              "    <tr>\n",
              "      <th>2</th>\n",
              "      <td>0.205362</td>\n",
              "      <td>0.167509</td>\n",
              "      <td>0.234375</td>\n",
              "      <td>0.161777</td>\n",
              "    </tr>\n",
              "    <tr>\n",
              "      <th>3</th>\n",
              "      <td>0.324310</td>\n",
              "      <td>0.141535</td>\n",
              "      <td>0.312500</td>\n",
              "      <td>0.141649</td>\n",
              "    </tr>\n",
              "    <tr>\n",
              "      <th>4</th>\n",
              "      <td>0.383654</td>\n",
              "      <td>0.122632</td>\n",
              "      <td>0.376042</td>\n",
              "      <td>0.127432</td>\n",
              "    </tr>\n",
              "    <tr>\n",
              "      <th>5</th>\n",
              "      <td>0.415148</td>\n",
              "      <td>0.108539</td>\n",
              "      <td>0.382292</td>\n",
              "      <td>0.119614</td>\n",
              "    </tr>\n",
              "    <tr>\n",
              "      <th>6</th>\n",
              "      <td>0.452889</td>\n",
              "      <td>0.096501</td>\n",
              "      <td>0.397917</td>\n",
              "      <td>0.115424</td>\n",
              "    </tr>\n",
              "    <tr>\n",
              "      <th>7</th>\n",
              "      <td>0.496356</td>\n",
              "      <td>0.086101</td>\n",
              "      <td>0.433333</td>\n",
              "      <td>0.109930</td>\n",
              "    </tr>\n",
              "    <tr>\n",
              "      <th>8</th>\n",
              "      <td>0.520042</td>\n",
              "      <td>0.077217</td>\n",
              "      <td>0.431250</td>\n",
              "      <td>0.108733</td>\n",
              "    </tr>\n",
              "    <tr>\n",
              "      <th>9</th>\n",
              "      <td>0.556481</td>\n",
              "      <td>0.068096</td>\n",
              "      <td>0.433333</td>\n",
              "      <td>0.107886</td>\n",
              "    </tr>\n",
              "    <tr>\n",
              "      <th>10</th>\n",
              "      <td>0.575221</td>\n",
              "      <td>0.060673</td>\n",
              "      <td>0.420833</td>\n",
              "      <td>0.107782</td>\n",
              "    </tr>\n",
              "  </tbody>\n",
              "</table>\n",
              "</div>"
            ],
            "text/plain": [
              "    Accuracy      Loss  Validation Accuracy  Validation Loss\n",
              "1   0.110099  0.265527             0.092708         0.188603\n",
              "2   0.205362  0.167509             0.234375         0.161777\n",
              "3   0.324310  0.141535             0.312500         0.141649\n",
              "4   0.383654  0.122632             0.376042         0.127432\n",
              "5   0.415148  0.108539             0.382292         0.119614\n",
              "6   0.452889  0.096501             0.397917         0.115424\n",
              "7   0.496356  0.086101             0.433333         0.109930\n",
              "8   0.520042  0.077217             0.431250         0.108733\n",
              "9   0.556481  0.068096             0.433333         0.107886\n",
              "10  0.575221  0.060673             0.420833         0.107782"
            ]
          },
          "metadata": {},
          "execution_count": 121
        }
      ]
    },
    {
      "cell_type": "code",
      "metadata": {
        "id": "qry8lSY7MHJf"
      },
      "source": [
        "from plotly.subplots import make_subplots\n",
        "def plot_performance(hist_df, title = 'Performance Report', subtitle=''):\n",
        "    \n",
        "    fig = make_subplots(rows=1, cols=2, shared_xaxes=True, print_grid=False,\n",
        "                        subplot_titles=['Accuracy', 'Cross Entropy Loss'])\n",
        "    \n",
        "    names = ['Train', 'Validation']\n",
        "    \n",
        "    colors = {'Accuracy': 'blue', 'Loss': 'blue', 'Validation Accuracy': 'red', 'Validation Loss': 'red'}\n",
        "\n",
        "    for i, col in enumerate(hist_df.filter(regex='Accuracy',axis=1)):\n",
        "        fig.append_trace(Scatter(x=hist_df.index, y=hist_df[col], \n",
        "                                 mode='lines+markers',\n",
        "                                 opacity=0.6,\n",
        "                                 name=names[i], \n",
        "                                 marker=dict(color=colors[col],\n",
        "                                             size=11,\n",
        "                                             opacity=0.7,\n",
        "                                             line=dict(width=2, color='white'))), \n",
        "                         # insert both traces in the 1st subplot\n",
        "                         1, 1)\n",
        "    \n",
        "    for i,col in enumerate(hist_df.filter(regex='Loss', axis=1)):\n",
        "        fig.append_trace(Scatter(x=hist_df.index, y=hist_df[col], \n",
        "                                 mode='lines+markers',\n",
        "                                 opacity=0.6,\n",
        "                                 name=names[i], \n",
        "                                 marker=dict(color=colors[col],\n",
        "                                             size=12,\n",
        "                                             opacity=0.6,\n",
        "                                             line=dict(width=2, color='white')), showlegend=False), 1, 2)\n",
        "\n",
        "    fig['layout'].update(dict(xaxis1=dict(title = 'Epoch'),\n",
        "                              xaxis2=dict(title = 'Epoch'),\n",
        "                              yaxis1=dict(tickformat='.1%')))\n",
        "    \n",
        "    # add title and subtitle to the plot\n",
        "    fig.add_annotation(\n",
        "        dict(text = '{title}'.format(title=title),\n",
        "             xref = 'paper',\n",
        "             yref = 'paper',\n",
        "             x = -0.035,\n",
        "             y = 1.27,\n",
        "             font = dict(size=23),\n",
        "             showarrow = False),\n",
        "    ),\n",
        "\n",
        "    fig.add_annotation(\n",
        "        # subtitle\n",
        "        dict(text = '{subtitle}'.format(subtitle=subtitle),\n",
        "             xref = 'paper',\n",
        "             yref = 'paper',\n",
        "             x = -0.035,\n",
        "             y = 1.18,\n",
        "             font = dict(size=17),\n",
        "             showarrow = False)\n",
        "    )\n",
        "                                     \n",
        "                                     \n",
        "    \n",
        "    fig.show()"
      ],
      "execution_count": null,
      "outputs": []
    },
    {
      "cell_type": "code",
      "metadata": {
        "id": "Py9LLK9ANJfl",
        "colab": {
          "base_uri": "https://localhost:8080/",
          "height": 542
        },
        "outputId": "2b9bdd98-681f-4dfe-d892-2660774fe209"
      },
      "source": [
        "plot_performance(hist_df, subtitle='BERT')"
      ],
      "execution_count": null,
      "outputs": [
        {
          "output_type": "display_data",
          "data": {
            "text/html": [
              "<html>\n",
              "<head><meta charset=\"utf-8\" /></head>\n",
              "<body>\n",
              "    <div>            <script src=\"https://cdnjs.cloudflare.com/ajax/libs/mathjax/2.7.5/MathJax.js?config=TeX-AMS-MML_SVG\"></script><script type=\"text/javascript\">if (window.MathJax) {MathJax.Hub.Config({SVG: {font: \"STIX-Web\"}});}</script>                <script type=\"text/javascript\">window.PlotlyConfig = {MathJaxConfig: 'local'};</script>\n",
              "        <script src=\"https://cdn.plot.ly/plotly-2.6.3.min.js\"></script>                <div id=\"4036cba1-3ed2-4c1d-a65a-fefdd779c24b\" class=\"plotly-graph-div\" style=\"height:525px; width:100%;\"></div>            <script type=\"text/javascript\">                                    window.PLOTLYENV=window.PLOTLYENV || {};                                    if (document.getElementById(\"4036cba1-3ed2-4c1d-a65a-fefdd779c24b\")) {                    Plotly.newPlot(                        \"4036cba1-3ed2-4c1d-a65a-fefdd779c24b\",                        [{\"marker\":{\"color\":\"blue\",\"line\":{\"color\":\"white\",\"width\":2},\"opacity\":0.7,\"size\":11},\"mode\":\"lines+markers\",\"name\":\"Train\",\"opacity\":0.6,\"x\":[1,2,3,4,5,6,7,8,9,10],\"y\":[0.11009890586137772,0.20536178350448608,0.3243102431297302,0.3836543560028076,0.4151483476161957,0.4528891146183014,0.4963560700416565,0.5200416445732117,0.5564810037612915,0.5752212405204773],\"type\":\"scatter\",\"xaxis\":\"x\",\"yaxis\":\"y\"},{\"marker\":{\"color\":\"red\",\"line\":{\"color\":\"white\",\"width\":2},\"opacity\":0.7,\"size\":11},\"mode\":\"lines+markers\",\"name\":\"Validation\",\"opacity\":0.6,\"x\":[1,2,3,4,5,6,7,8,9,10],\"y\":[0.09270833432674408,0.234375,0.3125,0.3760416805744171,0.38229167461395264,0.39791667461395264,0.4333333373069763,0.4312500059604645,0.4333333373069763,0.4208333194255829],\"type\":\"scatter\",\"xaxis\":\"x\",\"yaxis\":\"y\"},{\"marker\":{\"color\":\"blue\",\"line\":{\"color\":\"white\",\"width\":2},\"opacity\":0.6,\"size\":12},\"mode\":\"lines+markers\",\"name\":\"Train\",\"opacity\":0.6,\"showlegend\":false,\"x\":[1,2,3,4,5,6,7,8,9,10],\"y\":[0.2655268907546997,0.1675085425376892,0.14153529703617096,0.12263162434101105,0.10853888094425201,0.09650062024593353,0.08610077202320099,0.07721707224845886,0.06809593737125397,0.06067288666963577],\"type\":\"scatter\",\"xaxis\":\"x2\",\"yaxis\":\"y2\"},{\"marker\":{\"color\":\"red\",\"line\":{\"color\":\"white\",\"width\":2},\"opacity\":0.6,\"size\":12},\"mode\":\"lines+markers\",\"name\":\"Validation\",\"opacity\":0.6,\"showlegend\":false,\"x\":[1,2,3,4,5,6,7,8,9,10],\"y\":[0.1886032670736313,0.16177742183208466,0.14164899289608002,0.12743237614631653,0.11961434781551361,0.11542379856109619,0.1099298745393753,0.1087334156036377,0.10788609087467194,0.10778172314167023],\"type\":\"scatter\",\"xaxis\":\"x2\",\"yaxis\":\"y2\"}],                        {\"template\":{\"data\":{\"bar\":[{\"error_x\":{\"color\":\"#2a3f5f\"},\"error_y\":{\"color\":\"#2a3f5f\"},\"marker\":{\"line\":{\"color\":\"white\",\"width\":0.5},\"pattern\":{\"fillmode\":\"overlay\",\"size\":10,\"solidity\":0.2}},\"type\":\"bar\"}],\"barpolar\":[{\"marker\":{\"line\":{\"color\":\"white\",\"width\":0.5},\"pattern\":{\"fillmode\":\"overlay\",\"size\":10,\"solidity\":0.2}},\"type\":\"barpolar\"}],\"carpet\":[{\"aaxis\":{\"endlinecolor\":\"#2a3f5f\",\"gridcolor\":\"#C8D4E3\",\"linecolor\":\"#C8D4E3\",\"minorgridcolor\":\"#C8D4E3\",\"startlinecolor\":\"#2a3f5f\"},\"baxis\":{\"endlinecolor\":\"#2a3f5f\",\"gridcolor\":\"#C8D4E3\",\"linecolor\":\"#C8D4E3\",\"minorgridcolor\":\"#C8D4E3\",\"startlinecolor\":\"#2a3f5f\"},\"type\":\"carpet\"}],\"choropleth\":[{\"colorbar\":{\"outlinewidth\":0,\"ticks\":\"\"},\"type\":\"choropleth\"}],\"contour\":[{\"colorbar\":{\"outlinewidth\":0,\"ticks\":\"\"},\"colorscale\":[[0.0,\"#0d0887\"],[0.1111111111111111,\"#46039f\"],[0.2222222222222222,\"#7201a8\"],[0.3333333333333333,\"#9c179e\"],[0.4444444444444444,\"#bd3786\"],[0.5555555555555556,\"#d8576b\"],[0.6666666666666666,\"#ed7953\"],[0.7777777777777778,\"#fb9f3a\"],[0.8888888888888888,\"#fdca26\"],[1.0,\"#f0f921\"]],\"type\":\"contour\"}],\"contourcarpet\":[{\"colorbar\":{\"outlinewidth\":0,\"ticks\":\"\"},\"type\":\"contourcarpet\"}],\"heatmap\":[{\"colorbar\":{\"outlinewidth\":0,\"ticks\":\"\"},\"colorscale\":[[0.0,\"#0d0887\"],[0.1111111111111111,\"#46039f\"],[0.2222222222222222,\"#7201a8\"],[0.3333333333333333,\"#9c179e\"],[0.4444444444444444,\"#bd3786\"],[0.5555555555555556,\"#d8576b\"],[0.6666666666666666,\"#ed7953\"],[0.7777777777777778,\"#fb9f3a\"],[0.8888888888888888,\"#fdca26\"],[1.0,\"#f0f921\"]],\"type\":\"heatmap\"}],\"heatmapgl\":[{\"colorbar\":{\"outlinewidth\":0,\"ticks\":\"\"},\"colorscale\":[[0.0,\"#0d0887\"],[0.1111111111111111,\"#46039f\"],[0.2222222222222222,\"#7201a8\"],[0.3333333333333333,\"#9c179e\"],[0.4444444444444444,\"#bd3786\"],[0.5555555555555556,\"#d8576b\"],[0.6666666666666666,\"#ed7953\"],[0.7777777777777778,\"#fb9f3a\"],[0.8888888888888888,\"#fdca26\"],[1.0,\"#f0f921\"]],\"type\":\"heatmapgl\"}],\"histogram\":[{\"marker\":{\"pattern\":{\"fillmode\":\"overlay\",\"size\":10,\"solidity\":0.2}},\"type\":\"histogram\"}],\"histogram2d\":[{\"colorbar\":{\"outlinewidth\":0,\"ticks\":\"\"},\"colorscale\":[[0.0,\"#0d0887\"],[0.1111111111111111,\"#46039f\"],[0.2222222222222222,\"#7201a8\"],[0.3333333333333333,\"#9c179e\"],[0.4444444444444444,\"#bd3786\"],[0.5555555555555556,\"#d8576b\"],[0.6666666666666666,\"#ed7953\"],[0.7777777777777778,\"#fb9f3a\"],[0.8888888888888888,\"#fdca26\"],[1.0,\"#f0f921\"]],\"type\":\"histogram2d\"}],\"histogram2dcontour\":[{\"colorbar\":{\"outlinewidth\":0,\"ticks\":\"\"},\"colorscale\":[[0.0,\"#0d0887\"],[0.1111111111111111,\"#46039f\"],[0.2222222222222222,\"#7201a8\"],[0.3333333333333333,\"#9c179e\"],[0.4444444444444444,\"#bd3786\"],[0.5555555555555556,\"#d8576b\"],[0.6666666666666666,\"#ed7953\"],[0.7777777777777778,\"#fb9f3a\"],[0.8888888888888888,\"#fdca26\"],[1.0,\"#f0f921\"]],\"type\":\"histogram2dcontour\"}],\"mesh3d\":[{\"colorbar\":{\"outlinewidth\":0,\"ticks\":\"\"},\"type\":\"mesh3d\"}],\"parcoords\":[{\"line\":{\"colorbar\":{\"outlinewidth\":0,\"ticks\":\"\"}},\"type\":\"parcoords\"}],\"pie\":[{\"automargin\":true,\"type\":\"pie\"}],\"scatter\":[{\"marker\":{\"colorbar\":{\"outlinewidth\":0,\"ticks\":\"\"}},\"type\":\"scatter\"}],\"scatter3d\":[{\"line\":{\"colorbar\":{\"outlinewidth\":0,\"ticks\":\"\"}},\"marker\":{\"colorbar\":{\"outlinewidth\":0,\"ticks\":\"\"}},\"type\":\"scatter3d\"}],\"scattercarpet\":[{\"marker\":{\"colorbar\":{\"outlinewidth\":0,\"ticks\":\"\"}},\"type\":\"scattercarpet\"}],\"scattergeo\":[{\"marker\":{\"colorbar\":{\"outlinewidth\":0,\"ticks\":\"\"}},\"type\":\"scattergeo\"}],\"scattergl\":[{\"marker\":{\"colorbar\":{\"outlinewidth\":0,\"ticks\":\"\"}},\"type\":\"scattergl\"}],\"scattermapbox\":[{\"marker\":{\"colorbar\":{\"outlinewidth\":0,\"ticks\":\"\"}},\"type\":\"scattermapbox\"}],\"scatterpolar\":[{\"marker\":{\"colorbar\":{\"outlinewidth\":0,\"ticks\":\"\"}},\"type\":\"scatterpolar\"}],\"scatterpolargl\":[{\"marker\":{\"colorbar\":{\"outlinewidth\":0,\"ticks\":\"\"}},\"type\":\"scatterpolargl\"}],\"scatterternary\":[{\"marker\":{\"colorbar\":{\"outlinewidth\":0,\"ticks\":\"\"}},\"type\":\"scatterternary\"}],\"surface\":[{\"colorbar\":{\"outlinewidth\":0,\"ticks\":\"\"},\"colorscale\":[[0.0,\"#0d0887\"],[0.1111111111111111,\"#46039f\"],[0.2222222222222222,\"#7201a8\"],[0.3333333333333333,\"#9c179e\"],[0.4444444444444444,\"#bd3786\"],[0.5555555555555556,\"#d8576b\"],[0.6666666666666666,\"#ed7953\"],[0.7777777777777778,\"#fb9f3a\"],[0.8888888888888888,\"#fdca26\"],[1.0,\"#f0f921\"]],\"type\":\"surface\"}],\"table\":[{\"cells\":{\"fill\":{\"color\":\"#EBF0F8\"},\"line\":{\"color\":\"white\"}},\"header\":{\"fill\":{\"color\":\"#C8D4E3\"},\"line\":{\"color\":\"white\"}},\"type\":\"table\"}]},\"layout\":{\"annotationdefaults\":{\"arrowcolor\":\"#2a3f5f\",\"arrowhead\":0,\"arrowwidth\":1},\"autotypenumbers\":\"strict\",\"coloraxis\":{\"colorbar\":{\"outlinewidth\":0,\"ticks\":\"\"}},\"colorscale\":{\"diverging\":[[0,\"#8e0152\"],[0.1,\"#c51b7d\"],[0.2,\"#de77ae\"],[0.3,\"#f1b6da\"],[0.4,\"#fde0ef\"],[0.5,\"#f7f7f7\"],[0.6,\"#e6f5d0\"],[0.7,\"#b8e186\"],[0.8,\"#7fbc41\"],[0.9,\"#4d9221\"],[1,\"#276419\"]],\"sequential\":[[0.0,\"#0d0887\"],[0.1111111111111111,\"#46039f\"],[0.2222222222222222,\"#7201a8\"],[0.3333333333333333,\"#9c179e\"],[0.4444444444444444,\"#bd3786\"],[0.5555555555555556,\"#d8576b\"],[0.6666666666666666,\"#ed7953\"],[0.7777777777777778,\"#fb9f3a\"],[0.8888888888888888,\"#fdca26\"],[1.0,\"#f0f921\"]],\"sequentialminus\":[[0.0,\"#0d0887\"],[0.1111111111111111,\"#46039f\"],[0.2222222222222222,\"#7201a8\"],[0.3333333333333333,\"#9c179e\"],[0.4444444444444444,\"#bd3786\"],[0.5555555555555556,\"#d8576b\"],[0.6666666666666666,\"#ed7953\"],[0.7777777777777778,\"#fb9f3a\"],[0.8888888888888888,\"#fdca26\"],[1.0,\"#f0f921\"]]},\"colorway\":[\"#636efa\",\"#EF553B\",\"#00cc96\",\"#ab63fa\",\"#FFA15A\",\"#19d3f3\",\"#FF6692\",\"#B6E880\",\"#FF97FF\",\"#FECB52\"],\"font\":{\"color\":\"#2a3f5f\"},\"geo\":{\"bgcolor\":\"white\",\"lakecolor\":\"white\",\"landcolor\":\"white\",\"showlakes\":true,\"showland\":true,\"subunitcolor\":\"#C8D4E3\"},\"hoverlabel\":{\"align\":\"left\"},\"hovermode\":\"closest\",\"mapbox\":{\"style\":\"light\"},\"paper_bgcolor\":\"white\",\"plot_bgcolor\":\"white\",\"polar\":{\"angularaxis\":{\"gridcolor\":\"#EBF0F8\",\"linecolor\":\"#EBF0F8\",\"ticks\":\"\"},\"bgcolor\":\"white\",\"radialaxis\":{\"gridcolor\":\"#EBF0F8\",\"linecolor\":\"#EBF0F8\",\"ticks\":\"\"}},\"scene\":{\"xaxis\":{\"backgroundcolor\":\"white\",\"gridcolor\":\"#DFE8F3\",\"gridwidth\":2,\"linecolor\":\"#EBF0F8\",\"showbackground\":true,\"ticks\":\"\",\"zerolinecolor\":\"#EBF0F8\"},\"yaxis\":{\"backgroundcolor\":\"white\",\"gridcolor\":\"#DFE8F3\",\"gridwidth\":2,\"linecolor\":\"#EBF0F8\",\"showbackground\":true,\"ticks\":\"\",\"zerolinecolor\":\"#EBF0F8\"},\"zaxis\":{\"backgroundcolor\":\"white\",\"gridcolor\":\"#DFE8F3\",\"gridwidth\":2,\"linecolor\":\"#EBF0F8\",\"showbackground\":true,\"ticks\":\"\",\"zerolinecolor\":\"#EBF0F8\"}},\"shapedefaults\":{\"line\":{\"color\":\"#2a3f5f\"}},\"ternary\":{\"aaxis\":{\"gridcolor\":\"#DFE8F3\",\"linecolor\":\"#A2B1C6\",\"ticks\":\"\"},\"baxis\":{\"gridcolor\":\"#DFE8F3\",\"linecolor\":\"#A2B1C6\",\"ticks\":\"\"},\"bgcolor\":\"white\",\"caxis\":{\"gridcolor\":\"#DFE8F3\",\"linecolor\":\"#A2B1C6\",\"ticks\":\"\"}},\"title\":{\"x\":0.05},\"xaxis\":{\"automargin\":true,\"gridcolor\":\"#EBF0F8\",\"linecolor\":\"#EBF0F8\",\"ticks\":\"\",\"title\":{\"standoff\":15},\"zerolinecolor\":\"#EBF0F8\",\"zerolinewidth\":2},\"yaxis\":{\"automargin\":true,\"gridcolor\":\"#EBF0F8\",\"linecolor\":\"#EBF0F8\",\"ticks\":\"\",\"title\":{\"standoff\":15},\"zerolinecolor\":\"#EBF0F8\",\"zerolinewidth\":2}}},\"xaxis\":{\"anchor\":\"y\",\"domain\":[0.0,0.45],\"title\":{\"text\":\"Epoch\"}},\"yaxis\":{\"anchor\":\"x\",\"domain\":[0.0,1.0],\"tickformat\":\".1%\"},\"xaxis2\":{\"anchor\":\"y2\",\"domain\":[0.55,1.0],\"title\":{\"text\":\"Epoch\"}},\"yaxis2\":{\"anchor\":\"x2\",\"domain\":[0.0,1.0]},\"annotations\":[{\"font\":{\"size\":16},\"showarrow\":false,\"text\":\"Accuracy\",\"x\":0.225,\"xanchor\":\"center\",\"xref\":\"paper\",\"y\":1.0,\"yanchor\":\"bottom\",\"yref\":\"paper\"},{\"font\":{\"size\":16},\"showarrow\":false,\"text\":\"Cross Entropy Loss\",\"x\":0.775,\"xanchor\":\"center\",\"xref\":\"paper\",\"y\":1.0,\"yanchor\":\"bottom\",\"yref\":\"paper\"},{\"font\":{\"size\":23},\"showarrow\":false,\"text\":\"Performance Report\",\"x\":-0.035,\"xref\":\"paper\",\"y\":1.27,\"yref\":\"paper\"},{\"font\":{\"size\":17},\"showarrow\":false,\"text\":\"BERT\",\"x\":-0.035,\"xref\":\"paper\",\"y\":1.18,\"yref\":\"paper\"}]},                        {\"responsive\": true}                    ).then(function(){\n",
              "                            \n",
              "var gd = document.getElementById('4036cba1-3ed2-4c1d-a65a-fefdd779c24b');\n",
              "var x = new MutationObserver(function (mutations, observer) {{\n",
              "        var display = window.getComputedStyle(gd).display;\n",
              "        if (!display || display === 'none') {{\n",
              "            console.log([gd, 'removed!']);\n",
              "            Plotly.purge(gd);\n",
              "            observer.disconnect();\n",
              "        }}\n",
              "}});\n",
              "\n",
              "// Listen for the removal of the full notebook cells\n",
              "var notebookContainer = gd.closest('#notebook-container');\n",
              "if (notebookContainer) {{\n",
              "    x.observe(notebookContainer, {childList: true});\n",
              "}}\n",
              "\n",
              "// Listen for the clearing of the current output cell\n",
              "var outputEl = gd.closest('.output');\n",
              "if (outputEl) {{\n",
              "    x.observe(outputEl, {childList: true});\n",
              "}}\n",
              "\n",
              "                        })                };                            </script>        </div>\n",
              "</body>\n",
              "</html>"
            ]
          },
          "metadata": {}
        }
      ]
    },
    {
      "cell_type": "code",
      "metadata": {
        "id": "Z1v2eNcQKWTF"
      },
      "source": [
        "lr_df = pd.DataFrame(\n",
        "    {\n",
        "        'Learning Rate': hist['lr'],\n",
        "        'Iteration': hist['iterations']\n",
        "    },\n",
        "    index = np.arange(1, len(hist['lr'])+1)\n",
        ")"
      ],
      "execution_count": null,
      "outputs": []
    },
    {
      "cell_type": "code",
      "metadata": {
        "id": "MO99mj8XK40P",
        "colab": {
          "base_uri": "https://localhost:8080/",
          "height": 417
        },
        "outputId": "9ff47ffd-3e80-4619-bedf-8cecd2303424"
      },
      "source": [
        "lr_df"
      ],
      "execution_count": null,
      "outputs": [
        {
          "output_type": "execute_result",
          "data": {
            "text/html": [
              "<div>\n",
              "<style scoped>\n",
              "    .dataframe tbody tr th:only-of-type {\n",
              "        vertical-align: middle;\n",
              "    }\n",
              "\n",
              "    .dataframe tbody tr th {\n",
              "        vertical-align: top;\n",
              "    }\n",
              "\n",
              "    .dataframe thead th {\n",
              "        text-align: right;\n",
              "    }\n",
              "</style>\n",
              "<table border=\"1\" class=\"dataframe\">\n",
              "  <thead>\n",
              "    <tr style=\"text-align: right;\">\n",
              "      <th></th>\n",
              "      <th>Learning Rate</th>\n",
              "      <th>Iteration</th>\n",
              "    </tr>\n",
              "  </thead>\n",
              "  <tbody>\n",
              "    <tr>\n",
              "      <th>1</th>\n",
              "      <td>0.000010</td>\n",
              "      <td>1.0</td>\n",
              "    </tr>\n",
              "    <tr>\n",
              "      <th>2</th>\n",
              "      <td>0.000011</td>\n",
              "      <td>2.0</td>\n",
              "    </tr>\n",
              "    <tr>\n",
              "      <th>3</th>\n",
              "      <td>0.000013</td>\n",
              "      <td>3.0</td>\n",
              "    </tr>\n",
              "    <tr>\n",
              "      <th>4</th>\n",
              "      <td>0.000014</td>\n",
              "      <td>4.0</td>\n",
              "    </tr>\n",
              "    <tr>\n",
              "      <th>5</th>\n",
              "      <td>0.000016</td>\n",
              "      <td>5.0</td>\n",
              "    </tr>\n",
              "    <tr>\n",
              "      <th>...</th>\n",
              "      <td>...</td>\n",
              "      <td>...</td>\n",
              "    </tr>\n",
              "    <tr>\n",
              "      <th>1206</th>\n",
              "      <td>0.000025</td>\n",
              "      <td>1206.0</td>\n",
              "    </tr>\n",
              "    <tr>\n",
              "      <th>1207</th>\n",
              "      <td>0.000023</td>\n",
              "      <td>1207.0</td>\n",
              "    </tr>\n",
              "    <tr>\n",
              "      <th>1208</th>\n",
              "      <td>0.000021</td>\n",
              "      <td>1208.0</td>\n",
              "    </tr>\n",
              "    <tr>\n",
              "      <th>1209</th>\n",
              "      <td>0.000020</td>\n",
              "      <td>1209.0</td>\n",
              "    </tr>\n",
              "    <tr>\n",
              "      <th>1210</th>\n",
              "      <td>0.000018</td>\n",
              "      <td>1210.0</td>\n",
              "    </tr>\n",
              "  </tbody>\n",
              "</table>\n",
              "<p>1210 rows × 2 columns</p>\n",
              "</div>"
            ],
            "text/plain": [
              "      Learning Rate  Iteration\n",
              "1          0.000010        1.0\n",
              "2          0.000011        2.0\n",
              "3          0.000013        3.0\n",
              "4          0.000014        4.0\n",
              "5          0.000016        5.0\n",
              "...             ...        ...\n",
              "1206       0.000025     1206.0\n",
              "1207       0.000023     1207.0\n",
              "1208       0.000021     1208.0\n",
              "1209       0.000020     1209.0\n",
              "1210       0.000018     1210.0\n",
              "\n",
              "[1210 rows x 2 columns]"
            ]
          },
          "metadata": {},
          "execution_count": 125
        }
      ]
    },
    {
      "cell_type": "markdown",
      "source": [
        "#### Visualizing Learning Rate Schedule"
      ],
      "metadata": {
        "id": "llc1TY1ZImHU"
      }
    },
    {
      "cell_type": "code",
      "metadata": {
        "id": "d6ql1TdFQc4J",
        "colab": {
          "base_uri": "https://localhost:8080/",
          "height": 542
        },
        "outputId": "6383f840-98c1-46bb-ef52-1d6d634a3b57"
      },
      "source": [
        "(\n",
        "    px.line(lr_df, x='Iteration', y='Learning Rate', title='LR Schedule (Triangular Lerning Rate Policy)')\n",
        "     .update_traces(line=dict(width=1.5))\n",
        ")"
      ],
      "execution_count": null,
      "outputs": [
        {
          "output_type": "display_data",
          "data": {
            "text/html": [
              "<html>\n",
              "<head><meta charset=\"utf-8\" /></head>\n",
              "<body>\n",
              "    <div>            <script src=\"https://cdnjs.cloudflare.com/ajax/libs/mathjax/2.7.5/MathJax.js?config=TeX-AMS-MML_SVG\"></script><script type=\"text/javascript\">if (window.MathJax) {MathJax.Hub.Config({SVG: {font: \"STIX-Web\"}});}</script>                <script type=\"text/javascript\">window.PlotlyConfig = {MathJaxConfig: 'local'};</script>\n",
              "        <script src=\"https://cdn.plot.ly/plotly-2.6.3.min.js\"></script>                <div id=\"90fed74a-3b9f-43fa-aad9-485fbd3f2a78\" class=\"plotly-graph-div\" style=\"height:525px; width:100%;\"></div>            <script type=\"text/javascript\">                                    window.PLOTLYENV=window.PLOTLYENV || {};                                    if (document.getElementById(\"90fed74a-3b9f-43fa-aad9-485fbd3f2a78\")) {                    Plotly.newPlot(                        \"90fed74a-3b9f-43fa-aad9-485fbd3f2a78\",                        [{\"hovertemplate\":\"Iteration=%{x}<br>Learning Rate=%{y}<extra></extra>\",\"legendgroup\":\"\",\"line\":{\"color\":\"#636efa\",\"dash\":\"solid\",\"width\":1.5},\"marker\":{\"symbol\":\"circle\"},\"mode\":\"lines\",\"name\":\"\",\"showlegend\":false,\"x\":[1.0,2.0,3.0,4.0,5.0,6.0,7.0,8.0,9.0,10.0,11.0,12.0,13.0,14.0,15.0,16.0,17.0,18.0,19.0,20.0,21.0,22.0,23.0,24.0,25.0,26.0,27.0,28.0,29.0,30.0,31.0,32.0,33.0,34.0,35.0,36.0,37.0,38.0,39.0,40.0,41.0,42.0,43.0,44.0,45.0,46.0,47.0,48.0,49.0,50.0,51.0,52.0,53.0,54.0,55.0,56.0,57.0,58.0,59.0,60.0,61.0,62.0,63.0,64.0,65.0,66.0,67.0,68.0,69.0,70.0,71.0,72.0,73.0,74.0,75.0,76.0,77.0,78.0,79.0,80.0,81.0,82.0,83.0,84.0,85.0,86.0,87.0,88.0,89.0,90.0,91.0,92.0,93.0,94.0,95.0,96.0,97.0,98.0,99.0,100.0,101.0,102.0,103.0,104.0,105.0,106.0,107.0,108.0,109.0,110.0,111.0,112.0,113.0,114.0,115.0,116.0,117.0,118.0,119.0,120.0,121.0,122.0,123.0,124.0,125.0,126.0,127.0,128.0,129.0,130.0,131.0,132.0,133.0,134.0,135.0,136.0,137.0,138.0,139.0,140.0,141.0,142.0,143.0,144.0,145.0,146.0,147.0,148.0,149.0,150.0,151.0,152.0,153.0,154.0,155.0,156.0,157.0,158.0,159.0,160.0,161.0,162.0,163.0,164.0,165.0,166.0,167.0,168.0,169.0,170.0,171.0,172.0,173.0,174.0,175.0,176.0,177.0,178.0,179.0,180.0,181.0,182.0,183.0,184.0,185.0,186.0,187.0,188.0,189.0,190.0,191.0,192.0,193.0,194.0,195.0,196.0,197.0,198.0,199.0,200.0,201.0,202.0,203.0,204.0,205.0,206.0,207.0,208.0,209.0,210.0,211.0,212.0,213.0,214.0,215.0,216.0,217.0,218.0,219.0,220.0,221.0,222.0,223.0,224.0,225.0,226.0,227.0,228.0,229.0,230.0,231.0,232.0,233.0,234.0,235.0,236.0,237.0,238.0,239.0,240.0,241.0,242.0,243.0,244.0,245.0,246.0,247.0,248.0,249.0,250.0,251.0,252.0,253.0,254.0,255.0,256.0,257.0,258.0,259.0,260.0,261.0,262.0,263.0,264.0,265.0,266.0,267.0,268.0,269.0,270.0,271.0,272.0,273.0,274.0,275.0,276.0,277.0,278.0,279.0,280.0,281.0,282.0,283.0,284.0,285.0,286.0,287.0,288.0,289.0,290.0,291.0,292.0,293.0,294.0,295.0,296.0,297.0,298.0,299.0,300.0,301.0,302.0,303.0,304.0,305.0,306.0,307.0,308.0,309.0,310.0,311.0,312.0,313.0,314.0,315.0,316.0,317.0,318.0,319.0,320.0,321.0,322.0,323.0,324.0,325.0,326.0,327.0,328.0,329.0,330.0,331.0,332.0,333.0,334.0,335.0,336.0,337.0,338.0,339.0,340.0,341.0,342.0,343.0,344.0,345.0,346.0,347.0,348.0,349.0,350.0,351.0,352.0,353.0,354.0,355.0,356.0,357.0,358.0,359.0,360.0,361.0,362.0,363.0,364.0,365.0,366.0,367.0,368.0,369.0,370.0,371.0,372.0,373.0,374.0,375.0,376.0,377.0,378.0,379.0,380.0,381.0,382.0,383.0,384.0,385.0,386.0,387.0,388.0,389.0,390.0,391.0,392.0,393.0,394.0,395.0,396.0,397.0,398.0,399.0,400.0,401.0,402.0,403.0,404.0,405.0,406.0,407.0,408.0,409.0,410.0,411.0,412.0,413.0,414.0,415.0,416.0,417.0,418.0,419.0,420.0,421.0,422.0,423.0,424.0,425.0,426.0,427.0,428.0,429.0,430.0,431.0,432.0,433.0,434.0,435.0,436.0,437.0,438.0,439.0,440.0,441.0,442.0,443.0,444.0,445.0,446.0,447.0,448.0,449.0,450.0,451.0,452.0,453.0,454.0,455.0,456.0,457.0,458.0,459.0,460.0,461.0,462.0,463.0,464.0,465.0,466.0,467.0,468.0,469.0,470.0,471.0,472.0,473.0,474.0,475.0,476.0,477.0,478.0,479.0,480.0,481.0,482.0,483.0,484.0,485.0,486.0,487.0,488.0,489.0,490.0,491.0,492.0,493.0,494.0,495.0,496.0,497.0,498.0,499.0,500.0,501.0,502.0,503.0,504.0,505.0,506.0,507.0,508.0,509.0,510.0,511.0,512.0,513.0,514.0,515.0,516.0,517.0,518.0,519.0,520.0,521.0,522.0,523.0,524.0,525.0,526.0,527.0,528.0,529.0,530.0,531.0,532.0,533.0,534.0,535.0,536.0,537.0,538.0,539.0,540.0,541.0,542.0,543.0,544.0,545.0,546.0,547.0,548.0,549.0,550.0,551.0,552.0,553.0,554.0,555.0,556.0,557.0,558.0,559.0,560.0,561.0,562.0,563.0,564.0,565.0,566.0,567.0,568.0,569.0,570.0,571.0,572.0,573.0,574.0,575.0,576.0,577.0,578.0,579.0,580.0,581.0,582.0,583.0,584.0,585.0,586.0,587.0,588.0,589.0,590.0,591.0,592.0,593.0,594.0,595.0,596.0,597.0,598.0,599.0,600.0,601.0,602.0,603.0,604.0,605.0,606.0,607.0,608.0,609.0,610.0,611.0,612.0,613.0,614.0,615.0,616.0,617.0,618.0,619.0,620.0,621.0,622.0,623.0,624.0,625.0,626.0,627.0,628.0,629.0,630.0,631.0,632.0,633.0,634.0,635.0,636.0,637.0,638.0,639.0,640.0,641.0,642.0,643.0,644.0,645.0,646.0,647.0,648.0,649.0,650.0,651.0,652.0,653.0,654.0,655.0,656.0,657.0,658.0,659.0,660.0,661.0,662.0,663.0,664.0,665.0,666.0,667.0,668.0,669.0,670.0,671.0,672.0,673.0,674.0,675.0,676.0,677.0,678.0,679.0,680.0,681.0,682.0,683.0,684.0,685.0,686.0,687.0,688.0,689.0,690.0,691.0,692.0,693.0,694.0,695.0,696.0,697.0,698.0,699.0,700.0,701.0,702.0,703.0,704.0,705.0,706.0,707.0,708.0,709.0,710.0,711.0,712.0,713.0,714.0,715.0,716.0,717.0,718.0,719.0,720.0,721.0,722.0,723.0,724.0,725.0,726.0,727.0,728.0,729.0,730.0,731.0,732.0,733.0,734.0,735.0,736.0,737.0,738.0,739.0,740.0,741.0,742.0,743.0,744.0,745.0,746.0,747.0,748.0,749.0,750.0,751.0,752.0,753.0,754.0,755.0,756.0,757.0,758.0,759.0,760.0,761.0,762.0,763.0,764.0,765.0,766.0,767.0,768.0,769.0,770.0,771.0,772.0,773.0,774.0,775.0,776.0,777.0,778.0,779.0,780.0,781.0,782.0,783.0,784.0,785.0,786.0,787.0,788.0,789.0,790.0,791.0,792.0,793.0,794.0,795.0,796.0,797.0,798.0,799.0,800.0,801.0,802.0,803.0,804.0,805.0,806.0,807.0,808.0,809.0,810.0,811.0,812.0,813.0,814.0,815.0,816.0,817.0,818.0,819.0,820.0,821.0,822.0,823.0,824.0,825.0,826.0,827.0,828.0,829.0,830.0,831.0,832.0,833.0,834.0,835.0,836.0,837.0,838.0,839.0,840.0,841.0,842.0,843.0,844.0,845.0,846.0,847.0,848.0,849.0,850.0,851.0,852.0,853.0,854.0,855.0,856.0,857.0,858.0,859.0,860.0,861.0,862.0,863.0,864.0,865.0,866.0,867.0,868.0,869.0,870.0,871.0,872.0,873.0,874.0,875.0,876.0,877.0,878.0,879.0,880.0,881.0,882.0,883.0,884.0,885.0,886.0,887.0,888.0,889.0,890.0,891.0,892.0,893.0,894.0,895.0,896.0,897.0,898.0,899.0,900.0,901.0,902.0,903.0,904.0,905.0,906.0,907.0,908.0,909.0,910.0,911.0,912.0,913.0,914.0,915.0,916.0,917.0,918.0,919.0,920.0,921.0,922.0,923.0,924.0,925.0,926.0,927.0,928.0,929.0,930.0,931.0,932.0,933.0,934.0,935.0,936.0,937.0,938.0,939.0,940.0,941.0,942.0,943.0,944.0,945.0,946.0,947.0,948.0,949.0,950.0,951.0,952.0,953.0,954.0,955.0,956.0,957.0,958.0,959.0,960.0,961.0,962.0,963.0,964.0,965.0,966.0,967.0,968.0,969.0,970.0,971.0,972.0,973.0,974.0,975.0,976.0,977.0,978.0,979.0,980.0,981.0,982.0,983.0,984.0,985.0,986.0,987.0,988.0,989.0,990.0,991.0,992.0,993.0,994.0,995.0,996.0,997.0,998.0,999.0,1000.0,1001.0,1002.0,1003.0,1004.0,1005.0,1006.0,1007.0,1008.0,1009.0,1010.0,1011.0,1012.0,1013.0,1014.0,1015.0,1016.0,1017.0,1018.0,1019.0,1020.0,1021.0,1022.0,1023.0,1024.0,1025.0,1026.0,1027.0,1028.0,1029.0,1030.0,1031.0,1032.0,1033.0,1034.0,1035.0,1036.0,1037.0,1038.0,1039.0,1040.0,1041.0,1042.0,1043.0,1044.0,1045.0,1046.0,1047.0,1048.0,1049.0,1050.0,1051.0,1052.0,1053.0,1054.0,1055.0,1056.0,1057.0,1058.0,1059.0,1060.0,1061.0,1062.0,1063.0,1064.0,1065.0,1066.0,1067.0,1068.0,1069.0,1070.0,1071.0,1072.0,1073.0,1074.0,1075.0,1076.0,1077.0,1078.0,1079.0,1080.0,1081.0,1082.0,1083.0,1084.0,1085.0,1086.0,1087.0,1088.0,1089.0,1090.0,1091.0,1092.0,1093.0,1094.0,1095.0,1096.0,1097.0,1098.0,1099.0,1100.0,1101.0,1102.0,1103.0,1104.0,1105.0,1106.0,1107.0,1108.0,1109.0,1110.0,1111.0,1112.0,1113.0,1114.0,1115.0,1116.0,1117.0,1118.0,1119.0,1120.0,1121.0,1122.0,1123.0,1124.0,1125.0,1126.0,1127.0,1128.0,1129.0,1130.0,1131.0,1132.0,1133.0,1134.0,1135.0,1136.0,1137.0,1138.0,1139.0,1140.0,1141.0,1142.0,1143.0,1144.0,1145.0,1146.0,1147.0,1148.0,1149.0,1150.0,1151.0,1152.0,1153.0,1154.0,1155.0,1156.0,1157.0,1158.0,1159.0,1160.0,1161.0,1162.0,1163.0,1164.0,1165.0,1166.0,1167.0,1168.0,1169.0,1170.0,1171.0,1172.0,1173.0,1174.0,1175.0,1176.0,1177.0,1178.0,1179.0,1180.0,1181.0,1182.0,1183.0,1184.0,1185.0,1186.0,1187.0,1188.0,1189.0,1190.0,1191.0,1192.0,1193.0,1194.0,1195.0,1196.0,1197.0,1198.0,1199.0,1200.0,1201.0,1202.0,1203.0,1204.0,1205.0,1206.0,1207.0,1208.0,1209.0,1210.0],\"xaxis\":\"x\",\"y\":[9.999999747378752e-06,1.147541024693055e-05,1.2950819836987648e-05,1.4426229427044746e-05,1.5901639926596545e-05,1.7377049516653642e-05,1.885245910671074e-05,2.0327868696767837e-05,2.1803278286824934e-05,2.327868787688203e-05,2.475409746693913e-05,2.622950887598563e-05,2.7704918466042727e-05,2.9180328056099825e-05,3.065573764615692e-05,3.213114905520342e-05,3.360655682627112e-05,3.508196823531762e-05,3.655737600638531e-05,3.803278741543181e-05,3.9508195186499506e-05,4.098360659554601e-05,4.245901800459251e-05,4.39344257756602e-05,4.54098371847067e-05,4.68852449557744e-05,4.83606563648209e-05,4.983606413588859e-05,5.131147554493509e-05,5.278688695398159e-05,5.426229472504929e-05,5.573770613409579e-05,5.721311390516348e-05,5.868852531420998e-05,6.0163933085277677e-05,6.163934449432418e-05,6.311475590337068e-05,6.459016731241718e-05,6.606557144550607e-05,6.754098285455257e-05,6.901639426359907e-05,7.049180567264557e-05,7.196720980573446e-05,7.344262121478096e-05,7.491803262382746e-05,7.639344403287396e-05,7.786885544192046e-05,7.934425957500935e-05,8.081967098405585e-05,8.229508239310235e-05,8.377049380214885e-05,8.524590521119535e-05,8.672130934428424e-05,8.819672075333074e-05,8.967213216237724e-05,9.114754357142374e-05,9.262294770451263e-05,9.409835911355913e-05,9.557377052260563e-05,9.704918193165213e-05,9.852459334069863e-05,9.999999747378752e-05,9.836229583015665e-05,9.672458691056818e-05,9.508688526693732e-05,9.344918362330645e-05,9.181147470371798e-05,9.017377306008711e-05,8.853606414049864e-05,8.689836249686778e-05,8.52606535772793e-05,8.362295193364844e-05,8.198524301405996e-05,8.03475413704291e-05,7.870983245084062e-05,7.707213080720976e-05,7.54344291635789e-05,7.379672024399042e-05,7.215901860035956e-05,7.052130968077108e-05,6.888360803714022e-05,6.724589911755174e-05,6.560819747392088e-05,6.39704885543324e-05,6.233278691070154e-05,6.0695081629091874e-05,5.9057376347482204e-05,5.7419671065872535e-05,5.5781965784262866e-05,5.4144260502653196e-05,5.2506558859022334e-05,5.0868853577412665e-05,4.9231148295802996e-05,4.7593443014193326e-05,4.595573773258366e-05,4.431803245097399e-05,4.268032716936432e-05,4.104262188775465e-05,3.940491660614498e-05,3.776721132453531e-05,3.612950968090445e-05,3.449180439929478e-05,3.285409911768511e-05,3.121639383607544e-05,2.957868855446577e-05,2.79409832728561e-05,2.6303277991246432e-05,2.4665574528626166e-05,2.3027869247016497e-05,2.1390163965406828e-05,1.9752458683797158e-05,1.811475340218749e-05,1.6477049939567223e-05,1.4839344657957554e-05,1.3201639376347885e-05,1.1563934094738215e-05,9.926229722623248e-06,8.288524441013578e-06,6.65081961415126e-06,5.0131147872889414e-06,3.3754097330529476e-06,1.7377049061906291e-06,9.999999747378752e-06,1.147541024693055e-05,1.2950819836987648e-05,1.4426229427044746e-05,1.5901639926596545e-05,1.7377049516653642e-05,1.885245910671074e-05,2.0327868696767837e-05,2.1803278286824934e-05,2.327868787688203e-05,2.475409746693913e-05,2.622950887598563e-05,2.7704918466042727e-05,2.9180328056099825e-05,3.065573764615692e-05,3.213114905520342e-05,3.360655682627112e-05,3.508196823531762e-05,3.655737600638531e-05,3.803278741543181e-05,3.9508195186499506e-05,4.098360659554601e-05,4.245901800459251e-05,4.39344257756602e-05,4.54098371847067e-05,4.68852449557744e-05,4.83606563648209e-05,4.983606413588859e-05,5.131147554493509e-05,5.278688695398159e-05,5.426229472504929e-05,5.573770613409579e-05,5.721311390516348e-05,5.868852531420998e-05,6.0163933085277677e-05,6.163934449432418e-05,6.311475590337068e-05,6.459016731241718e-05,6.606557144550607e-05,6.754098285455257e-05,6.901639426359907e-05,7.049180567264557e-05,7.196720980573446e-05,7.344262121478096e-05,7.491803262382746e-05,7.639344403287396e-05,7.786885544192046e-05,7.934425957500935e-05,8.081967098405585e-05,8.229508239310235e-05,8.377049380214885e-05,8.524590521119535e-05,8.672130934428424e-05,8.819672075333074e-05,8.967213216237724e-05,9.114754357142374e-05,9.262294770451263e-05,9.409835911355913e-05,9.557377052260563e-05,9.704918193165213e-05,9.852459334069863e-05,9.999999747378752e-05,9.836229583015665e-05,9.672458691056818e-05,9.508688526693732e-05,9.344918362330645e-05,9.181147470371798e-05,9.017377306008711e-05,8.853606414049864e-05,8.689836249686778e-05,8.52606535772793e-05,8.362295193364844e-05,8.198524301405996e-05,8.03475413704291e-05,7.870983245084062e-05,7.707213080720976e-05,7.54344291635789e-05,7.379672024399042e-05,7.215901860035956e-05,7.052130968077108e-05,6.888360803714022e-05,6.724589911755174e-05,6.560819747392088e-05,6.39704885543324e-05,6.233278691070154e-05,6.0695081629091874e-05,5.9057376347482204e-05,5.7419671065872535e-05,5.5781965784262866e-05,5.4144260502653196e-05,5.2506558859022334e-05,5.0868853577412665e-05,4.9231148295802996e-05,4.7593443014193326e-05,4.595573773258366e-05,4.431803245097399e-05,4.268032716936432e-05,4.104262188775465e-05,3.940491660614498e-05,3.776721132453531e-05,3.612950968090445e-05,3.449180439929478e-05,3.285409911768511e-05,3.121639383607544e-05,2.957868855446577e-05,2.79409832728561e-05,2.6303277991246432e-05,2.4665574528626166e-05,2.3027869247016497e-05,2.1390163965406828e-05,1.9752458683797158e-05,1.811475340218749e-05,1.6477049939567223e-05,1.4839344657957554e-05,1.3201639376347885e-05,1.1563934094738215e-05,9.926229722623248e-06,8.288524441013578e-06,6.65081961415126e-06,5.0131147872889414e-06,3.3754097330529476e-06,1.7377049061906291e-06,9.999999747378752e-06,1.147541024693055e-05,1.2950819836987648e-05,1.4426229427044746e-05,1.5901639926596545e-05,1.7377049516653642e-05,1.885245910671074e-05,2.0327868696767837e-05,2.1803278286824934e-05,2.327868787688203e-05,2.475409746693913e-05,2.622950887598563e-05,2.7704918466042727e-05,2.9180328056099825e-05,3.065573764615692e-05,3.213114905520342e-05,3.360655682627112e-05,3.508196823531762e-05,3.655737600638531e-05,3.803278741543181e-05,3.9508195186499506e-05,4.098360659554601e-05,4.245901800459251e-05,4.39344257756602e-05,4.54098371847067e-05,4.68852449557744e-05,4.83606563648209e-05,4.983606413588859e-05,5.131147554493509e-05,5.278688695398159e-05,5.426229472504929e-05,5.573770613409579e-05,5.721311390516348e-05,5.868852531420998e-05,6.0163933085277677e-05,6.163934449432418e-05,6.311475590337068e-05,6.459016731241718e-05,6.606557144550607e-05,6.754098285455257e-05,6.901639426359907e-05,7.049180567264557e-05,7.196720980573446e-05,7.344262121478096e-05,7.491803262382746e-05,7.639344403287396e-05,7.786885544192046e-05,7.934425957500935e-05,8.081967098405585e-05,8.229508239310235e-05,8.377049380214885e-05,8.524590521119535e-05,8.672130934428424e-05,8.819672075333074e-05,8.967213216237724e-05,9.114754357142374e-05,9.262294770451263e-05,9.409835911355913e-05,9.557377052260563e-05,9.704918193165213e-05,9.852459334069863e-05,9.999999747378752e-05,9.836229583015665e-05,9.672458691056818e-05,9.508688526693732e-05,9.344918362330645e-05,9.181147470371798e-05,9.017377306008711e-05,8.853606414049864e-05,8.689836249686778e-05,8.52606535772793e-05,8.362295193364844e-05,8.198524301405996e-05,8.03475413704291e-05,7.870983245084062e-05,7.707213080720976e-05,7.54344291635789e-05,7.379672024399042e-05,7.215901860035956e-05,7.052130968077108e-05,6.888360803714022e-05,6.724589911755174e-05,6.560819747392088e-05,6.39704885543324e-05,6.233278691070154e-05,6.0695081629091874e-05,5.9057376347482204e-05,5.7419671065872535e-05,5.5781965784262866e-05,5.4144260502653196e-05,5.2506558859022334e-05,5.0868853577412665e-05,4.9231148295802996e-05,4.7593443014193326e-05,4.595573773258366e-05,4.431803245097399e-05,4.268032716936432e-05,4.104262188775465e-05,3.940491660614498e-05,3.776721132453531e-05,3.612950968090445e-05,3.449180439929478e-05,3.285409911768511e-05,3.121639383607544e-05,2.957868855446577e-05,2.79409832728561e-05,2.6303277991246432e-05,2.4665574528626166e-05,2.3027869247016497e-05,2.1390163965406828e-05,1.9752458683797158e-05,1.811475340218749e-05,1.6477049939567223e-05,1.4839344657957554e-05,1.3201639376347885e-05,1.1563934094738215e-05,9.926229722623248e-06,8.288524441013578e-06,6.65081961415126e-06,5.0131147872889414e-06,3.3754097330529476e-06,1.7377049061906291e-06,9.999999747378752e-06,1.147541024693055e-05,1.2950819836987648e-05,1.4426229427044746e-05,1.5901639926596545e-05,1.7377049516653642e-05,1.885245910671074e-05,2.0327868696767837e-05,2.1803278286824934e-05,2.327868787688203e-05,2.475409746693913e-05,2.622950887598563e-05,2.7704918466042727e-05,2.9180328056099825e-05,3.065573764615692e-05,3.213114905520342e-05,3.360655682627112e-05,3.508196823531762e-05,3.655737600638531e-05,3.803278741543181e-05,3.9508195186499506e-05,4.098360659554601e-05,4.245901800459251e-05,4.39344257756602e-05,4.54098371847067e-05,4.68852449557744e-05,4.83606563648209e-05,4.983606413588859e-05,5.131147554493509e-05,5.278688695398159e-05,5.426229472504929e-05,5.573770613409579e-05,5.721311390516348e-05,5.868852531420998e-05,6.0163933085277677e-05,6.163934449432418e-05,6.311475590337068e-05,6.459016731241718e-05,6.606557144550607e-05,6.754098285455257e-05,6.901639426359907e-05,7.049180567264557e-05,7.196720980573446e-05,7.344262121478096e-05,7.491803262382746e-05,7.639344403287396e-05,7.786885544192046e-05,7.934425957500935e-05,8.081967098405585e-05,8.229508239310235e-05,8.377049380214885e-05,8.524590521119535e-05,8.672130934428424e-05,8.819672075333074e-05,8.967213216237724e-05,9.114754357142374e-05,9.262294770451263e-05,9.409835911355913e-05,9.557377052260563e-05,9.704918193165213e-05,9.852459334069863e-05,9.999999747378752e-05,9.836229583015665e-05,9.672458691056818e-05,9.508688526693732e-05,9.344918362330645e-05,9.181147470371798e-05,9.017377306008711e-05,8.853606414049864e-05,8.689836249686778e-05,8.52606535772793e-05,8.362295193364844e-05,8.198524301405996e-05,8.03475413704291e-05,7.870983245084062e-05,7.707213080720976e-05,7.54344291635789e-05,7.379672024399042e-05,7.215901860035956e-05,7.052130968077108e-05,6.888360803714022e-05,6.724589911755174e-05,6.560819747392088e-05,6.39704885543324e-05,6.233278691070154e-05,6.0695081629091874e-05,5.9057376347482204e-05,5.7419671065872535e-05,5.5781965784262866e-05,5.4144260502653196e-05,5.2506558859022334e-05,5.0868853577412665e-05,4.9231148295802996e-05,4.7593443014193326e-05,4.595573773258366e-05,4.431803245097399e-05,4.268032716936432e-05,4.104262188775465e-05,3.940491660614498e-05,3.776721132453531e-05,3.612950968090445e-05,3.449180439929478e-05,3.285409911768511e-05,3.121639383607544e-05,2.957868855446577e-05,2.79409832728561e-05,2.6303277991246432e-05,2.4665574528626166e-05,2.3027869247016497e-05,2.1390163965406828e-05,1.9752458683797158e-05,1.811475340218749e-05,1.6477049939567223e-05,1.4839344657957554e-05,1.3201639376347885e-05,1.1563934094738215e-05,9.926229722623248e-06,8.288524441013578e-06,6.65081961415126e-06,5.0131147872889414e-06,3.3754097330529476e-06,1.7377049061906291e-06,9.999999747378752e-06,1.147541024693055e-05,1.2950819836987648e-05,1.4426229427044746e-05,1.5901639926596545e-05,1.7377049516653642e-05,1.885245910671074e-05,2.0327868696767837e-05,2.1803278286824934e-05,2.327868787688203e-05,2.475409746693913e-05,2.622950887598563e-05,2.7704918466042727e-05,2.9180328056099825e-05,3.065573764615692e-05,3.213114905520342e-05,3.360655682627112e-05,3.508196823531762e-05,3.655737600638531e-05,3.803278741543181e-05,3.9508195186499506e-05,4.098360659554601e-05,4.245901800459251e-05,4.39344257756602e-05,4.54098371847067e-05,4.68852449557744e-05,4.83606563648209e-05,4.983606413588859e-05,5.131147554493509e-05,5.278688695398159e-05,5.426229472504929e-05,5.573770613409579e-05,5.721311390516348e-05,5.868852531420998e-05,6.0163933085277677e-05,6.163934449432418e-05,6.311475590337068e-05,6.459016731241718e-05,6.606557144550607e-05,6.754098285455257e-05,6.901639426359907e-05,7.049180567264557e-05,7.196720980573446e-05,7.344262121478096e-05,7.491803262382746e-05,7.639344403287396e-05,7.786885544192046e-05,7.934425957500935e-05,8.081967098405585e-05,8.229508239310235e-05,8.377049380214885e-05,8.524590521119535e-05,8.672130934428424e-05,8.819672075333074e-05,8.967213216237724e-05,9.114754357142374e-05,9.262294770451263e-05,9.409835911355913e-05,9.557377052260563e-05,9.704918193165213e-05,9.852459334069863e-05,9.999999747378752e-05,9.836229583015665e-05,9.672458691056818e-05,9.508688526693732e-05,9.344918362330645e-05,9.181147470371798e-05,9.017377306008711e-05,8.853606414049864e-05,8.689836249686778e-05,8.52606535772793e-05,8.362295193364844e-05,8.198524301405996e-05,8.03475413704291e-05,7.870983245084062e-05,7.707213080720976e-05,7.54344291635789e-05,7.379672024399042e-05,7.215901860035956e-05,7.052130968077108e-05,6.888360803714022e-05,6.724589911755174e-05,6.560819747392088e-05,6.39704885543324e-05,6.233278691070154e-05,6.0695081629091874e-05,5.9057376347482204e-05,5.7419671065872535e-05,5.5781965784262866e-05,5.4144260502653196e-05,5.2506558859022334e-05,5.0868853577412665e-05,4.9231148295802996e-05,4.7593443014193326e-05,4.595573773258366e-05,4.431803245097399e-05,4.268032716936432e-05,4.104262188775465e-05,3.940491660614498e-05,3.776721132453531e-05,3.612950968090445e-05,3.449180439929478e-05,3.285409911768511e-05,3.121639383607544e-05,2.957868855446577e-05,2.79409832728561e-05,2.6303277991246432e-05,2.4665574528626166e-05,2.3027869247016497e-05,2.1390163965406828e-05,1.9752458683797158e-05,1.811475340218749e-05,1.6477049939567223e-05,1.4839344657957554e-05,1.3201639376347885e-05,1.1563934094738215e-05,9.926229722623248e-06,8.288524441013578e-06,6.65081961415126e-06,5.0131147872889414e-06,3.3754097330529476e-06,1.7377049061906291e-06,9.999999747378752e-06,1.147541024693055e-05,1.2950819836987648e-05,1.4426229427044746e-05,1.5901639926596545e-05,1.7377049516653642e-05,1.885245910671074e-05,2.0327868696767837e-05,2.1803278286824934e-05,2.327868787688203e-05,2.475409746693913e-05,2.622950887598563e-05,2.7704918466042727e-05,2.9180328056099825e-05,3.065573764615692e-05,3.213114905520342e-05,3.360655682627112e-05,3.508196823531762e-05,3.655737600638531e-05,3.803278741543181e-05,3.9508195186499506e-05,4.098360659554601e-05,4.245901800459251e-05,4.39344257756602e-05,4.54098371847067e-05,4.68852449557744e-05,4.83606563648209e-05,4.983606413588859e-05,5.131147554493509e-05,5.278688695398159e-05,5.426229472504929e-05,5.573770613409579e-05,5.721311390516348e-05,5.868852531420998e-05,6.0163933085277677e-05,6.163934449432418e-05,6.311475590337068e-05,6.459016731241718e-05,6.606557144550607e-05,6.754098285455257e-05,6.901639426359907e-05,7.049180567264557e-05,7.196720980573446e-05,7.344262121478096e-05,7.491803262382746e-05,7.639344403287396e-05,7.786885544192046e-05,7.934425957500935e-05,8.081967098405585e-05,8.229508239310235e-05,8.377049380214885e-05,8.524590521119535e-05,8.672130934428424e-05,8.819672075333074e-05,8.967213216237724e-05,9.114754357142374e-05,9.262294770451263e-05,9.409835911355913e-05,9.557377052260563e-05,9.704918193165213e-05,9.852459334069863e-05,9.999999747378752e-05,9.836229583015665e-05,9.672458691056818e-05,9.508688526693732e-05,9.344918362330645e-05,9.181147470371798e-05,9.017377306008711e-05,8.853606414049864e-05,8.689836249686778e-05,8.52606535772793e-05,8.362295193364844e-05,8.198524301405996e-05,8.03475413704291e-05,7.870983245084062e-05,7.707213080720976e-05,7.54344291635789e-05,7.379672024399042e-05,7.215901860035956e-05,7.052130968077108e-05,6.888360803714022e-05,6.724589911755174e-05,6.560819747392088e-05,6.39704885543324e-05,6.233278691070154e-05,6.0695081629091874e-05,5.9057376347482204e-05,5.7419671065872535e-05,5.5781965784262866e-05,5.4144260502653196e-05,5.2506558859022334e-05,5.0868853577412665e-05,4.9231148295802996e-05,4.7593443014193326e-05,4.595573773258366e-05,4.431803245097399e-05,4.268032716936432e-05,4.104262188775465e-05,3.940491660614498e-05,3.776721132453531e-05,3.612950968090445e-05,3.449180439929478e-05,3.285409911768511e-05,3.121639383607544e-05,2.957868855446577e-05,2.79409832728561e-05,2.6303277991246432e-05,2.4665574528626166e-05,2.3027869247016497e-05,2.1390163965406828e-05,1.9752458683797158e-05,1.811475340218749e-05,1.6477049939567223e-05,1.4839344657957554e-05,1.3201639376347885e-05,1.1563934094738215e-05,9.926229722623248e-06,8.288524441013578e-06,6.65081961415126e-06,5.0131147872889414e-06,3.3754097330529476e-06,1.7377049061906291e-06,9.999999747378752e-06,1.147541024693055e-05,1.2950819836987648e-05,1.4426229427044746e-05,1.5901639926596545e-05,1.7377049516653642e-05,1.885245910671074e-05,2.0327868696767837e-05,2.1803278286824934e-05,2.327868787688203e-05,2.475409746693913e-05,2.622950887598563e-05,2.7704918466042727e-05,2.9180328056099825e-05,3.065573764615692e-05,3.213114905520342e-05,3.360655682627112e-05,3.508196823531762e-05,3.655737600638531e-05,3.803278741543181e-05,3.9508195186499506e-05,4.098360659554601e-05,4.245901800459251e-05,4.39344257756602e-05,4.54098371847067e-05,4.68852449557744e-05,4.83606563648209e-05,4.983606413588859e-05,5.131147554493509e-05,5.278688695398159e-05,5.426229472504929e-05,5.573770613409579e-05,5.721311390516348e-05,5.868852531420998e-05,6.0163933085277677e-05,6.163934449432418e-05,6.311475590337068e-05,6.459016731241718e-05,6.606557144550607e-05,6.754098285455257e-05,6.901639426359907e-05,7.049180567264557e-05,7.196720980573446e-05,7.344262121478096e-05,7.491803262382746e-05,7.639344403287396e-05,7.786885544192046e-05,7.934425957500935e-05,8.081967098405585e-05,8.229508239310235e-05,8.377049380214885e-05,8.524590521119535e-05,8.672130934428424e-05,8.819672075333074e-05,8.967213216237724e-05,9.114754357142374e-05,9.262294770451263e-05,9.409835911355913e-05,9.557377052260563e-05,9.704918193165213e-05,9.852459334069863e-05,9.999999747378752e-05,9.836229583015665e-05,9.672458691056818e-05,9.508688526693732e-05,9.344918362330645e-05,9.181147470371798e-05,9.017377306008711e-05,8.853606414049864e-05,8.689836249686778e-05,8.52606535772793e-05,8.362295193364844e-05,8.198524301405996e-05,8.03475413704291e-05,7.870983245084062e-05,7.707213080720976e-05,7.54344291635789e-05,7.379672024399042e-05,7.215901860035956e-05,7.052130968077108e-05,6.888360803714022e-05,6.724589911755174e-05,6.560819747392088e-05,6.39704885543324e-05,6.233278691070154e-05,6.0695081629091874e-05,5.9057376347482204e-05,5.7419671065872535e-05,5.5781965784262866e-05,5.4144260502653196e-05,5.2506558859022334e-05,5.0868853577412665e-05,4.9231148295802996e-05,4.7593443014193326e-05,4.595573773258366e-05,4.431803245097399e-05,4.268032716936432e-05,4.104262188775465e-05,3.940491660614498e-05,3.776721132453531e-05,3.612950968090445e-05,3.449180439929478e-05,3.285409911768511e-05,3.121639383607544e-05,2.957868855446577e-05,2.79409832728561e-05,2.6303277991246432e-05,2.4665574528626166e-05,2.3027869247016497e-05,2.1390163965406828e-05,1.9752458683797158e-05,1.811475340218749e-05,1.6477049939567223e-05,1.4839344657957554e-05,1.3201639376347885e-05,1.1563934094738215e-05,9.926229722623248e-06,8.288524441013578e-06,6.65081961415126e-06,5.0131147872889414e-06,3.3754097330529476e-06,1.7377049061906291e-06,9.999999747378752e-06,1.147541024693055e-05,1.2950819836987648e-05,1.4426229427044746e-05,1.5901639926596545e-05,1.7377049516653642e-05,1.885245910671074e-05,2.0327868696767837e-05,2.1803278286824934e-05,2.327868787688203e-05,2.475409746693913e-05,2.622950887598563e-05,2.7704918466042727e-05,2.9180328056099825e-05,3.065573764615692e-05,3.213114905520342e-05,3.360655682627112e-05,3.508196823531762e-05,3.655737600638531e-05,3.803278741543181e-05,3.9508195186499506e-05,4.098360659554601e-05,4.245901800459251e-05,4.39344257756602e-05,4.54098371847067e-05,4.68852449557744e-05,4.83606563648209e-05,4.983606413588859e-05,5.131147554493509e-05,5.278688695398159e-05,5.426229472504929e-05,5.573770613409579e-05,5.721311390516348e-05,5.868852531420998e-05,6.0163933085277677e-05,6.163934449432418e-05,6.311475590337068e-05,6.459016731241718e-05,6.606557144550607e-05,6.754098285455257e-05,6.901639426359907e-05,7.049180567264557e-05,7.196720980573446e-05,7.344262121478096e-05,7.491803262382746e-05,7.639344403287396e-05,7.786885544192046e-05,7.934425957500935e-05,8.081967098405585e-05,8.229508239310235e-05,8.377049380214885e-05,8.524590521119535e-05,8.672130934428424e-05,8.819672075333074e-05,8.967213216237724e-05,9.114754357142374e-05,9.262294770451263e-05,9.409835911355913e-05,9.557377052260563e-05,9.704918193165213e-05,9.852459334069863e-05,9.999999747378752e-05,9.836229583015665e-05,9.672458691056818e-05,9.508688526693732e-05,9.344918362330645e-05,9.181147470371798e-05,9.017377306008711e-05,8.853606414049864e-05,8.689836249686778e-05,8.52606535772793e-05,8.362295193364844e-05,8.198524301405996e-05,8.03475413704291e-05,7.870983245084062e-05,7.707213080720976e-05,7.54344291635789e-05,7.379672024399042e-05,7.215901860035956e-05,7.052130968077108e-05,6.888360803714022e-05,6.724589911755174e-05,6.560819747392088e-05,6.39704885543324e-05,6.233278691070154e-05,6.0695081629091874e-05,5.9057376347482204e-05,5.7419671065872535e-05,5.5781965784262866e-05,5.4144260502653196e-05,5.2506558859022334e-05,5.0868853577412665e-05,4.9231148295802996e-05,4.7593443014193326e-05,4.595573773258366e-05,4.431803245097399e-05,4.268032716936432e-05,4.104262188775465e-05,3.940491660614498e-05,3.776721132453531e-05,3.612950968090445e-05,3.449180439929478e-05,3.285409911768511e-05,3.121639383607544e-05,2.957868855446577e-05,2.79409832728561e-05,2.6303277991246432e-05,2.4665574528626166e-05,2.3027869247016497e-05,2.1390163965406828e-05,1.9752458683797158e-05,1.811475340218749e-05,1.6477049939567223e-05,1.4839344657957554e-05,1.3201639376347885e-05,1.1563934094738215e-05,9.926229722623248e-06,8.288524441013578e-06,6.65081961415126e-06,5.0131147872889414e-06,3.3754097330529476e-06,1.7377049061906291e-06,9.999999747378752e-06,1.147541024693055e-05,1.2950819836987648e-05,1.4426229427044746e-05,1.5901639926596545e-05,1.7377049516653642e-05,1.885245910671074e-05,2.0327868696767837e-05,2.1803278286824934e-05,2.327868787688203e-05,2.475409746693913e-05,2.622950887598563e-05,2.7704918466042727e-05,2.9180328056099825e-05,3.065573764615692e-05,3.213114905520342e-05,3.360655682627112e-05,3.508196823531762e-05,3.655737600638531e-05,3.803278741543181e-05,3.9508195186499506e-05,4.098360659554601e-05,4.245901800459251e-05,4.39344257756602e-05,4.54098371847067e-05,4.68852449557744e-05,4.83606563648209e-05,4.983606413588859e-05,5.131147554493509e-05,5.278688695398159e-05,5.426229472504929e-05,5.573770613409579e-05,5.721311390516348e-05,5.868852531420998e-05,6.0163933085277677e-05,6.163934449432418e-05,6.311475590337068e-05,6.459016731241718e-05,6.606557144550607e-05,6.754098285455257e-05,6.901639426359907e-05,7.049180567264557e-05,7.196720980573446e-05,7.344262121478096e-05,7.491803262382746e-05,7.639344403287396e-05,7.786885544192046e-05,7.934425957500935e-05,8.081967098405585e-05,8.229508239310235e-05,8.377049380214885e-05,8.524590521119535e-05,8.672130934428424e-05,8.819672075333074e-05,8.967213216237724e-05,9.114754357142374e-05,9.262294770451263e-05,9.409835911355913e-05,9.557377052260563e-05,9.704918193165213e-05,9.852459334069863e-05,9.999999747378752e-05,9.836229583015665e-05,9.672458691056818e-05,9.508688526693732e-05,9.344918362330645e-05,9.181147470371798e-05,9.017377306008711e-05,8.853606414049864e-05,8.689836249686778e-05,8.52606535772793e-05,8.362295193364844e-05,8.198524301405996e-05,8.03475413704291e-05,7.870983245084062e-05,7.707213080720976e-05,7.54344291635789e-05,7.379672024399042e-05,7.215901860035956e-05,7.052130968077108e-05,6.888360803714022e-05,6.724589911755174e-05,6.560819747392088e-05,6.39704885543324e-05,6.233278691070154e-05,6.0695081629091874e-05,5.9057376347482204e-05,5.7419671065872535e-05,5.5781965784262866e-05,5.4144260502653196e-05,5.2506558859022334e-05,5.0868853577412665e-05,4.9231148295802996e-05,4.7593443014193326e-05,4.595573773258366e-05,4.431803245097399e-05,4.268032716936432e-05,4.104262188775465e-05,3.940491660614498e-05,3.776721132453531e-05,3.612950968090445e-05,3.449180439929478e-05,3.285409911768511e-05,3.121639383607544e-05,2.957868855446577e-05,2.79409832728561e-05,2.6303277991246432e-05,2.4665574528626166e-05,2.3027869247016497e-05,2.1390163965406828e-05,1.9752458683797158e-05,1.811475340218749e-05,1.6477049939567223e-05,1.4839344657957554e-05,1.3201639376347885e-05,1.1563934094738215e-05,9.926229722623248e-06,8.288524441013578e-06,6.65081961415126e-06,5.0131147872889414e-06,3.3754097330529476e-06,1.7377049061906291e-06,9.999999747378752e-06,1.147541024693055e-05,1.2950819836987648e-05,1.4426229427044746e-05,1.5901639926596545e-05,1.7377049516653642e-05,1.885245910671074e-05,2.0327868696767837e-05,2.1803278286824934e-05,2.327868787688203e-05,2.475409746693913e-05,2.622950887598563e-05,2.7704918466042727e-05,2.9180328056099825e-05,3.065573764615692e-05,3.213114905520342e-05,3.360655682627112e-05,3.508196823531762e-05,3.655737600638531e-05,3.803278741543181e-05,3.9508195186499506e-05,4.098360659554601e-05,4.245901800459251e-05,4.39344257756602e-05,4.54098371847067e-05,4.68852449557744e-05,4.83606563648209e-05,4.983606413588859e-05,5.131147554493509e-05,5.278688695398159e-05,5.426229472504929e-05,5.573770613409579e-05,5.721311390516348e-05,5.868852531420998e-05,6.0163933085277677e-05,6.163934449432418e-05,6.311475590337068e-05,6.459016731241718e-05,6.606557144550607e-05,6.754098285455257e-05,6.901639426359907e-05,7.049180567264557e-05,7.196720980573446e-05,7.344262121478096e-05,7.491803262382746e-05,7.639344403287396e-05,7.786885544192046e-05,7.934425957500935e-05,8.081967098405585e-05,8.229508239310235e-05,8.377049380214885e-05,8.524590521119535e-05,8.672130934428424e-05,8.819672075333074e-05,8.967213216237724e-05,9.114754357142374e-05,9.262294770451263e-05,9.409835911355913e-05,9.557377052260563e-05,9.704918193165213e-05,9.852459334069863e-05,9.999999747378752e-05,9.836229583015665e-05,9.672458691056818e-05,9.508688526693732e-05,9.344918362330645e-05,9.181147470371798e-05,9.017377306008711e-05,8.853606414049864e-05,8.689836249686778e-05,8.52606535772793e-05,8.362295193364844e-05,8.198524301405996e-05,8.03475413704291e-05,7.870983245084062e-05,7.707213080720976e-05,7.54344291635789e-05,7.379672024399042e-05,7.215901860035956e-05,7.052130968077108e-05,6.888360803714022e-05,6.724589911755174e-05,6.560819747392088e-05,6.39704885543324e-05,6.233278691070154e-05,6.0695081629091874e-05,5.9057376347482204e-05,5.7419671065872535e-05,5.5781965784262866e-05,5.4144260502653196e-05,5.2506558859022334e-05,5.0868853577412665e-05,4.9231148295802996e-05,4.7593443014193326e-05,4.595573773258366e-05,4.431803245097399e-05,4.268032716936432e-05,4.104262188775465e-05,3.940491660614498e-05,3.776721132453531e-05,3.612950968090445e-05,3.449180439929478e-05,3.285409911768511e-05,3.121639383607544e-05,2.957868855446577e-05,2.79409832728561e-05,2.6303277991246432e-05,2.4665574528626166e-05,2.3027869247016497e-05,2.1390163965406828e-05,1.9752458683797158e-05,1.811475340218749e-05],\"yaxis\":\"y\",\"type\":\"scattergl\"}],                        {\"template\":{\"data\":{\"bar\":[{\"error_x\":{\"color\":\"#2a3f5f\"},\"error_y\":{\"color\":\"#2a3f5f\"},\"marker\":{\"line\":{\"color\":\"white\",\"width\":0.5},\"pattern\":{\"fillmode\":\"overlay\",\"size\":10,\"solidity\":0.2}},\"type\":\"bar\"}],\"barpolar\":[{\"marker\":{\"line\":{\"color\":\"white\",\"width\":0.5},\"pattern\":{\"fillmode\":\"overlay\",\"size\":10,\"solidity\":0.2}},\"type\":\"barpolar\"}],\"carpet\":[{\"aaxis\":{\"endlinecolor\":\"#2a3f5f\",\"gridcolor\":\"#C8D4E3\",\"linecolor\":\"#C8D4E3\",\"minorgridcolor\":\"#C8D4E3\",\"startlinecolor\":\"#2a3f5f\"},\"baxis\":{\"endlinecolor\":\"#2a3f5f\",\"gridcolor\":\"#C8D4E3\",\"linecolor\":\"#C8D4E3\",\"minorgridcolor\":\"#C8D4E3\",\"startlinecolor\":\"#2a3f5f\"},\"type\":\"carpet\"}],\"choropleth\":[{\"colorbar\":{\"outlinewidth\":0,\"ticks\":\"\"},\"type\":\"choropleth\"}],\"contour\":[{\"colorbar\":{\"outlinewidth\":0,\"ticks\":\"\"},\"colorscale\":[[0.0,\"#0d0887\"],[0.1111111111111111,\"#46039f\"],[0.2222222222222222,\"#7201a8\"],[0.3333333333333333,\"#9c179e\"],[0.4444444444444444,\"#bd3786\"],[0.5555555555555556,\"#d8576b\"],[0.6666666666666666,\"#ed7953\"],[0.7777777777777778,\"#fb9f3a\"],[0.8888888888888888,\"#fdca26\"],[1.0,\"#f0f921\"]],\"type\":\"contour\"}],\"contourcarpet\":[{\"colorbar\":{\"outlinewidth\":0,\"ticks\":\"\"},\"type\":\"contourcarpet\"}],\"heatmap\":[{\"colorbar\":{\"outlinewidth\":0,\"ticks\":\"\"},\"colorscale\":[[0.0,\"#0d0887\"],[0.1111111111111111,\"#46039f\"],[0.2222222222222222,\"#7201a8\"],[0.3333333333333333,\"#9c179e\"],[0.4444444444444444,\"#bd3786\"],[0.5555555555555556,\"#d8576b\"],[0.6666666666666666,\"#ed7953\"],[0.7777777777777778,\"#fb9f3a\"],[0.8888888888888888,\"#fdca26\"],[1.0,\"#f0f921\"]],\"type\":\"heatmap\"}],\"heatmapgl\":[{\"colorbar\":{\"outlinewidth\":0,\"ticks\":\"\"},\"colorscale\":[[0.0,\"#0d0887\"],[0.1111111111111111,\"#46039f\"],[0.2222222222222222,\"#7201a8\"],[0.3333333333333333,\"#9c179e\"],[0.4444444444444444,\"#bd3786\"],[0.5555555555555556,\"#d8576b\"],[0.6666666666666666,\"#ed7953\"],[0.7777777777777778,\"#fb9f3a\"],[0.8888888888888888,\"#fdca26\"],[1.0,\"#f0f921\"]],\"type\":\"heatmapgl\"}],\"histogram\":[{\"marker\":{\"pattern\":{\"fillmode\":\"overlay\",\"size\":10,\"solidity\":0.2}},\"type\":\"histogram\"}],\"histogram2d\":[{\"colorbar\":{\"outlinewidth\":0,\"ticks\":\"\"},\"colorscale\":[[0.0,\"#0d0887\"],[0.1111111111111111,\"#46039f\"],[0.2222222222222222,\"#7201a8\"],[0.3333333333333333,\"#9c179e\"],[0.4444444444444444,\"#bd3786\"],[0.5555555555555556,\"#d8576b\"],[0.6666666666666666,\"#ed7953\"],[0.7777777777777778,\"#fb9f3a\"],[0.8888888888888888,\"#fdca26\"],[1.0,\"#f0f921\"]],\"type\":\"histogram2d\"}],\"histogram2dcontour\":[{\"colorbar\":{\"outlinewidth\":0,\"ticks\":\"\"},\"colorscale\":[[0.0,\"#0d0887\"],[0.1111111111111111,\"#46039f\"],[0.2222222222222222,\"#7201a8\"],[0.3333333333333333,\"#9c179e\"],[0.4444444444444444,\"#bd3786\"],[0.5555555555555556,\"#d8576b\"],[0.6666666666666666,\"#ed7953\"],[0.7777777777777778,\"#fb9f3a\"],[0.8888888888888888,\"#fdca26\"],[1.0,\"#f0f921\"]],\"type\":\"histogram2dcontour\"}],\"mesh3d\":[{\"colorbar\":{\"outlinewidth\":0,\"ticks\":\"\"},\"type\":\"mesh3d\"}],\"parcoords\":[{\"line\":{\"colorbar\":{\"outlinewidth\":0,\"ticks\":\"\"}},\"type\":\"parcoords\"}],\"pie\":[{\"automargin\":true,\"type\":\"pie\"}],\"scatter\":[{\"marker\":{\"colorbar\":{\"outlinewidth\":0,\"ticks\":\"\"}},\"type\":\"scatter\"}],\"scatter3d\":[{\"line\":{\"colorbar\":{\"outlinewidth\":0,\"ticks\":\"\"}},\"marker\":{\"colorbar\":{\"outlinewidth\":0,\"ticks\":\"\"}},\"type\":\"scatter3d\"}],\"scattercarpet\":[{\"marker\":{\"colorbar\":{\"outlinewidth\":0,\"ticks\":\"\"}},\"type\":\"scattercarpet\"}],\"scattergeo\":[{\"marker\":{\"colorbar\":{\"outlinewidth\":0,\"ticks\":\"\"}},\"type\":\"scattergeo\"}],\"scattergl\":[{\"marker\":{\"colorbar\":{\"outlinewidth\":0,\"ticks\":\"\"}},\"type\":\"scattergl\"}],\"scattermapbox\":[{\"marker\":{\"colorbar\":{\"outlinewidth\":0,\"ticks\":\"\"}},\"type\":\"scattermapbox\"}],\"scatterpolar\":[{\"marker\":{\"colorbar\":{\"outlinewidth\":0,\"ticks\":\"\"}},\"type\":\"scatterpolar\"}],\"scatterpolargl\":[{\"marker\":{\"colorbar\":{\"outlinewidth\":0,\"ticks\":\"\"}},\"type\":\"scatterpolargl\"}],\"scatterternary\":[{\"marker\":{\"colorbar\":{\"outlinewidth\":0,\"ticks\":\"\"}},\"type\":\"scatterternary\"}],\"surface\":[{\"colorbar\":{\"outlinewidth\":0,\"ticks\":\"\"},\"colorscale\":[[0.0,\"#0d0887\"],[0.1111111111111111,\"#46039f\"],[0.2222222222222222,\"#7201a8\"],[0.3333333333333333,\"#9c179e\"],[0.4444444444444444,\"#bd3786\"],[0.5555555555555556,\"#d8576b\"],[0.6666666666666666,\"#ed7953\"],[0.7777777777777778,\"#fb9f3a\"],[0.8888888888888888,\"#fdca26\"],[1.0,\"#f0f921\"]],\"type\":\"surface\"}],\"table\":[{\"cells\":{\"fill\":{\"color\":\"#EBF0F8\"},\"line\":{\"color\":\"white\"}},\"header\":{\"fill\":{\"color\":\"#C8D4E3\"},\"line\":{\"color\":\"white\"}},\"type\":\"table\"}]},\"layout\":{\"annotationdefaults\":{\"arrowcolor\":\"#2a3f5f\",\"arrowhead\":0,\"arrowwidth\":1},\"autotypenumbers\":\"strict\",\"coloraxis\":{\"colorbar\":{\"outlinewidth\":0,\"ticks\":\"\"}},\"colorscale\":{\"diverging\":[[0,\"#8e0152\"],[0.1,\"#c51b7d\"],[0.2,\"#de77ae\"],[0.3,\"#f1b6da\"],[0.4,\"#fde0ef\"],[0.5,\"#f7f7f7\"],[0.6,\"#e6f5d0\"],[0.7,\"#b8e186\"],[0.8,\"#7fbc41\"],[0.9,\"#4d9221\"],[1,\"#276419\"]],\"sequential\":[[0.0,\"#0d0887\"],[0.1111111111111111,\"#46039f\"],[0.2222222222222222,\"#7201a8\"],[0.3333333333333333,\"#9c179e\"],[0.4444444444444444,\"#bd3786\"],[0.5555555555555556,\"#d8576b\"],[0.6666666666666666,\"#ed7953\"],[0.7777777777777778,\"#fb9f3a\"],[0.8888888888888888,\"#fdca26\"],[1.0,\"#f0f921\"]],\"sequentialminus\":[[0.0,\"#0d0887\"],[0.1111111111111111,\"#46039f\"],[0.2222222222222222,\"#7201a8\"],[0.3333333333333333,\"#9c179e\"],[0.4444444444444444,\"#bd3786\"],[0.5555555555555556,\"#d8576b\"],[0.6666666666666666,\"#ed7953\"],[0.7777777777777778,\"#fb9f3a\"],[0.8888888888888888,\"#fdca26\"],[1.0,\"#f0f921\"]]},\"colorway\":[\"#636efa\",\"#EF553B\",\"#00cc96\",\"#ab63fa\",\"#FFA15A\",\"#19d3f3\",\"#FF6692\",\"#B6E880\",\"#FF97FF\",\"#FECB52\"],\"font\":{\"color\":\"#2a3f5f\"},\"geo\":{\"bgcolor\":\"white\",\"lakecolor\":\"white\",\"landcolor\":\"white\",\"showlakes\":true,\"showland\":true,\"subunitcolor\":\"#C8D4E3\"},\"hoverlabel\":{\"align\":\"left\"},\"hovermode\":\"closest\",\"mapbox\":{\"style\":\"light\"},\"paper_bgcolor\":\"white\",\"plot_bgcolor\":\"white\",\"polar\":{\"angularaxis\":{\"gridcolor\":\"#EBF0F8\",\"linecolor\":\"#EBF0F8\",\"ticks\":\"\"},\"bgcolor\":\"white\",\"radialaxis\":{\"gridcolor\":\"#EBF0F8\",\"linecolor\":\"#EBF0F8\",\"ticks\":\"\"}},\"scene\":{\"xaxis\":{\"backgroundcolor\":\"white\",\"gridcolor\":\"#DFE8F3\",\"gridwidth\":2,\"linecolor\":\"#EBF0F8\",\"showbackground\":true,\"ticks\":\"\",\"zerolinecolor\":\"#EBF0F8\"},\"yaxis\":{\"backgroundcolor\":\"white\",\"gridcolor\":\"#DFE8F3\",\"gridwidth\":2,\"linecolor\":\"#EBF0F8\",\"showbackground\":true,\"ticks\":\"\",\"zerolinecolor\":\"#EBF0F8\"},\"zaxis\":{\"backgroundcolor\":\"white\",\"gridcolor\":\"#DFE8F3\",\"gridwidth\":2,\"linecolor\":\"#EBF0F8\",\"showbackground\":true,\"ticks\":\"\",\"zerolinecolor\":\"#EBF0F8\"}},\"shapedefaults\":{\"line\":{\"color\":\"#2a3f5f\"}},\"ternary\":{\"aaxis\":{\"gridcolor\":\"#DFE8F3\",\"linecolor\":\"#A2B1C6\",\"ticks\":\"\"},\"baxis\":{\"gridcolor\":\"#DFE8F3\",\"linecolor\":\"#A2B1C6\",\"ticks\":\"\"},\"bgcolor\":\"white\",\"caxis\":{\"gridcolor\":\"#DFE8F3\",\"linecolor\":\"#A2B1C6\",\"ticks\":\"\"}},\"title\":{\"x\":0.05},\"xaxis\":{\"automargin\":true,\"gridcolor\":\"#EBF0F8\",\"linecolor\":\"#EBF0F8\",\"ticks\":\"\",\"title\":{\"standoff\":15},\"zerolinecolor\":\"#EBF0F8\",\"zerolinewidth\":2},\"yaxis\":{\"automargin\":true,\"gridcolor\":\"#EBF0F8\",\"linecolor\":\"#EBF0F8\",\"ticks\":\"\",\"title\":{\"standoff\":15},\"zerolinecolor\":\"#EBF0F8\",\"zerolinewidth\":2}}},\"xaxis\":{\"anchor\":\"y\",\"domain\":[0.0,1.0],\"title\":{\"text\":\"Iteration\"}},\"yaxis\":{\"anchor\":\"x\",\"domain\":[0.0,1.0],\"title\":{\"text\":\"Learning Rate\"}},\"legend\":{\"tracegroupgap\":0},\"title\":{\"text\":\"LR Schedule (Triangular Lerning Rate Policy)\"}},                        {\"responsive\": true}                    ).then(function(){\n",
              "                            \n",
              "var gd = document.getElementById('90fed74a-3b9f-43fa-aad9-485fbd3f2a78');\n",
              "var x = new MutationObserver(function (mutations, observer) {{\n",
              "        var display = window.getComputedStyle(gd).display;\n",
              "        if (!display || display === 'none') {{\n",
              "            console.log([gd, 'removed!']);\n",
              "            Plotly.purge(gd);\n",
              "            observer.disconnect();\n",
              "        }}\n",
              "}});\n",
              "\n",
              "// Listen for the removal of the full notebook cells\n",
              "var notebookContainer = gd.closest('#notebook-container');\n",
              "if (notebookContainer) {{\n",
              "    x.observe(notebookContainer, {childList: true});\n",
              "}}\n",
              "\n",
              "// Listen for the clearing of the current output cell\n",
              "var outputEl = gd.closest('.output');\n",
              "if (outputEl) {{\n",
              "    x.observe(outputEl, {childList: true});\n",
              "}}\n",
              "\n",
              "                        })                };                            </script>        </div>\n",
              "</body>\n",
              "</html>"
            ]
          },
          "metadata": {}
        }
      ]
    },
    {
      "cell_type": "code",
      "metadata": {
        "id": "HKe5DX2QD--c"
      },
      "source": [],
      "execution_count": null,
      "outputs": []
    }
  ]
}